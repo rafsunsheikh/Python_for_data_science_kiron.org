{
 "cells": [
  {
   "cell_type": "markdown",
   "metadata": {},
   "source": [
    "# Session 3b\n",
    "Rabbani Mozahid, Hernando Vera\n",
    "<br>\n",
    "<br>\n",
    "\n",
    "# Pandas\n",
    "\n",
    "*pandas* is a Python library for data analysis. It offers a number of data exploration, cleaning and transformation operations that are critical in working with data in Python. \n",
    "\n",
    "*pandas* build upon *numpy* and *scipy* providing easy-to-use data structures and data manipulation functions with integrated indexing.\n",
    "\n",
    "The main data structures *pandas* provides are *Series* and *DataFrames*. After a brief introduction to these two data structures and data ingestion, the key features of *pandas* this notebook covers are:\n",
    "* Generating descriptive statistics on data\n",
    "* Data cleaning using built in pandas functions\n",
    "* Frequent data operations for subsetting, filtering, insertion, deletion and aggregation of data\n",
    "* Merging multiple datasets using dataframes\n",
    "* Working with timestamps and time-series data\n",
    "\n",
    "**Additional Recommended Resources:**\n",
    "* *pandas* Documentation: http://pandas.pydata.org/pandas-docs/stable/\n",
    "* *Python for Data Analysis* by Wes McKinney\n",
    "* *Python Data Science Handbook* by Jake VanderPlas\n",
    "\n",
    "Let's get started with our first *pandas* notebook!"
   ]
  },
  {
   "cell_type": "markdown",
   "metadata": {},
   "source": [
    "<p style=\"font-family: Arial; font-size:1.75em;color:#2462C0; font-style:bold\"><br>\n",
    "\n",
    "Import Libraries\n",
    "</p>"
   ]
  },
  {
   "cell_type": "code",
   "execution_count": 24,
   "metadata": {
    "collapsed": false,
    "jupyter": {
     "outputs_hidden": false
    }
   },
   "outputs": [],
   "source": [
    "import pandas as pd\n",
    "import numpy as np\n",
    "import matplotlib.pyplot as plt\n",
    "import seaborn as sns\n",
    "from matplotlib.pyplot import pie, axis, show\n",
    "from IPython.display import Markdown, display\n",
    "from plotly.offline import init_notebook_mode, iplot"
   ]
  },
  {
   "cell_type": "markdown",
   "metadata": {},
   "source": [
    "<p style=\"font-family: Arial; font-size:1.75em;color:#2462C0; font-style:bold\">\n",
    "Introduction to pandas Data Structures</p>\n",
    "<br>\n",
    "*pandas* has two main data structures it uses, namely, *Series* and *DataFrames*. \n",
    "\n",
    "<p style=\"font-family: Arial; font-size:1.75em;color:#2462C0; font-style:bold\">\n",
    "pandas Series</p>\n",
    "\n",
    "### *pandas Series* one-dimensional labeled array. \n"
   ]
  },
  {
   "cell_type": "code",
   "execution_count": 25,
   "metadata": {
    "collapsed": false,
    "jupyter": {
     "outputs_hidden": false
    }
   },
   "outputs": [
    {
     "data": {
      "text/plain": [
       "bob        95\n",
       "rose    forty\n",
       "sue        30\n",
       "tom     sixty\n",
       "eve        75\n",
       "dtype: object"
      ]
     },
     "execution_count": 25,
     "metadata": {},
     "output_type": "execute_result"
    }
   ],
   "source": [
    "# pandas Series - one-dimensional labeled array\n",
    "ser1=pd.Series([95, 'forty', 30, 'sixty', 75], \n",
    "['bob', 'rose', 'sue', 'tom', 'eve'])\n",
    "ser1"
   ]
  },
  {
   "cell_type": "markdown",
   "metadata": {},
   "source": [
    "ser1.index"
   ]
  },
  {
   "cell_type": "code",
   "execution_count": 26,
   "metadata": {
    "collapsed": false,
    "jupyter": {
     "outputs_hidden": false
    }
   },
   "outputs": [
    {
     "data": {
      "text/plain": [
       "sue       30\n",
       "tom    sixty\n",
       "dtype: object"
      ]
     },
     "execution_count": 26,
     "metadata": {},
     "output_type": "execute_result"
    }
   ],
   "source": [
    "ser1.loc[['sue','tom']]"
   ]
  },
  {
   "cell_type": "code",
   "execution_count": 27,
   "metadata": {
    "collapsed": false,
    "jupyter": {
     "outputs_hidden": false
    }
   },
   "outputs": [
    {
     "data": {
      "text/plain": [
       "eve        75\n",
       "tom     sixty\n",
       "rose    forty\n",
       "dtype: object"
      ]
     },
     "execution_count": 27,
     "metadata": {},
     "output_type": "execute_result"
    }
   ],
   "source": [
    "ser1[[4, 3, 1]]"
   ]
  },
  {
   "cell_type": "code",
   "execution_count": 28,
   "metadata": {
    "collapsed": false,
    "jupyter": {
     "outputs_hidden": false
    }
   },
   "outputs": [
    {
     "data": {
      "text/plain": [
       "30"
      ]
     },
     "execution_count": 28,
     "metadata": {},
     "output_type": "execute_result"
    }
   ],
   "source": [
    "ser1.iloc[2]"
   ]
  },
  {
   "cell_type": "code",
   "execution_count": 29,
   "metadata": {
    "collapsed": false,
    "jupyter": {
     "outputs_hidden": false
    }
   },
   "outputs": [
    {
     "data": {
      "text/plain": [
       "True"
      ]
     },
     "execution_count": 29,
     "metadata": {},
     "output_type": "execute_result"
    }
   ],
   "source": [
    "'bob' in ser1"
   ]
  },
  {
   "cell_type": "code",
   "execution_count": 30,
   "metadata": {
    "collapsed": false,
    "jupyter": {
     "outputs_hidden": false
    }
   },
   "outputs": [
    {
     "data": {
      "text/plain": [
       "bob            190\n",
       "rose    fortyforty\n",
       "sue             60\n",
       "tom     sixtysixty\n",
       "eve            150\n",
       "dtype: object"
      ]
     },
     "execution_count": 30,
     "metadata": {},
     "output_type": "execute_result"
    }
   ],
   "source": [
    "ser1 * 2"
   ]
  },
  {
   "cell_type": "code",
   "execution_count": 31,
   "metadata": {
    "collapsed": false,
    "jupyter": {
     "outputs_hidden": false
    }
   },
   "outputs": [
    {
     "data": {
      "text/plain": [
       "bob    9025\n",
       "sue     900\n",
       "dtype: object"
      ]
     },
     "execution_count": 31,
     "metadata": {},
     "output_type": "execute_result"
    }
   ],
   "source": [
    "ser1[['bob', 'sue']] ** 2"
   ]
  },
  {
   "cell_type": "markdown",
   "metadata": {},
   "source": [
    "\n",
    "### *pandas DataFrame* is a 2-dimensional labeled data structure."
   ]
  },
  {
   "cell_type": "markdown",
   "metadata": {},
   "source": [
    "<p style=\"font-family: Arial; font-size:1.25em;color:#2462C0; font-style:bold\">\n",
    "Create DataFrame from dictionary of Python Series</p>"
   ]
  },
  {
   "cell_type": "code",
   "execution_count": 32,
   "metadata": {},
   "outputs": [
    {
     "name": "stdout",
     "output_type": "stream",
     "text": [
      "a    1\n",
      "b    2\n",
      "c    3\n",
      "dtype: int64\n",
      "a    2\n",
      "b    4\n",
      "c    6\n",
      "d    7\n",
      "dtype: int64\n"
     ]
    }
   ],
   "source": [
    "ser1=pd.Series([1, 2, 3], index=['a', 'b', 'c'])\n",
    "ser2=pd.Series([2, 4, 6, 7], index=['a', 'b', 'c', 'd'])\n",
    "print (ser1)\n",
    "print (ser2)"
   ]
  },
  {
   "cell_type": "code",
   "execution_count": 33,
   "metadata": {},
   "outputs": [
    {
     "name": "stdout",
     "output_type": "stream",
     "text": [
      "   one  two\n",
      "a  1.0    2\n",
      "b  2.0    4\n",
      "c  3.0    6\n",
      "d  NaN    7\n"
     ]
    }
   ],
   "source": [
    "d = {'one' : ser1,\n",
    "     'two' : ser2}\n",
    "df = pd.DataFrame(d)\n",
    "print(df)"
   ]
  },
  {
   "cell_type": "code",
   "execution_count": 34,
   "metadata": {
    "collapsed": false,
    "jupyter": {
     "outputs_hidden": false
    }
   },
   "outputs": [
    {
     "data": {
      "text/plain": [
       "Index(['a', 'b', 'c', 'd'], dtype='object')"
      ]
     },
     "execution_count": 34,
     "metadata": {},
     "output_type": "execute_result"
    }
   ],
   "source": [
    "df.index"
   ]
  },
  {
   "cell_type": "code",
   "execution_count": 35,
   "metadata": {
    "collapsed": false,
    "jupyter": {
     "outputs_hidden": false
    }
   },
   "outputs": [
    {
     "data": {
      "text/plain": [
       "Index(['one', 'two'], dtype='object')"
      ]
     },
     "execution_count": 35,
     "metadata": {},
     "output_type": "execute_result"
    }
   ],
   "source": [
    "df.columns"
   ]
  },
  {
   "cell_type": "code",
   "execution_count": 36,
   "metadata": {},
   "outputs": [
    {
     "data": {
      "text/plain": [
       "{'one': a    1\n",
       " b    2\n",
       " c    3\n",
       " dtype: int64,\n",
       " 'two': a    2\n",
       " b    4\n",
       " c    6\n",
       " d    7\n",
       " dtype: int64}"
      ]
     },
     "execution_count": 36,
     "metadata": {},
     "output_type": "execute_result"
    }
   ],
   "source": [
    "d"
   ]
  },
  {
   "cell_type": "code",
   "execution_count": 37,
   "metadata": {
    "collapsed": false,
    "jupyter": {
     "outputs_hidden": false
    }
   },
   "outputs": [
    {
     "data": {
      "text/html": [
       "<div>\n",
       "<style scoped>\n",
       "    .dataframe tbody tr th:only-of-type {\n",
       "        vertical-align: middle;\n",
       "    }\n",
       "\n",
       "    .dataframe tbody tr th {\n",
       "        vertical-align: top;\n",
       "    }\n",
       "\n",
       "    .dataframe thead th {\n",
       "        text-align: right;\n",
       "    }\n",
       "</style>\n",
       "<table border=\"1\" class=\"dataframe\">\n",
       "  <thead>\n",
       "    <tr style=\"text-align: right;\">\n",
       "      <th></th>\n",
       "      <th>one</th>\n",
       "      <th>two</th>\n",
       "    </tr>\n",
       "  </thead>\n",
       "  <tbody>\n",
       "    <tr>\n",
       "      <th>b</th>\n",
       "      <td>2</td>\n",
       "      <td>4</td>\n",
       "    </tr>\n",
       "    <tr>\n",
       "      <th>c</th>\n",
       "      <td>3</td>\n",
       "      <td>6</td>\n",
       "    </tr>\n",
       "  </tbody>\n",
       "</table>\n",
       "</div>"
      ],
      "text/plain": [
       "   one  two\n",
       "b    2    4\n",
       "c    3    6"
      ]
     },
     "execution_count": 37,
     "metadata": {},
     "output_type": "execute_result"
    }
   ],
   "source": [
    "# Creating a dataframe with selected indexes\n",
    "pd.DataFrame(d, index=[ 'b', 'c'])"
   ]
  },
  {
   "cell_type": "code",
   "execution_count": 38,
   "metadata": {
    "collapsed": false,
    "jupyter": {
     "outputs_hidden": false
    }
   },
   "outputs": [
    {
     "data": {
      "text/html": [
       "<div>\n",
       "<style scoped>\n",
       "    .dataframe tbody tr th:only-of-type {\n",
       "        vertical-align: middle;\n",
       "    }\n",
       "\n",
       "    .dataframe tbody tr th {\n",
       "        vertical-align: top;\n",
       "    }\n",
       "\n",
       "    .dataframe thead th {\n",
       "        text-align: right;\n",
       "    }\n",
       "</style>\n",
       "<table border=\"1\" class=\"dataframe\">\n",
       "  <thead>\n",
       "    <tr style=\"text-align: right;\">\n",
       "      <th></th>\n",
       "      <th>two</th>\n",
       "      <th>three</th>\n",
       "    </tr>\n",
       "  </thead>\n",
       "  <tbody>\n",
       "    <tr>\n",
       "      <th>d</th>\n",
       "      <td>7</td>\n",
       "      <td>NaN</td>\n",
       "    </tr>\n",
       "    <tr>\n",
       "      <th>b</th>\n",
       "      <td>4</td>\n",
       "      <td>NaN</td>\n",
       "    </tr>\n",
       "    <tr>\n",
       "      <th>a</th>\n",
       "      <td>2</td>\n",
       "      <td>NaN</td>\n",
       "    </tr>\n",
       "  </tbody>\n",
       "</table>\n",
       "</div>"
      ],
      "text/plain": [
       "   two three\n",
       "d    7   NaN\n",
       "b    4   NaN\n",
       "a    2   NaN"
      ]
     },
     "execution_count": 38,
     "metadata": {},
     "output_type": "execute_result"
    }
   ],
   "source": [
    "pd.DataFrame(d, index=['d', 'b', 'a'], columns=['two', 'three'])"
   ]
  },
  {
   "cell_type": "markdown",
   "metadata": {},
   "source": [
    "<p style=\"font-family: Arial; font-size:1.25em;color:#2462C0; font-style:bold\">\n",
    "Create DataFrame from list of Python dictionaries</p>"
   ]
  },
  {
   "cell_type": "code",
   "execution_count": 39,
   "metadata": {},
   "outputs": [],
   "source": [
    "data = [{'alex': 1, 'joe': 2}, {'ema': 5, 'dora': 10, 'alice': 20}]"
   ]
  },
  {
   "cell_type": "code",
   "execution_count": 40,
   "metadata": {
    "collapsed": false,
    "jupyter": {
     "outputs_hidden": false
    }
   },
   "outputs": [],
   "source": [
    "df1=pd.DataFrame(data)"
   ]
  },
  {
   "cell_type": "code",
   "execution_count": 41,
   "metadata": {},
   "outputs": [
    {
     "data": {
      "text/html": [
       "<div>\n",
       "<style scoped>\n",
       "    .dataframe tbody tr th:only-of-type {\n",
       "        vertical-align: middle;\n",
       "    }\n",
       "\n",
       "    .dataframe tbody tr th {\n",
       "        vertical-align: top;\n",
       "    }\n",
       "\n",
       "    .dataframe thead th {\n",
       "        text-align: right;\n",
       "    }\n",
       "</style>\n",
       "<table border=\"1\" class=\"dataframe\">\n",
       "  <thead>\n",
       "    <tr style=\"text-align: right;\">\n",
       "      <th></th>\n",
       "      <th>alex</th>\n",
       "      <th>joe</th>\n",
       "      <th>ema</th>\n",
       "      <th>dora</th>\n",
       "      <th>alice</th>\n",
       "    </tr>\n",
       "  </thead>\n",
       "  <tbody>\n",
       "    <tr>\n",
       "      <th>0</th>\n",
       "      <td>1.0</td>\n",
       "      <td>2.0</td>\n",
       "      <td>NaN</td>\n",
       "      <td>NaN</td>\n",
       "      <td>NaN</td>\n",
       "    </tr>\n",
       "    <tr>\n",
       "      <th>1</th>\n",
       "      <td>NaN</td>\n",
       "      <td>NaN</td>\n",
       "      <td>5.0</td>\n",
       "      <td>10.0</td>\n",
       "      <td>20.0</td>\n",
       "    </tr>\n",
       "  </tbody>\n",
       "</table>\n",
       "</div>"
      ],
      "text/plain": [
       "   alex  joe  ema  dora  alice\n",
       "0   1.0  2.0  NaN   NaN    NaN\n",
       "1   NaN  NaN  5.0  10.0   20.0"
      ]
     },
     "execution_count": 41,
     "metadata": {},
     "output_type": "execute_result"
    }
   ],
   "source": [
    "df1"
   ]
  },
  {
   "cell_type": "markdown",
   "metadata": {},
   "source": [
    "### Reading from Clipbpard"
   ]
  },
  {
   "cell_type": "raw",
   "metadata": {},
   "source": [
    "1,0,3,\"Braund, Mr. Owen Harris\",male,22,1,0,A/5 21171,7.25,,S\n",
    "2,1,1,\"Cumings, Mrs. John Bradley (Florence Briggs Thayer)\",female,38,1,0,PC 17599,71.2833,C85,C\n",
    "3,1,3,\"Heikkinen, Miss. Laina\",female,26,0,0,STON/O2. 3101282,7.925,,S\n",
    "4,1,1,\"Futrelle, Mrs. Jacques Heath (Lily May Peel)\",female,35,1,0,113803,53.1,C123,S\n",
    "5,0,3,\"Allen, Mr. William Henry\",male,35,0,0,373450,8.05,,S\n",
    "6,0,3,\"Moran, Mr. James\",male,,0,0,330877,8.4583,,Q\n",
    "7,0,1,\"McCarthy, Mr. Timothy J\",male,54,0,0,17463,51.8625,E46,S\n",
    "8,0,3,\"Palsson, Master. Gosta Leonard\",male,2,3,1,349909,21.075,,S\n",
    "9,1,3,\"Johnson, Mrs. Oscar W (Elisabeth Vilhelmina Berg)\",female,27,0,2,347742,11.1333,,S\n",
    "10,1,2,\"Nasser, Mrs. Nicholas (Adele Achem)\",female,14,1,0,237736,30.0708,,C\n",
    "11,1,3,\"Sandstrom, Miss. Marguerite Rut\",female,4,1,1,PP 9549,16.7,G6,S\n",
    "12,1,1,\"Bonnell, Miss. Elizabeth\",female,58,0,0,113783,26.55,C103,S\n",
    "13,0,3,\"Saundercock, Mr. William Henry\",male,20,0,0,A/5. 2151,8.05,,S\n",
    "14,0,3,\"Andersson, Mr. Anders Johan\",male,39,1,5,347082,31.275,,S\n",
    "15,0,3,\"Vestrom, Miss. Hulda Amanda Adolfina\",female,14,0,0,350406,7.8542,,S\n",
    "16,1,2,\"Hewlett, Mrs. (Mary D Kingcome) \",female,55,0,0,248706,16,,S\n",
    "17,0,3,\"Rice, Master. Eugene\",male,2,4,1,382652,29.125,,Q\n",
    "18,1,2,\"Williams, Mr. Charles Eugene\",male,,0,0,244373,13,,S\n",
    "19,0,3,\"Vander Planke, Mrs. Julius (Emelia Maria Vandemoortele)\",female,31,1,0,345763,18,,S\n",
    "20,1,3,\"Masselmani, Mrs. Fatima\",female,,0,0,2649,7.225,,C\n",
    "21,0,2,\"Fynney, Mr. Joseph J\",male,35,0,0,239865,26,,S\n",
    "22,1,2,\"Beesley, Mr. Lawrence\",male,34,0,0,248698,13,D56,S\n",
    "23,1,3,\"McGowan, Miss. Anna \"\"Annie\"\"\",female,15,0,0,330923,8.0292,,Q\n",
    "24,1,1,\"Sloper, Mr. William Thompson\",male,28,0,0,113788,35.5,A6,S\n",
    "25,0,3,\"Palsson, Miss. Torborg Danira\",female,8,3,1,349909,21.075,,S\n",
    "26,1,3,\"Asplund, Mrs. Carl Oscar (Selma Augusta Emilia Johansson)\",female,38,1,5,347077,31.3875,,S\n",
    "27,0,3,\"Emir, Mr. Farred Chehab\",male,,0,0,2631,7.225,,C\n",
    "28,0,1,\"Fortune, Mr. Charles Alexander\",male,19,3,2,19950,263,C23 C25 C27,S"
   ]
  },
  {
   "cell_type": "code",
   "execution_count": 42,
   "metadata": {},
   "outputs": [
    {
     "data": {
      "text/html": [
       "<div>\n",
       "<style scoped>\n",
       "    .dataframe tbody tr th:only-of-type {\n",
       "        vertical-align: middle;\n",
       "    }\n",
       "\n",
       "    .dataframe tbody tr th {\n",
       "        vertical-align: top;\n",
       "    }\n",
       "\n",
       "    .dataframe thead th {\n",
       "        text-align: right;\n",
       "    }\n",
       "</style>\n",
       "<table border=\"1\" class=\"dataframe\">\n",
       "  <thead>\n",
       "    <tr style=\"text-align: right;\">\n",
       "      <th></th>\n",
       "      <th>PassengerId</th>\n",
       "      <th>Survived</th>\n",
       "      <th>Pclass</th>\n",
       "      <th>Name</th>\n",
       "      <th>Sex</th>\n",
       "      <th>Age</th>\n",
       "      <th>SibSp</th>\n",
       "      <th>Parch</th>\n",
       "      <th>Ticket</th>\n",
       "      <th>Fare</th>\n",
       "      <th>Cabin</th>\n",
       "      <th>Embarked</th>\n",
       "    </tr>\n",
       "  </thead>\n",
       "  <tbody>\n",
       "    <tr>\n",
       "      <th>0</th>\n",
       "      <td>####</td>\n",
       "      <td>Select</td>\n",
       "      <td>the</td>\n",
       "      <td>loanID</td>\n",
       "      <td>column</td>\n",
       "      <td>NaN</td>\n",
       "      <td>NaN</td>\n",
       "      <td>NaN</td>\n",
       "      <td>NaN</td>\n",
       "      <td>NaN</td>\n",
       "      <td>NaN</td>\n",
       "      <td>NaN</td>\n",
       "    </tr>\n",
       "  </tbody>\n",
       "</table>\n",
       "</div>"
      ],
      "text/plain": [
       "  PassengerId Survived Pclass    Name     Sex  Age  SibSp  Parch  Ticket  \\\n",
       "0        ####   Select    the  loanID  column  NaN    NaN    NaN     NaN   \n",
       "\n",
       "   Fare  Cabin  Embarked  \n",
       "0   NaN    NaN       NaN  "
      ]
     },
     "execution_count": 42,
     "metadata": {},
     "output_type": "execute_result"
    }
   ],
   "source": [
    "import pandas as pd\n",
    "columns = [\n",
    "    'PassengerId', 'Survived', 'Pclass', 'Name',\n",
    "    'Sex', 'Age', 'SibSp', 'Parch', 'Ticket', 'Fare',\n",
    "    'Cabin', 'Embarked',\n",
    "]\n",
    "pd.read_clipboard(header=None, names=columns)"
   ]
  },
  {
   "cell_type": "markdown",
   "metadata": {},
   "source": [
    "<p style=\"font-family: Arial; font-size:1.25em;color:#2462C0; font-style:bold\">\n",
    "Basic DataFrame operations</p>"
   ]
  },
  {
   "cell_type": "code",
   "execution_count": 43,
   "metadata": {
    "collapsed": false,
    "jupyter": {
     "outputs_hidden": false
    }
   },
   "outputs": [
    {
     "name": "stdout",
     "output_type": "stream",
     "text": [
      "   one  two\n",
      "a  1.0    2\n",
      "b  2.0    4\n",
      "c  3.0    6\n",
      "d  NaN    7\n"
     ]
    }
   ],
   "source": [
    "print(df)"
   ]
  },
  {
   "cell_type": "code",
   "execution_count": 44,
   "metadata": {},
   "outputs": [
    {
     "data": {
      "text/plain": [
       "a    1.0\n",
       "b    2.0\n",
       "c    3.0\n",
       "d    NaN\n",
       "Name: one, dtype: float64"
      ]
     },
     "execution_count": 44,
     "metadata": {},
     "output_type": "execute_result"
    }
   ],
   "source": [
    "#Selecting column\n",
    "df['one']"
   ]
  },
  {
   "cell_type": "code",
   "execution_count": 45,
   "metadata": {},
   "outputs": [
    {
     "data": {
      "text/plain": [
       "one    2.0\n",
       "two    4.0\n",
       "Name: b, dtype: float64"
      ]
     },
     "execution_count": 45,
     "metadata": {},
     "output_type": "execute_result"
    }
   ],
   "source": [
    "#selecting row\n",
    "df.loc['b']"
   ]
  },
  {
   "cell_type": "code",
   "execution_count": 46,
   "metadata": {},
   "outputs": [
    {
     "data": {
      "text/plain": [
       "one    1.0\n",
       "two    2.0\n",
       "Name: a, dtype: float64"
      ]
     },
     "execution_count": 46,
     "metadata": {},
     "output_type": "execute_result"
    }
   ],
   "source": [
    "#selecting rows based on position\n",
    "df.iloc[0]"
   ]
  },
  {
   "cell_type": "code",
   "execution_count": 47,
   "metadata": {},
   "outputs": [
    {
     "data": {
      "text/html": [
       "<div>\n",
       "<style scoped>\n",
       "    .dataframe tbody tr th:only-of-type {\n",
       "        vertical-align: middle;\n",
       "    }\n",
       "\n",
       "    .dataframe tbody tr th {\n",
       "        vertical-align: top;\n",
       "    }\n",
       "\n",
       "    .dataframe thead th {\n",
       "        text-align: right;\n",
       "    }\n",
       "</style>\n",
       "<table border=\"1\" class=\"dataframe\">\n",
       "  <thead>\n",
       "    <tr style=\"text-align: right;\">\n",
       "      <th></th>\n",
       "      <th>one</th>\n",
       "      <th>two</th>\n",
       "    </tr>\n",
       "  </thead>\n",
       "  <tbody>\n",
       "    <tr>\n",
       "      <th>c</th>\n",
       "      <td>3.0</td>\n",
       "      <td>6</td>\n",
       "    </tr>\n",
       "    <tr>\n",
       "      <th>d</th>\n",
       "      <td>NaN</td>\n",
       "      <td>7</td>\n",
       "    </tr>\n",
       "  </tbody>\n",
       "</table>\n",
       "</div>"
      ],
      "text/plain": [
       "   one  two\n",
       "c  3.0    6\n",
       "d  NaN    7"
      ]
     },
     "execution_count": 47,
     "metadata": {},
     "output_type": "execute_result"
    }
   ],
   "source": [
    "#Selecting rows based on condition\n",
    "df[df['two']>4]"
   ]
  },
  {
   "cell_type": "code",
   "execution_count": 48,
   "metadata": {
    "collapsed": false,
    "jupyter": {
     "outputs_hidden": false
    }
   },
   "outputs": [
    {
     "data": {
      "text/html": [
       "<div>\n",
       "<style scoped>\n",
       "    .dataframe tbody tr th:only-of-type {\n",
       "        vertical-align: middle;\n",
       "    }\n",
       "\n",
       "    .dataframe tbody tr th {\n",
       "        vertical-align: top;\n",
       "    }\n",
       "\n",
       "    .dataframe thead th {\n",
       "        text-align: right;\n",
       "    }\n",
       "</style>\n",
       "<table border=\"1\" class=\"dataframe\">\n",
       "  <thead>\n",
       "    <tr style=\"text-align: right;\">\n",
       "      <th></th>\n",
       "      <th>one</th>\n",
       "      <th>two</th>\n",
       "      <th>three</th>\n",
       "    </tr>\n",
       "  </thead>\n",
       "  <tbody>\n",
       "    <tr>\n",
       "      <th>a</th>\n",
       "      <td>1.0</td>\n",
       "      <td>2</td>\n",
       "      <td>2.0</td>\n",
       "    </tr>\n",
       "    <tr>\n",
       "      <th>b</th>\n",
       "      <td>2.0</td>\n",
       "      <td>4</td>\n",
       "      <td>8.0</td>\n",
       "    </tr>\n",
       "    <tr>\n",
       "      <th>c</th>\n",
       "      <td>3.0</td>\n",
       "      <td>6</td>\n",
       "      <td>18.0</td>\n",
       "    </tr>\n",
       "    <tr>\n",
       "      <th>d</th>\n",
       "      <td>NaN</td>\n",
       "      <td>7</td>\n",
       "      <td>NaN</td>\n",
       "    </tr>\n",
       "  </tbody>\n",
       "</table>\n",
       "</div>"
      ],
      "text/plain": [
       "   one  two  three\n",
       "a  1.0    2    2.0\n",
       "b  2.0    4    8.0\n",
       "c  3.0    6   18.0\n",
       "d  NaN    7    NaN"
      ]
     },
     "execution_count": 48,
     "metadata": {},
     "output_type": "execute_result"
    }
   ],
   "source": [
    "#Adding a column\n",
    "df['three'] = df['one'] * df['two']\n",
    "df"
   ]
  },
  {
   "cell_type": "code",
   "execution_count": 49,
   "metadata": {
    "collapsed": false,
    "jupyter": {
     "outputs_hidden": false
    }
   },
   "outputs": [
    {
     "data": {
      "text/html": [
       "<div>\n",
       "<style scoped>\n",
       "    .dataframe tbody tr th:only-of-type {\n",
       "        vertical-align: middle;\n",
       "    }\n",
       "\n",
       "    .dataframe tbody tr th {\n",
       "        vertical-align: top;\n",
       "    }\n",
       "\n",
       "    .dataframe thead th {\n",
       "        text-align: right;\n",
       "    }\n",
       "</style>\n",
       "<table border=\"1\" class=\"dataframe\">\n",
       "  <thead>\n",
       "    <tr style=\"text-align: right;\">\n",
       "      <th></th>\n",
       "      <th>one</th>\n",
       "      <th>two</th>\n",
       "      <th>three</th>\n",
       "      <th>flag</th>\n",
       "    </tr>\n",
       "  </thead>\n",
       "  <tbody>\n",
       "    <tr>\n",
       "      <th>a</th>\n",
       "      <td>1.0</td>\n",
       "      <td>2</td>\n",
       "      <td>2.0</td>\n",
       "      <td>False</td>\n",
       "    </tr>\n",
       "    <tr>\n",
       "      <th>b</th>\n",
       "      <td>2.0</td>\n",
       "      <td>4</td>\n",
       "      <td>8.0</td>\n",
       "      <td>False</td>\n",
       "    </tr>\n",
       "    <tr>\n",
       "      <th>c</th>\n",
       "      <td>3.0</td>\n",
       "      <td>6</td>\n",
       "      <td>18.0</td>\n",
       "      <td>False</td>\n",
       "    </tr>\n",
       "    <tr>\n",
       "      <th>d</th>\n",
       "      <td>NaN</td>\n",
       "      <td>7</td>\n",
       "      <td>NaN</td>\n",
       "      <td>False</td>\n",
       "    </tr>\n",
       "  </tbody>\n",
       "</table>\n",
       "</div>"
      ],
      "text/plain": [
       "   one  two  three   flag\n",
       "a  1.0    2    2.0  False\n",
       "b  2.0    4    8.0  False\n",
       "c  3.0    6   18.0  False\n",
       "d  NaN    7    NaN  False"
      ]
     },
     "execution_count": 49,
     "metadata": {},
     "output_type": "execute_result"
    }
   ],
   "source": [
    "#adding a flag\n",
    "df['flag'] = df['one'] > 250\n",
    "df"
   ]
  },
  {
   "cell_type": "code",
   "execution_count": 50,
   "metadata": {},
   "outputs": [],
   "source": [
    "# deleting a column\n",
    "del df['two']"
   ]
  },
  {
   "cell_type": "code",
   "execution_count": 51,
   "metadata": {
    "collapsed": false,
    "jupyter": {
     "outputs_hidden": false
    }
   },
   "outputs": [
    {
     "data": {
      "text/html": [
       "<div>\n",
       "<style scoped>\n",
       "    .dataframe tbody tr th:only-of-type {\n",
       "        vertical-align: middle;\n",
       "    }\n",
       "\n",
       "    .dataframe tbody tr th {\n",
       "        vertical-align: top;\n",
       "    }\n",
       "\n",
       "    .dataframe thead th {\n",
       "        text-align: right;\n",
       "    }\n",
       "</style>\n",
       "<table border=\"1\" class=\"dataframe\">\n",
       "  <thead>\n",
       "    <tr style=\"text-align: right;\">\n",
       "      <th></th>\n",
       "      <th>one</th>\n",
       "      <th>three</th>\n",
       "      <th>flag</th>\n",
       "    </tr>\n",
       "  </thead>\n",
       "  <tbody>\n",
       "    <tr>\n",
       "      <th>a</th>\n",
       "      <td>1.0</td>\n",
       "      <td>2.0</td>\n",
       "      <td>False</td>\n",
       "    </tr>\n",
       "    <tr>\n",
       "      <th>b</th>\n",
       "      <td>2.0</td>\n",
       "      <td>8.0</td>\n",
       "      <td>False</td>\n",
       "    </tr>\n",
       "    <tr>\n",
       "      <th>c</th>\n",
       "      <td>3.0</td>\n",
       "      <td>18.0</td>\n",
       "      <td>False</td>\n",
       "    </tr>\n",
       "    <tr>\n",
       "      <th>d</th>\n",
       "      <td>NaN</td>\n",
       "      <td>NaN</td>\n",
       "      <td>False</td>\n",
       "    </tr>\n",
       "  </tbody>\n",
       "</table>\n",
       "</div>"
      ],
      "text/plain": [
       "   one  three   flag\n",
       "a  1.0    2.0  False\n",
       "b  2.0    8.0  False\n",
       "c  3.0   18.0  False\n",
       "d  NaN    NaN  False"
      ]
     },
     "execution_count": 51,
     "metadata": {},
     "output_type": "execute_result"
    }
   ],
   "source": [
    "df"
   ]
  },
  {
   "cell_type": "code",
   "execution_count": 52,
   "metadata": {
    "collapsed": false,
    "jupyter": {
     "outputs_hidden": false
    }
   },
   "outputs": [
    {
     "data": {
      "text/html": [
       "<div>\n",
       "<style scoped>\n",
       "    .dataframe tbody tr th:only-of-type {\n",
       "        vertical-align: middle;\n",
       "    }\n",
       "\n",
       "    .dataframe tbody tr th {\n",
       "        vertical-align: top;\n",
       "    }\n",
       "\n",
       "    .dataframe thead th {\n",
       "        text-align: right;\n",
       "    }\n",
       "</style>\n",
       "<table border=\"1\" class=\"dataframe\">\n",
       "  <thead>\n",
       "    <tr style=\"text-align: right;\">\n",
       "      <th></th>\n",
       "      <th>one</th>\n",
       "      <th>three</th>\n",
       "      <th>copy_of_one</th>\n",
       "      <th>flag</th>\n",
       "    </tr>\n",
       "  </thead>\n",
       "  <tbody>\n",
       "    <tr>\n",
       "      <th>a</th>\n",
       "      <td>1.0</td>\n",
       "      <td>2.0</td>\n",
       "      <td>1.0</td>\n",
       "      <td>False</td>\n",
       "    </tr>\n",
       "    <tr>\n",
       "      <th>b</th>\n",
       "      <td>2.0</td>\n",
       "      <td>8.0</td>\n",
       "      <td>2.0</td>\n",
       "      <td>False</td>\n",
       "    </tr>\n",
       "    <tr>\n",
       "      <th>c</th>\n",
       "      <td>3.0</td>\n",
       "      <td>18.0</td>\n",
       "      <td>3.0</td>\n",
       "      <td>False</td>\n",
       "    </tr>\n",
       "    <tr>\n",
       "      <th>d</th>\n",
       "      <td>NaN</td>\n",
       "      <td>NaN</td>\n",
       "      <td>NaN</td>\n",
       "      <td>False</td>\n",
       "    </tr>\n",
       "  </tbody>\n",
       "</table>\n",
       "</div>"
      ],
      "text/plain": [
       "   one  three  copy_of_one   flag\n",
       "a  1.0    2.0          1.0  False\n",
       "b  2.0    8.0          2.0  False\n",
       "c  3.0   18.0          3.0  False\n",
       "d  NaN    NaN          NaN  False"
      ]
     },
     "execution_count": 52,
     "metadata": {},
     "output_type": "execute_result"
    }
   ],
   "source": [
    "df.insert(2, 'copy_of_one', df['one'])\n",
    "df"
   ]
  },
  {
   "cell_type": "code",
   "execution_count": 53,
   "metadata": {
    "collapsed": false,
    "jupyter": {
     "outputs_hidden": false
    }
   },
   "outputs": [
    {
     "data": {
      "text/html": [
       "<div>\n",
       "<style scoped>\n",
       "    .dataframe tbody tr th:only-of-type {\n",
       "        vertical-align: middle;\n",
       "    }\n",
       "\n",
       "    .dataframe tbody tr th {\n",
       "        vertical-align: top;\n",
       "    }\n",
       "\n",
       "    .dataframe thead th {\n",
       "        text-align: right;\n",
       "    }\n",
       "</style>\n",
       "<table border=\"1\" class=\"dataframe\">\n",
       "  <thead>\n",
       "    <tr style=\"text-align: right;\">\n",
       "      <th></th>\n",
       "      <th>one</th>\n",
       "      <th>three</th>\n",
       "      <th>copy_of_one</th>\n",
       "      <th>flag</th>\n",
       "      <th>one_upper_half</th>\n",
       "    </tr>\n",
       "  </thead>\n",
       "  <tbody>\n",
       "    <tr>\n",
       "      <th>a</th>\n",
       "      <td>1.0</td>\n",
       "      <td>2.0</td>\n",
       "      <td>1.0</td>\n",
       "      <td>False</td>\n",
       "      <td>1.0</td>\n",
       "    </tr>\n",
       "    <tr>\n",
       "      <th>b</th>\n",
       "      <td>2.0</td>\n",
       "      <td>8.0</td>\n",
       "      <td>2.0</td>\n",
       "      <td>False</td>\n",
       "      <td>2.0</td>\n",
       "    </tr>\n",
       "    <tr>\n",
       "      <th>c</th>\n",
       "      <td>3.0</td>\n",
       "      <td>18.0</td>\n",
       "      <td>3.0</td>\n",
       "      <td>False</td>\n",
       "      <td>NaN</td>\n",
       "    </tr>\n",
       "    <tr>\n",
       "      <th>d</th>\n",
       "      <td>NaN</td>\n",
       "      <td>NaN</td>\n",
       "      <td>NaN</td>\n",
       "      <td>False</td>\n",
       "      <td>NaN</td>\n",
       "    </tr>\n",
       "  </tbody>\n",
       "</table>\n",
       "</div>"
      ],
      "text/plain": [
       "   one  three  copy_of_one   flag  one_upper_half\n",
       "a  1.0    2.0          1.0  False             1.0\n",
       "b  2.0    8.0          2.0  False             2.0\n",
       "c  3.0   18.0          3.0  False             NaN\n",
       "d  NaN    NaN          NaN  False             NaN"
      ]
     },
     "execution_count": 53,
     "metadata": {},
     "output_type": "execute_result"
    }
   ],
   "source": [
    "df['one_upper_half'] = df['one'][:2]\n",
    "df"
   ]
  },
  {
   "cell_type": "code",
   "execution_count": 54,
   "metadata": {},
   "outputs": [
    {
     "data": {
      "text/plain": [
       "one                True\n",
       "three              True\n",
       "copy_of_one        True\n",
       "flag              False\n",
       "one_upper_half     True\n",
       "dtype: bool"
      ]
     },
     "execution_count": 54,
     "metadata": {},
     "output_type": "execute_result"
    }
   ],
   "source": [
    "#Checking null values\n",
    "df.isnull().any()"
   ]
  },
  {
   "cell_type": "code",
   "execution_count": 55,
   "metadata": {},
   "outputs": [
    {
     "data": {
      "text/plain": [
       "one               1\n",
       "three             1\n",
       "copy_of_one       1\n",
       "flag              0\n",
       "one_upper_half    2\n",
       "dtype: int64"
      ]
     },
     "execution_count": 55,
     "metadata": {},
     "output_type": "execute_result"
    }
   ],
   "source": [
    "#Counting null values\n",
    "df.isnull().sum()"
   ]
  },
  {
   "cell_type": "code",
   "execution_count": 56,
   "metadata": {},
   "outputs": [
    {
     "data": {
      "text/html": [
       "<div>\n",
       "<style scoped>\n",
       "    .dataframe tbody tr th:only-of-type {\n",
       "        vertical-align: middle;\n",
       "    }\n",
       "\n",
       "    .dataframe tbody tr th {\n",
       "        vertical-align: top;\n",
       "    }\n",
       "\n",
       "    .dataframe thead th {\n",
       "        text-align: right;\n",
       "    }\n",
       "</style>\n",
       "<table border=\"1\" class=\"dataframe\">\n",
       "  <thead>\n",
       "    <tr style=\"text-align: right;\">\n",
       "      <th></th>\n",
       "      <th>one</th>\n",
       "      <th>three</th>\n",
       "      <th>copy_of_one</th>\n",
       "      <th>flag</th>\n",
       "      <th>one_upper_half</th>\n",
       "    </tr>\n",
       "  </thead>\n",
       "  <tbody>\n",
       "    <tr>\n",
       "      <th>a</th>\n",
       "      <td>1.0</td>\n",
       "      <td>2.0</td>\n",
       "      <td>1.0</td>\n",
       "      <td>False</td>\n",
       "      <td>1.0</td>\n",
       "    </tr>\n",
       "    <tr>\n",
       "      <th>b</th>\n",
       "      <td>2.0</td>\n",
       "      <td>8.0</td>\n",
       "      <td>2.0</td>\n",
       "      <td>False</td>\n",
       "      <td>2.0</td>\n",
       "    </tr>\n",
       "    <tr>\n",
       "      <th>c</th>\n",
       "      <td>3.0</td>\n",
       "      <td>18.0</td>\n",
       "      <td>3.0</td>\n",
       "      <td>False</td>\n",
       "      <td>NaN</td>\n",
       "    </tr>\n",
       "    <tr>\n",
       "      <th>d</th>\n",
       "      <td>0.0</td>\n",
       "      <td>NaN</td>\n",
       "      <td>NaN</td>\n",
       "      <td>False</td>\n",
       "      <td>NaN</td>\n",
       "    </tr>\n",
       "  </tbody>\n",
       "</table>\n",
       "</div>"
      ],
      "text/plain": [
       "   one  three  copy_of_one   flag  one_upper_half\n",
       "a  1.0    2.0          1.0  False             1.0\n",
       "b  2.0    8.0          2.0  False             2.0\n",
       "c  3.0   18.0          3.0  False             NaN\n",
       "d  0.0    NaN          NaN  False             NaN"
      ]
     },
     "execution_count": 56,
     "metadata": {},
     "output_type": "execute_result"
    }
   ],
   "source": [
    "#Replacing null values\n",
    "df['one'].fillna(0,inplace=True)\n",
    "df"
   ]
  },
  {
   "cell_type": "code",
   "execution_count": 57,
   "metadata": {},
   "outputs": [],
   "source": [
    "df.isnull().any() #Checking null values\n",
    "df.isnull().sum() #Counting null values\n",
    "df['one'].fillna(0,inplace=True)#Replacing null values"
   ]
  },
  {
   "cell_type": "markdown",
   "metadata": {},
   "source": [
    "### Pandas Cut functions"
   ]
  },
  {
   "cell_type": "code",
   "execution_count": 82,
   "metadata": {},
   "outputs": [
    {
     "data": {
      "text/plain": [
       "array([1, 7, 5, 4, 6, 3, 8, 9])"
      ]
     },
     "execution_count": 82,
     "metadata": {},
     "output_type": "execute_result"
    }
   ],
   "source": [
    "data=np.array([1, 7, 5, 4, 6, 3, 8, 9])\n",
    "data"
   ]
  },
  {
   "cell_type": "code",
   "execution_count": 85,
   "metadata": {},
   "outputs": [
    {
     "data": {
      "text/plain": [
       "['bad', 'good', 'medium', 'medium', 'medium', 'bad', 'good', 'good']\n",
       "Categories (3, object): ['bad' < 'medium' < 'good']"
      ]
     },
     "execution_count": 85,
     "metadata": {},
     "output_type": "execute_result"
    }
   ],
   "source": [
    "binned=pd.cut(data, 3, labels=[\"bad\", \"medium\", \"good\"])\n",
    "binned"
   ]
  },
  {
   "cell_type": "code",
   "execution_count": 86,
   "metadata": {},
   "outputs": [
    {
     "data": {
      "text/plain": [
       "bad       2\n",
       "medium    3\n",
       "good      3\n",
       "dtype: int64"
      ]
     },
     "execution_count": 86,
     "metadata": {},
     "output_type": "execute_result"
    }
   ],
   "source": [
    "binned.value_counts()"
   ]
  },
  {
   "cell_type": "markdown",
   "metadata": {},
   "source": [
    "### Loading data from a file"
   ]
  },
  {
   "cell_type": "code",
   "execution_count": 5,
   "metadata": {},
   "outputs": [
    {
     "data": {
      "text/markdown": [
       "**Loan Acquision Table** \n"
      ],
      "text/plain": [
       "<IPython.core.display.Markdown object>"
      ]
     },
     "metadata": {},
     "output_type": "display_data"
    },
    {
     "name": "stdout",
     "output_type": "stream",
     "text": [
      "         loanID channel              sellerName  origIntRate  origUPB  \\\n",
      "0  100002091588       R                   OTHER        4.125   345000   \n",
      "1  100004219574       R  WELLS FARGO BANK, N.A.        4.125   293000   \n",
      "2  100004457300       C  WELLS FARGO BANK, N.A.        3.875   304000   \n",
      "3  100006803390       R                   OTHER        4.375   110000   \n",
      "4  100008763886       R      QUICKEN LOANS INC.        4.375   325000   \n",
      "\n",
      "   origLoanTerm orig_date firstPaymentDate  origLTV  origCLTV  ...  \\\n",
      "0           360   12/2014          02/2015       95        95  ...   \n",
      "1           312   12/2014          02/2015       77        77  ...   \n",
      "2           360   11/2014          01/2015       80        80  ...   \n",
      "3           360   10/2014          12/2014       65        65  ...   \n",
      "4           348   01/2015          03/2015       72        72  ...   \n",
      "\n",
      "   firstTimeBuyer  loanPurpose  propertyType numberOfUnit occupStatus  \\\n",
      "0               N            P            PU            1           P   \n",
      "1               N            R            PU            1           P   \n",
      "2               N            P            SF            1           P   \n",
      "3               N            C            SF            1           P   \n",
      "4               N            R            SF            1           P   \n",
      "\n",
      "  propType  zip miPercentage prodType  coBorrowCreditScore  \n",
      "0       NC  282         30.0      FRM                  NaN  \n",
      "1       IL  605          NaN      FRM                723.0  \n",
      "2       GA  300          NaN      FRM                  NaN  \n",
      "3       VA  229          NaN      FRM                736.0  \n",
      "4       CA  936          NaN      FRM                797.0  \n",
      "\n",
      "[5 rows x 23 columns]\n",
      " \n",
      " \n"
     ]
    }
   ],
   "source": [
    "loanData = pd.read_csv('/Users/adamrob/data/fannie/Acquisition_2015Q1.txt', sep='|',encoding='latin1',\n",
    "                           names=[\"loanID\",\"channel\",\"sellerName\",\"origIntRate\",\"origUPB\",\"origLoanTerm\",\"orig_date\",\n",
    "                                  \"firstPaymentDate\", \"origLTV\", \"origCLTV\", \"numBorower\", \"DTI\", \"borrowCreditScore\", \"firstTimeBuyer\",\n",
    "                                  \"loanPurpose\", \"propertyType\", \"numberOfUnit\", \"occupStatus\", \"propType\", \"zip\",\"miPercentage\",\n",
    "                                  \"prodType\", \"coBorrowCreditScore\"])\n",
    "#print(\" Acquisition Data \\n\")\n",
    "display(Markdown(\"**Loan Acquision Table** \\n\"))\n",
    "print(loanData.head(5)) #first N rows\n",
    "print (\" \\n \") "
   ]
  },
  {
   "cell_type": "markdown",
   "metadata": {},
   "source": [
    "## Excercise 1 - Read the following file into a Pandas DataFrame. Name the DataFrame as \"perfData\".\n",
    "\n",
    "**File Name:** 'Performance_2015Q1_part1.csv'\n",
    "\n",
    "**Column Names:** [\"loanID\",\"periodMonth\",\"servicerName\",\"currIntRate\",\"currUPB\",\"loanAge\",\"monthToMature\",\n",
    "                                  \"adjMonthToMature\", \"maturityDate\", \"MSA\", \"delinqStatus\", \"modFlag\", \"zeroBalCode\", \"loanBalEffectDate\",\n",
    "                                  \"lastPaidInstallDate\", \"forecloseDate\", \"dispositionDate\", \"foreclCost\", \"propMaintCost\", \"assetRecovCost\",\n",
    "                                  \"miscHoldingExpCredit\",\n",
    "                                  \"taxAssociated\", \"netSalesProceed\", \"creditEnhcProceed\", \"repurchaseMakeWhole\",\"otherForeclProceed\",\"unknown1\",\"unknown2\"]\n",
    "\n",
    "\n",
    "**Title of the Table:** Loan Performance Table"
   ]
  },
  {
   "cell_type": "code",
   "execution_count": 6,
   "metadata": {},
   "outputs": [
    {
     "data": {
      "text/markdown": [
       "**Loan Performance Table** \n"
      ],
      "text/plain": [
       "<IPython.core.display.Markdown object>"
      ]
     },
     "metadata": {},
     "output_type": "display_data"
    },
    {
     "name": "stdout",
     "output_type": "stream",
     "text": [
      "         loanID periodMonth servicerName  currIntRate  currUPB  loanAge  \\\n",
      "0  100002091588  01/01/2015        OTHER        4.125      NaN        0   \n",
      "1  100002091588  02/01/2015          NaN        4.125      NaN        1   \n",
      "2  100002091588  03/01/2015          NaN        4.125      NaN        2   \n",
      "3  100002091588  04/01/2015          NaN        4.125      NaN        3   \n",
      "4  100002091588  05/01/2015          NaN        4.125      NaN        4   \n",
      "\n",
      "   monthToMature  adjMonthToMature maturityDate    MSA  ... propMaintCost  \\\n",
      "0            360             360.0      01/2045  16740  ...           NaN   \n",
      "1            359             359.0      01/2045  16740  ...           NaN   \n",
      "2            358             358.0      01/2045  16740  ...           NaN   \n",
      "3            357             357.0      01/2045  16740  ...           NaN   \n",
      "4            356             356.0      01/2045  16740  ...           NaN   \n",
      "\n",
      "  assetRecovCost  miscHoldingExpCredit taxAssociated  netSalesProceed  \\\n",
      "0            NaN                   NaN           NaN              NaN   \n",
      "1            NaN                   NaN           NaN              NaN   \n",
      "2            NaN                   NaN           NaN              NaN   \n",
      "3            NaN                   NaN           NaN              NaN   \n",
      "4            NaN                   NaN           NaN              NaN   \n",
      "\n",
      "   creditEnhcProceed  repurchaseMakeWhole  otherForeclProceed  unknown1  \\\n",
      "0                NaN                  NaN                 NaN       NaN   \n",
      "1                NaN                  NaN                 NaN       NaN   \n",
      "2                NaN                  NaN                 NaN       NaN   \n",
      "3                NaN                  NaN                 NaN       NaN   \n",
      "4                NaN                  NaN                 NaN       NaN   \n",
      "\n",
      "   unknown2  \n",
      "0       NaN  \n",
      "1       NaN  \n",
      "2       NaN  \n",
      "3       NaN  \n",
      "4       NaN  \n",
      "\n",
      "[5 rows x 28 columns]\n",
      " \n",
      " \n"
     ]
    }
   ],
   "source": []
  },
  {
   "cell_type": "markdown",
   "metadata": {},
   "source": [
    "<h1 style=\"font-size:1.5em;color:#2467C0\">DataFrames </h1>"
   ]
  },
  {
   "cell_type": "code",
   "execution_count": 41,
   "metadata": {
    "collapsed": false,
    "jupyter": {
     "outputs_hidden": false
    }
   },
   "outputs": [
    {
     "data": {
      "text/html": [
       "<div>\n",
       "<style scoped>\n",
       "    .dataframe tbody tr th:only-of-type {\n",
       "        vertical-align: middle;\n",
       "    }\n",
       "\n",
       "    .dataframe tbody tr th {\n",
       "        vertical-align: top;\n",
       "    }\n",
       "\n",
       "    .dataframe thead th {\n",
       "        text-align: right;\n",
       "    }\n",
       "</style>\n",
       "<table border=\"1\" class=\"dataframe\">\n",
       "  <thead>\n",
       "    <tr style=\"text-align: right;\">\n",
       "      <th></th>\n",
       "      <th>loanID</th>\n",
       "      <th>channel</th>\n",
       "      <th>sellerName</th>\n",
       "      <th>origIntRate</th>\n",
       "      <th>origUPB</th>\n",
       "      <th>origLoanTerm</th>\n",
       "      <th>orig_date</th>\n",
       "      <th>firstPaymentDate</th>\n",
       "      <th>origLTV</th>\n",
       "      <th>origCLTV</th>\n",
       "      <th>...</th>\n",
       "      <th>firstTimeBuyer</th>\n",
       "      <th>loanPurpose</th>\n",
       "      <th>propertyType</th>\n",
       "      <th>numberOfUnit</th>\n",
       "      <th>occupStatus</th>\n",
       "      <th>propType</th>\n",
       "      <th>zip</th>\n",
       "      <th>miPercentage</th>\n",
       "      <th>prodType</th>\n",
       "      <th>coBorrowCreditScore</th>\n",
       "    </tr>\n",
       "  </thead>\n",
       "  <tbody>\n",
       "    <tr>\n",
       "      <th>0</th>\n",
       "      <td>100002091588</td>\n",
       "      <td>R</td>\n",
       "      <td>OTHER</td>\n",
       "      <td>4.125</td>\n",
       "      <td>345000</td>\n",
       "      <td>360</td>\n",
       "      <td>12/2014</td>\n",
       "      <td>02/2015</td>\n",
       "      <td>95</td>\n",
       "      <td>95</td>\n",
       "      <td>...</td>\n",
       "      <td>N</td>\n",
       "      <td>P</td>\n",
       "      <td>PU</td>\n",
       "      <td>1</td>\n",
       "      <td>P</td>\n",
       "      <td>NC</td>\n",
       "      <td>282</td>\n",
       "      <td>30.0</td>\n",
       "      <td>FRM</td>\n",
       "      <td>NaN</td>\n",
       "    </tr>\n",
       "    <tr>\n",
       "      <th>1</th>\n",
       "      <td>100004219574</td>\n",
       "      <td>R</td>\n",
       "      <td>WELLS FARGO BANK, N.A.</td>\n",
       "      <td>4.125</td>\n",
       "      <td>293000</td>\n",
       "      <td>312</td>\n",
       "      <td>12/2014</td>\n",
       "      <td>02/2015</td>\n",
       "      <td>77</td>\n",
       "      <td>77</td>\n",
       "      <td>...</td>\n",
       "      <td>N</td>\n",
       "      <td>R</td>\n",
       "      <td>PU</td>\n",
       "      <td>1</td>\n",
       "      <td>P</td>\n",
       "      <td>IL</td>\n",
       "      <td>605</td>\n",
       "      <td>NaN</td>\n",
       "      <td>FRM</td>\n",
       "      <td>723.0</td>\n",
       "    </tr>\n",
       "    <tr>\n",
       "      <th>2</th>\n",
       "      <td>100004457300</td>\n",
       "      <td>C</td>\n",
       "      <td>WELLS FARGO BANK, N.A.</td>\n",
       "      <td>3.875</td>\n",
       "      <td>304000</td>\n",
       "      <td>360</td>\n",
       "      <td>11/2014</td>\n",
       "      <td>01/2015</td>\n",
       "      <td>80</td>\n",
       "      <td>80</td>\n",
       "      <td>...</td>\n",
       "      <td>N</td>\n",
       "      <td>P</td>\n",
       "      <td>SF</td>\n",
       "      <td>1</td>\n",
       "      <td>P</td>\n",
       "      <td>GA</td>\n",
       "      <td>300</td>\n",
       "      <td>NaN</td>\n",
       "      <td>FRM</td>\n",
       "      <td>NaN</td>\n",
       "    </tr>\n",
       "    <tr>\n",
       "      <th>3</th>\n",
       "      <td>100006803390</td>\n",
       "      <td>R</td>\n",
       "      <td>OTHER</td>\n",
       "      <td>4.375</td>\n",
       "      <td>110000</td>\n",
       "      <td>360</td>\n",
       "      <td>10/2014</td>\n",
       "      <td>12/2014</td>\n",
       "      <td>65</td>\n",
       "      <td>65</td>\n",
       "      <td>...</td>\n",
       "      <td>N</td>\n",
       "      <td>C</td>\n",
       "      <td>SF</td>\n",
       "      <td>1</td>\n",
       "      <td>P</td>\n",
       "      <td>VA</td>\n",
       "      <td>229</td>\n",
       "      <td>NaN</td>\n",
       "      <td>FRM</td>\n",
       "      <td>736.0</td>\n",
       "    </tr>\n",
       "    <tr>\n",
       "      <th>4</th>\n",
       "      <td>100008763886</td>\n",
       "      <td>R</td>\n",
       "      <td>QUICKEN LOANS INC.</td>\n",
       "      <td>4.375</td>\n",
       "      <td>325000</td>\n",
       "      <td>348</td>\n",
       "      <td>01/2015</td>\n",
       "      <td>03/2015</td>\n",
       "      <td>72</td>\n",
       "      <td>72</td>\n",
       "      <td>...</td>\n",
       "      <td>N</td>\n",
       "      <td>R</td>\n",
       "      <td>SF</td>\n",
       "      <td>1</td>\n",
       "      <td>P</td>\n",
       "      <td>CA</td>\n",
       "      <td>936</td>\n",
       "      <td>NaN</td>\n",
       "      <td>FRM</td>\n",
       "      <td>797.0</td>\n",
       "    </tr>\n",
       "  </tbody>\n",
       "</table>\n",
       "<p>5 rows × 23 columns</p>\n",
       "</div>"
      ],
      "text/plain": [
       "         loanID channel              sellerName  origIntRate  origUPB  \\\n",
       "0  100002091588       R                   OTHER        4.125   345000   \n",
       "1  100004219574       R  WELLS FARGO BANK, N.A.        4.125   293000   \n",
       "2  100004457300       C  WELLS FARGO BANK, N.A.        3.875   304000   \n",
       "3  100006803390       R                   OTHER        4.375   110000   \n",
       "4  100008763886       R      QUICKEN LOANS INC.        4.375   325000   \n",
       "\n",
       "   origLoanTerm orig_date firstPaymentDate  origLTV  origCLTV  \\\n",
       "0           360   12/2014          02/2015       95        95   \n",
       "1           312   12/2014          02/2015       77        77   \n",
       "2           360   11/2014          01/2015       80        80   \n",
       "3           360   10/2014          12/2014       65        65   \n",
       "4           348   01/2015          03/2015       72        72   \n",
       "\n",
       "          ...           firstTimeBuyer  loanPurpose  propertyType  \\\n",
       "0         ...                        N            P            PU   \n",
       "1         ...                        N            R            PU   \n",
       "2         ...                        N            P            SF   \n",
       "3         ...                        N            C            SF   \n",
       "4         ...                        N            R            SF   \n",
       "\n",
       "  numberOfUnit occupStatus propType  zip miPercentage prodType  \\\n",
       "0            1           P       NC  282         30.0      FRM   \n",
       "1            1           P       IL  605          NaN      FRM   \n",
       "2            1           P       GA  300          NaN      FRM   \n",
       "3            1           P       VA  229          NaN      FRM   \n",
       "4            1           P       CA  936          NaN      FRM   \n",
       "\n",
       "   coBorrowCreditScore  \n",
       "0                  NaN  \n",
       "1                723.0  \n",
       "2                  NaN  \n",
       "3                736.0  \n",
       "4                797.0  \n",
       "\n",
       "[5 rows x 23 columns]"
      ]
     },
     "execution_count": 41,
     "metadata": {},
     "output_type": "execute_result"
    }
   ],
   "source": [
    "loanData.head()"
   ]
  },
  {
   "cell_type": "code",
   "execution_count": 42,
   "metadata": {
    "collapsed": false,
    "jupyter": {
     "outputs_hidden": false
    }
   },
   "outputs": [
    {
     "data": {
      "text/plain": [
       "RangeIndex(start=0, stop=326695, step=1)"
      ]
     },
     "execution_count": 42,
     "metadata": {},
     "output_type": "execute_result"
    }
   ],
   "source": [
    "loanData.index"
   ]
  },
  {
   "cell_type": "code",
   "execution_count": 43,
   "metadata": {
    "collapsed": false,
    "jupyter": {
     "outputs_hidden": false
    }
   },
   "outputs": [
    {
     "data": {
      "text/plain": [
       "Index(['loanID', 'channel', 'sellerName', 'origIntRate', 'origUPB',\n",
       "       'origLoanTerm', 'orig_date', 'firstPaymentDate', 'origLTV', 'origCLTV',\n",
       "       'numBorower', 'DTI', 'borrowCreditScore', 'firstTimeBuyer',\n",
       "       'loanPurpose', 'propertyType', 'numberOfUnit', 'occupStatus',\n",
       "       'propType', 'zip', 'miPercentage', 'prodType', 'coBorrowCreditScore'],\n",
       "      dtype='object')"
      ]
     },
     "execution_count": 43,
     "metadata": {},
     "output_type": "execute_result"
    }
   ],
   "source": [
    "loanData.columns"
   ]
  },
  {
   "cell_type": "code",
   "execution_count": 44,
   "metadata": {
    "collapsed": false,
    "jupyter": {
     "outputs_hidden": false
    }
   },
   "outputs": [
    {
     "data": {
      "text/html": [
       "<div>\n",
       "<style scoped>\n",
       "    .dataframe tbody tr th:only-of-type {\n",
       "        vertical-align: middle;\n",
       "    }\n",
       "\n",
       "    .dataframe tbody tr th {\n",
       "        vertical-align: top;\n",
       "    }\n",
       "\n",
       "    .dataframe thead th {\n",
       "        text-align: right;\n",
       "    }\n",
       "</style>\n",
       "<table border=\"1\" class=\"dataframe\">\n",
       "  <thead>\n",
       "    <tr style=\"text-align: right;\">\n",
       "      <th></th>\n",
       "      <th>loanID</th>\n",
       "      <th>channel</th>\n",
       "      <th>sellerName</th>\n",
       "      <th>origIntRate</th>\n",
       "      <th>origUPB</th>\n",
       "      <th>origLoanTerm</th>\n",
       "      <th>orig_date</th>\n",
       "      <th>firstPaymentDate</th>\n",
       "      <th>origLTV</th>\n",
       "      <th>origCLTV</th>\n",
       "      <th>...</th>\n",
       "      <th>firstTimeBuyer</th>\n",
       "      <th>loanPurpose</th>\n",
       "      <th>propertyType</th>\n",
       "      <th>numberOfUnit</th>\n",
       "      <th>occupStatus</th>\n",
       "      <th>propType</th>\n",
       "      <th>zip</th>\n",
       "      <th>miPercentage</th>\n",
       "      <th>prodType</th>\n",
       "      <th>coBorrowCreditScore</th>\n",
       "    </tr>\n",
       "  </thead>\n",
       "  <tbody>\n",
       "    <tr>\n",
       "      <th>0</th>\n",
       "      <td>100002091588</td>\n",
       "      <td>R</td>\n",
       "      <td>OTHER</td>\n",
       "      <td>4.125</td>\n",
       "      <td>345000</td>\n",
       "      <td>360</td>\n",
       "      <td>12/2014</td>\n",
       "      <td>02/2015</td>\n",
       "      <td>95</td>\n",
       "      <td>95</td>\n",
       "      <td>...</td>\n",
       "      <td>N</td>\n",
       "      <td>P</td>\n",
       "      <td>PU</td>\n",
       "      <td>1</td>\n",
       "      <td>P</td>\n",
       "      <td>NC</td>\n",
       "      <td>282</td>\n",
       "      <td>30.0</td>\n",
       "      <td>FRM</td>\n",
       "      <td>NaN</td>\n",
       "    </tr>\n",
       "    <tr>\n",
       "      <th>100</th>\n",
       "      <td>100317081765</td>\n",
       "      <td>C</td>\n",
       "      <td>WELLS FARGO BANK, N.A.</td>\n",
       "      <td>4.375</td>\n",
       "      <td>160000</td>\n",
       "      <td>360</td>\n",
       "      <td>12/2014</td>\n",
       "      <td>02/2015</td>\n",
       "      <td>90</td>\n",
       "      <td>90</td>\n",
       "      <td>...</td>\n",
       "      <td>N</td>\n",
       "      <td>P</td>\n",
       "      <td>PU</td>\n",
       "      <td>1</td>\n",
       "      <td>S</td>\n",
       "      <td>TX</td>\n",
       "      <td>781</td>\n",
       "      <td>25.0</td>\n",
       "      <td>FRM</td>\n",
       "      <td>733.0</td>\n",
       "    </tr>\n",
       "    <tr>\n",
       "      <th>1000</th>\n",
       "      <td>102816334673</td>\n",
       "      <td>B</td>\n",
       "      <td>OTHER</td>\n",
       "      <td>4.250</td>\n",
       "      <td>127000</td>\n",
       "      <td>360</td>\n",
       "      <td>12/2014</td>\n",
       "      <td>02/2015</td>\n",
       "      <td>80</td>\n",
       "      <td>80</td>\n",
       "      <td>...</td>\n",
       "      <td>N</td>\n",
       "      <td>P</td>\n",
       "      <td>CO</td>\n",
       "      <td>1</td>\n",
       "      <td>S</td>\n",
       "      <td>NC</td>\n",
       "      <td>287</td>\n",
       "      <td>NaN</td>\n",
       "      <td>FRM</td>\n",
       "      <td>799.0</td>\n",
       "    </tr>\n",
       "  </tbody>\n",
       "</table>\n",
       "<p>3 rows × 23 columns</p>\n",
       "</div>"
      ],
      "text/plain": [
       "            loanID channel              sellerName  origIntRate  origUPB  \\\n",
       "0     100002091588       R                   OTHER        4.125   345000   \n",
       "100   100317081765       C  WELLS FARGO BANK, N.A.        4.375   160000   \n",
       "1000  102816334673       B                   OTHER        4.250   127000   \n",
       "\n",
       "      origLoanTerm orig_date firstPaymentDate  origLTV  origCLTV  \\\n",
       "0              360   12/2014          02/2015       95        95   \n",
       "100            360   12/2014          02/2015       90        90   \n",
       "1000           360   12/2014          02/2015       80        80   \n",
       "\n",
       "             ...           firstTimeBuyer  loanPurpose  propertyType  \\\n",
       "0            ...                        N            P            PU   \n",
       "100          ...                        N            P            PU   \n",
       "1000         ...                        N            P            CO   \n",
       "\n",
       "     numberOfUnit occupStatus propType  zip miPercentage prodType  \\\n",
       "0               1           P       NC  282         30.0      FRM   \n",
       "100             1           S       TX  781         25.0      FRM   \n",
       "1000            1           S       NC  287          NaN      FRM   \n",
       "\n",
       "      coBorrowCreditScore  \n",
       "0                     NaN  \n",
       "100                 733.0  \n",
       "1000                799.0  \n",
       "\n",
       "[3 rows x 23 columns]"
      ]
     },
     "execution_count": 44,
     "metadata": {},
     "output_type": "execute_result"
    }
   ],
   "source": [
    "# Extract row 0, 100, 1000 from DataFrame\n",
    "loanData.iloc[ [0,100,1000] ]"
   ]
  },
  {
   "cell_type": "markdown",
   "metadata": {},
   "source": [
    "<h1 style=\"font-size:2em;color:#2467C0\">Descriptive Statistics</h1>\n",
    "\n"
   ]
  },
  {
   "cell_type": "code",
   "execution_count": 58,
   "metadata": {
    "collapsed": false,
    "jupyter": {
     "outputs_hidden": false
    }
   },
   "outputs": [
    {
     "data": {
      "text/plain": [
       "count    3.266950e+05\n",
       "mean     2.407928e+05\n",
       "std      1.202889e+05\n",
       "min      1.200000e+04\n",
       "25%      1.470000e+05\n",
       "50%      2.220000e+05\n",
       "75%      3.200000e+05\n",
       "max      1.203000e+06\n",
       "Name: origUPB, dtype: float64"
      ]
     },
     "execution_count": 58,
     "metadata": {},
     "output_type": "execute_result"
    }
   ],
   "source": [
    "# Describing a single column\n",
    "loanData['origUPB'].describe()"
   ]
  },
  {
   "cell_type": "code",
   "execution_count": 59,
   "metadata": {
    "collapsed": false,
    "jupyter": {
     "outputs_hidden": false
    }
   },
   "outputs": [
    {
     "data": {
      "text/html": [
       "<div>\n",
       "<style scoped>\n",
       "    .dataframe tbody tr th:only-of-type {\n",
       "        vertical-align: middle;\n",
       "    }\n",
       "\n",
       "    .dataframe tbody tr th {\n",
       "        vertical-align: top;\n",
       "    }\n",
       "\n",
       "    .dataframe thead th {\n",
       "        text-align: right;\n",
       "    }\n",
       "</style>\n",
       "<table border=\"1\" class=\"dataframe\">\n",
       "  <thead>\n",
       "    <tr style=\"text-align: right;\">\n",
       "      <th></th>\n",
       "      <th>loanID</th>\n",
       "      <th>origIntRate</th>\n",
       "      <th>origUPB</th>\n",
       "      <th>origLoanTerm</th>\n",
       "      <th>origLTV</th>\n",
       "      <th>origCLTV</th>\n",
       "      <th>numBorower</th>\n",
       "      <th>DTI</th>\n",
       "      <th>borrowCreditScore</th>\n",
       "      <th>numberOfUnit</th>\n",
       "      <th>zip</th>\n",
       "      <th>miPercentage</th>\n",
       "      <th>coBorrowCreditScore</th>\n",
       "    </tr>\n",
       "  </thead>\n",
       "  <tbody>\n",
       "    <tr>\n",
       "      <th>count</th>\n",
       "      <td>3.266950e+05</td>\n",
       "      <td>326695.000000</td>\n",
       "      <td>3.266950e+05</td>\n",
       "      <td>326695.000000</td>\n",
       "      <td>326695.000000</td>\n",
       "      <td>326695.000000</td>\n",
       "      <td>326695.000000</td>\n",
       "      <td>326598.000000</td>\n",
       "      <td>326577.000000</td>\n",
       "      <td>326695.000000</td>\n",
       "      <td>326695.000000</td>\n",
       "      <td>103468.000000</td>\n",
       "      <td>157147.000000</td>\n",
       "    </tr>\n",
       "    <tr>\n",
       "      <th>mean</th>\n",
       "      <td>5.503930e+11</td>\n",
       "      <td>4.172323</td>\n",
       "      <td>2.407928e+05</td>\n",
       "      <td>359.843582</td>\n",
       "      <td>76.884966</td>\n",
       "      <td>77.596416</td>\n",
       "      <td>1.487069</td>\n",
       "      <td>34.023647</td>\n",
       "      <td>751.836755</td>\n",
       "      <td>1.038795</td>\n",
       "      <td>601.307244</td>\n",
       "      <td>25.356622</td>\n",
       "      <td>759.128179</td>\n",
       "    </tr>\n",
       "    <tr>\n",
       "      <th>std</th>\n",
       "      <td>2.596103e+11</td>\n",
       "      <td>0.344801</td>\n",
       "      <td>1.202889e+05</td>\n",
       "      <td>2.168483</td>\n",
       "      <td>14.907149</td>\n",
       "      <td>14.929720</td>\n",
       "      <td>0.512742</td>\n",
       "      <td>8.656829</td>\n",
       "      <td>46.097700</td>\n",
       "      <td>0.269014</td>\n",
       "      <td>305.976799</td>\n",
       "      <td>6.525678</td>\n",
       "      <td>43.350807</td>\n",
       "    </tr>\n",
       "    <tr>\n",
       "      <th>min</th>\n",
       "      <td>1.000021e+11</td>\n",
       "      <td>2.750000</td>\n",
       "      <td>1.200000e+04</td>\n",
       "      <td>301.000000</td>\n",
       "      <td>3.000000</td>\n",
       "      <td>3.000000</td>\n",
       "      <td>1.000000</td>\n",
       "      <td>1.000000</td>\n",
       "      <td>471.000000</td>\n",
       "      <td>1.000000</td>\n",
       "      <td>0.000000</td>\n",
       "      <td>6.000000</td>\n",
       "      <td>490.000000</td>\n",
       "    </tr>\n",
       "    <tr>\n",
       "      <th>25%</th>\n",
       "      <td>3.252292e+11</td>\n",
       "      <td>3.875000</td>\n",
       "      <td>1.470000e+05</td>\n",
       "      <td>360.000000</td>\n",
       "      <td>70.000000</td>\n",
       "      <td>71.000000</td>\n",
       "      <td>1.000000</td>\n",
       "      <td>28.000000</td>\n",
       "      <td>720.000000</td>\n",
       "      <td>1.000000</td>\n",
       "      <td>327.000000</td>\n",
       "      <td>25.000000</td>\n",
       "      <td>732.000000</td>\n",
       "    </tr>\n",
       "    <tr>\n",
       "      <th>50%</th>\n",
       "      <td>5.510662e+11</td>\n",
       "      <td>4.125000</td>\n",
       "      <td>2.220000e+05</td>\n",
       "      <td>360.000000</td>\n",
       "      <td>80.000000</td>\n",
       "      <td>80.000000</td>\n",
       "      <td>1.000000</td>\n",
       "      <td>35.000000</td>\n",
       "      <td>762.000000</td>\n",
       "      <td>1.000000</td>\n",
       "      <td>640.000000</td>\n",
       "      <td>30.000000</td>\n",
       "      <td>770.000000</td>\n",
       "    </tr>\n",
       "    <tr>\n",
       "      <th>75%</th>\n",
       "      <td>7.754436e+11</td>\n",
       "      <td>4.375000</td>\n",
       "      <td>3.200000e+05</td>\n",
       "      <td>360.000000</td>\n",
       "      <td>90.000000</td>\n",
       "      <td>90.000000</td>\n",
       "      <td>2.000000</td>\n",
       "      <td>41.000000</td>\n",
       "      <td>790.000000</td>\n",
       "      <td>1.000000</td>\n",
       "      <td>907.000000</td>\n",
       "      <td>30.000000</td>\n",
       "      <td>794.000000</td>\n",
       "    </tr>\n",
       "    <tr>\n",
       "      <th>max</th>\n",
       "      <td>9.999957e+11</td>\n",
       "      <td>6.125000</td>\n",
       "      <td>1.203000e+06</td>\n",
       "      <td>360.000000</td>\n",
       "      <td>97.000000</td>\n",
       "      <td>105.000000</td>\n",
       "      <td>4.000000</td>\n",
       "      <td>51.000000</td>\n",
       "      <td>839.000000</td>\n",
       "      <td>4.000000</td>\n",
       "      <td>999.000000</td>\n",
       "      <td>40.000000</td>\n",
       "      <td>837.000000</td>\n",
       "    </tr>\n",
       "  </tbody>\n",
       "</table>\n",
       "</div>"
      ],
      "text/plain": [
       "             loanID    origIntRate       origUPB   origLoanTerm  \\\n",
       "count  3.266950e+05  326695.000000  3.266950e+05  326695.000000   \n",
       "mean   5.503930e+11       4.172323  2.407928e+05     359.843582   \n",
       "std    2.596103e+11       0.344801  1.202889e+05       2.168483   \n",
       "min    1.000021e+11       2.750000  1.200000e+04     301.000000   \n",
       "25%    3.252292e+11       3.875000  1.470000e+05     360.000000   \n",
       "50%    5.510662e+11       4.125000  2.220000e+05     360.000000   \n",
       "75%    7.754436e+11       4.375000  3.200000e+05     360.000000   \n",
       "max    9.999957e+11       6.125000  1.203000e+06     360.000000   \n",
       "\n",
       "             origLTV       origCLTV     numBorower            DTI  \\\n",
       "count  326695.000000  326695.000000  326695.000000  326598.000000   \n",
       "mean       76.884966      77.596416       1.487069      34.023647   \n",
       "std        14.907149      14.929720       0.512742       8.656829   \n",
       "min         3.000000       3.000000       1.000000       1.000000   \n",
       "25%        70.000000      71.000000       1.000000      28.000000   \n",
       "50%        80.000000      80.000000       1.000000      35.000000   \n",
       "75%        90.000000      90.000000       2.000000      41.000000   \n",
       "max        97.000000     105.000000       4.000000      51.000000   \n",
       "\n",
       "       borrowCreditScore   numberOfUnit            zip   miPercentage  \\\n",
       "count      326577.000000  326695.000000  326695.000000  103468.000000   \n",
       "mean          751.836755       1.038795     601.307244      25.356622   \n",
       "std            46.097700       0.269014     305.976799       6.525678   \n",
       "min           471.000000       1.000000       0.000000       6.000000   \n",
       "25%           720.000000       1.000000     327.000000      25.000000   \n",
       "50%           762.000000       1.000000     640.000000      30.000000   \n",
       "75%           790.000000       1.000000     907.000000      30.000000   \n",
       "max           839.000000       4.000000     999.000000      40.000000   \n",
       "\n",
       "       coBorrowCreditScore  \n",
       "count        157147.000000  \n",
       "mean            759.128179  \n",
       "std              43.350807  \n",
       "min             490.000000  \n",
       "25%             732.000000  \n",
       "50%             770.000000  \n",
       "75%             794.000000  \n",
       "max             837.000000  "
      ]
     },
     "execution_count": 59,
     "metadata": {},
     "output_type": "execute_result"
    }
   ],
   "source": [
    "# Describing the whole table\n",
    "loanData.describe()"
   ]
  },
  {
   "cell_type": "code",
   "execution_count": 8,
   "metadata": {
    "collapsed": false,
    "jupyter": {
     "outputs_hidden": false
    }
   },
   "outputs": [
    {
     "data": {
      "text/plain": [
       "751.8367551909657"
      ]
     },
     "execution_count": 8,
     "metadata": {},
     "output_type": "execute_result"
    }
   ],
   "source": [
    "loanData['borrowCreditScore'].mean()"
   ]
  },
  {
   "cell_type": "code",
   "execution_count": 48,
   "metadata": {
    "collapsed": false,
    "jupyter": {
     "outputs_hidden": false
    }
   },
   "outputs": [
    {
     "data": {
      "text/plain": [
       "471.0"
      ]
     },
     "execution_count": 48,
     "metadata": {},
     "output_type": "execute_result"
    }
   ],
   "source": [
    "loanData['borrowCreditScore'].min()"
   ]
  },
  {
   "cell_type": "code",
   "execution_count": 49,
   "metadata": {
    "collapsed": false,
    "jupyter": {
     "outputs_hidden": false
    }
   },
   "outputs": [
    {
     "data": {
      "text/plain": [
       "839.0"
      ]
     },
     "execution_count": 49,
     "metadata": {},
     "output_type": "execute_result"
    }
   ],
   "source": [
    "loanData['borrowCreditScore'].max()"
   ]
  },
  {
   "cell_type": "code",
   "execution_count": 50,
   "metadata": {
    "collapsed": false,
    "jupyter": {
     "outputs_hidden": false
    }
   },
   "outputs": [
    {
     "data": {
      "text/plain": [
       "46.09769953873249"
      ]
     },
     "execution_count": 50,
     "metadata": {},
     "output_type": "execute_result"
    }
   ],
   "source": [
    "loanData['borrowCreditScore'].std()"
   ]
  },
  {
   "cell_type": "code",
   "execution_count": 51,
   "metadata": {
    "collapsed": false,
    "jupyter": {
     "outputs_hidden": false
    }
   },
   "outputs": [
    {
     "data": {
      "text/plain": [
       "0    801.0\n",
       "dtype: float64"
      ]
     },
     "execution_count": 51,
     "metadata": {},
     "output_type": "execute_result"
    }
   ],
   "source": [
    "loanData['borrowCreditScore'].mode()"
   ]
  },
  {
   "cell_type": "code",
   "execution_count": 52,
   "metadata": {
    "collapsed": false,
    "jupyter": {
     "outputs_hidden": false
    },
    "scrolled": true
   },
   "outputs": [
    {
     "data": {
      "text/html": [
       "<div>\n",
       "<style scoped>\n",
       "    .dataframe tbody tr th:only-of-type {\n",
       "        vertical-align: middle;\n",
       "    }\n",
       "\n",
       "    .dataframe tbody tr th {\n",
       "        vertical-align: top;\n",
       "    }\n",
       "\n",
       "    .dataframe thead th {\n",
       "        text-align: right;\n",
       "    }\n",
       "</style>\n",
       "<table border=\"1\" class=\"dataframe\">\n",
       "  <thead>\n",
       "    <tr style=\"text-align: right;\">\n",
       "      <th></th>\n",
       "      <th>loanID</th>\n",
       "      <th>origIntRate</th>\n",
       "      <th>origUPB</th>\n",
       "      <th>origLoanTerm</th>\n",
       "      <th>origLTV</th>\n",
       "      <th>origCLTV</th>\n",
       "      <th>numBorower</th>\n",
       "      <th>DTI</th>\n",
       "      <th>borrowCreditScore</th>\n",
       "      <th>numberOfUnit</th>\n",
       "      <th>zip</th>\n",
       "      <th>miPercentage</th>\n",
       "      <th>coBorrowCreditScore</th>\n",
       "    </tr>\n",
       "  </thead>\n",
       "  <tbody>\n",
       "    <tr>\n",
       "      <th>loanID</th>\n",
       "      <td>1.000000</td>\n",
       "      <td>-0.002168</td>\n",
       "      <td>-0.000944</td>\n",
       "      <td>-0.001819</td>\n",
       "      <td>0.000579</td>\n",
       "      <td>0.000335</td>\n",
       "      <td>0.001874</td>\n",
       "      <td>-0.001564</td>\n",
       "      <td>0.003674</td>\n",
       "      <td>0.000041</td>\n",
       "      <td>-0.002308</td>\n",
       "      <td>0.000819</td>\n",
       "      <td>0.001936</td>\n",
       "    </tr>\n",
       "    <tr>\n",
       "      <th>origIntRate</th>\n",
       "      <td>-0.002168</td>\n",
       "      <td>1.000000</td>\n",
       "      <td>-0.208986</td>\n",
       "      <td>-0.011273</td>\n",
       "      <td>0.164424</td>\n",
       "      <td>0.161094</td>\n",
       "      <td>-0.065848</td>\n",
       "      <td>0.149126</td>\n",
       "      <td>-0.388532</td>\n",
       "      <td>0.109249</td>\n",
       "      <td>-0.038613</td>\n",
       "      <td>-0.079057</td>\n",
       "      <td>-0.366862</td>\n",
       "    </tr>\n",
       "    <tr>\n",
       "      <th>origUPB</th>\n",
       "      <td>-0.000944</td>\n",
       "      <td>-0.208986</td>\n",
       "      <td>1.000000</td>\n",
       "      <td>-0.007772</td>\n",
       "      <td>-0.030600</td>\n",
       "      <td>-0.007717</td>\n",
       "      <td>0.166198</td>\n",
       "      <td>0.060736</td>\n",
       "      <td>0.090680</td>\n",
       "      <td>0.086089</td>\n",
       "      <td>0.160365</td>\n",
       "      <td>-0.019131</td>\n",
       "      <td>0.067285</td>\n",
       "    </tr>\n",
       "    <tr>\n",
       "      <th>origLoanTerm</th>\n",
       "      <td>-0.001819</td>\n",
       "      <td>-0.011273</td>\n",
       "      <td>-0.007772</td>\n",
       "      <td>1.000000</td>\n",
       "      <td>0.008183</td>\n",
       "      <td>0.008921</td>\n",
       "      <td>-0.013515</td>\n",
       "      <td>0.013625</td>\n",
       "      <td>-0.018940</td>\n",
       "      <td>0.006000</td>\n",
       "      <td>0.017326</td>\n",
       "      <td>0.027957</td>\n",
       "      <td>-0.019572</td>\n",
       "    </tr>\n",
       "    <tr>\n",
       "      <th>origLTV</th>\n",
       "      <td>0.000579</td>\n",
       "      <td>0.164424</td>\n",
       "      <td>-0.030600</td>\n",
       "      <td>0.008183</td>\n",
       "      <td>1.000000</td>\n",
       "      <td>0.973429</td>\n",
       "      <td>-0.043807</td>\n",
       "      <td>0.048152</td>\n",
       "      <td>-0.098579</td>\n",
       "      <td>-0.100509</td>\n",
       "      <td>-0.130198</td>\n",
       "      <td>0.767360</td>\n",
       "      <td>-0.140064</td>\n",
       "    </tr>\n",
       "    <tr>\n",
       "      <th>origCLTV</th>\n",
       "      <td>0.000335</td>\n",
       "      <td>0.161094</td>\n",
       "      <td>-0.007717</td>\n",
       "      <td>0.008921</td>\n",
       "      <td>0.973429</td>\n",
       "      <td>1.000000</td>\n",
       "      <td>-0.038430</td>\n",
       "      <td>0.049880</td>\n",
       "      <td>-0.104063</td>\n",
       "      <td>-0.105279</td>\n",
       "      <td>-0.127452</td>\n",
       "      <td>0.626622</td>\n",
       "      <td>-0.145683</td>\n",
       "    </tr>\n",
       "    <tr>\n",
       "      <th>numBorower</th>\n",
       "      <td>0.001874</td>\n",
       "      <td>-0.065848</td>\n",
       "      <td>0.166198</td>\n",
       "      <td>-0.013515</td>\n",
       "      <td>-0.043807</td>\n",
       "      <td>-0.038430</td>\n",
       "      <td>1.000000</td>\n",
       "      <td>-0.093050</td>\n",
       "      <td>0.115622</td>\n",
       "      <td>-0.002000</td>\n",
       "      <td>0.035792</td>\n",
       "      <td>0.011339</td>\n",
       "      <td>-0.004082</td>\n",
       "    </tr>\n",
       "    <tr>\n",
       "      <th>DTI</th>\n",
       "      <td>-0.001564</td>\n",
       "      <td>0.149126</td>\n",
       "      <td>0.060736</td>\n",
       "      <td>0.013625</td>\n",
       "      <td>0.048152</td>\n",
       "      <td>0.049880</td>\n",
       "      <td>-0.093050</td>\n",
       "      <td>1.000000</td>\n",
       "      <td>-0.181649</td>\n",
       "      <td>0.018396</td>\n",
       "      <td>0.045397</td>\n",
       "      <td>0.009280</td>\n",
       "      <td>-0.200430</td>\n",
       "    </tr>\n",
       "    <tr>\n",
       "      <th>borrowCreditScore</th>\n",
       "      <td>0.003674</td>\n",
       "      <td>-0.388532</td>\n",
       "      <td>0.090680</td>\n",
       "      <td>-0.018940</td>\n",
       "      <td>-0.098579</td>\n",
       "      <td>-0.104063</td>\n",
       "      <td>0.115622</td>\n",
       "      <td>-0.181649</td>\n",
       "      <td>1.000000</td>\n",
       "      <td>0.026819</td>\n",
       "      <td>0.017597</td>\n",
       "      <td>0.021233</td>\n",
       "      <td>0.680389</td>\n",
       "    </tr>\n",
       "    <tr>\n",
       "      <th>numberOfUnit</th>\n",
       "      <td>0.000041</td>\n",
       "      <td>0.109249</td>\n",
       "      <td>0.086089</td>\n",
       "      <td>0.006000</td>\n",
       "      <td>-0.100509</td>\n",
       "      <td>-0.105279</td>\n",
       "      <td>-0.002000</td>\n",
       "      <td>0.018396</td>\n",
       "      <td>0.026819</td>\n",
       "      <td>1.000000</td>\n",
       "      <td>-0.002966</td>\n",
       "      <td>-0.119837</td>\n",
       "      <td>0.026335</td>\n",
       "    </tr>\n",
       "    <tr>\n",
       "      <th>zip</th>\n",
       "      <td>-0.002308</td>\n",
       "      <td>-0.038613</td>\n",
       "      <td>0.160365</td>\n",
       "      <td>0.017326</td>\n",
       "      <td>-0.130198</td>\n",
       "      <td>-0.127452</td>\n",
       "      <td>0.035792</td>\n",
       "      <td>0.045397</td>\n",
       "      <td>0.017597</td>\n",
       "      <td>-0.002966</td>\n",
       "      <td>1.000000</td>\n",
       "      <td>-0.013030</td>\n",
       "      <td>0.008217</td>\n",
       "    </tr>\n",
       "    <tr>\n",
       "      <th>miPercentage</th>\n",
       "      <td>0.000819</td>\n",
       "      <td>-0.079057</td>\n",
       "      <td>-0.019131</td>\n",
       "      <td>0.027957</td>\n",
       "      <td>0.767360</td>\n",
       "      <td>0.626622</td>\n",
       "      <td>0.011339</td>\n",
       "      <td>0.009280</td>\n",
       "      <td>0.021233</td>\n",
       "      <td>-0.119837</td>\n",
       "      <td>-0.013030</td>\n",
       "      <td>1.000000</td>\n",
       "      <td>-0.009519</td>\n",
       "    </tr>\n",
       "    <tr>\n",
       "      <th>coBorrowCreditScore</th>\n",
       "      <td>0.001936</td>\n",
       "      <td>-0.366862</td>\n",
       "      <td>0.067285</td>\n",
       "      <td>-0.019572</td>\n",
       "      <td>-0.140064</td>\n",
       "      <td>-0.145683</td>\n",
       "      <td>-0.004082</td>\n",
       "      <td>-0.200430</td>\n",
       "      <td>0.680389</td>\n",
       "      <td>0.026335</td>\n",
       "      <td>0.008217</td>\n",
       "      <td>-0.009519</td>\n",
       "      <td>1.000000</td>\n",
       "    </tr>\n",
       "  </tbody>\n",
       "</table>\n",
       "</div>"
      ],
      "text/plain": [
       "                       loanID  origIntRate   origUPB  origLoanTerm   origLTV  \\\n",
       "loanID               1.000000    -0.002168 -0.000944     -0.001819  0.000579   \n",
       "origIntRate         -0.002168     1.000000 -0.208986     -0.011273  0.164424   \n",
       "origUPB             -0.000944    -0.208986  1.000000     -0.007772 -0.030600   \n",
       "origLoanTerm        -0.001819    -0.011273 -0.007772      1.000000  0.008183   \n",
       "origLTV              0.000579     0.164424 -0.030600      0.008183  1.000000   \n",
       "origCLTV             0.000335     0.161094 -0.007717      0.008921  0.973429   \n",
       "numBorower           0.001874    -0.065848  0.166198     -0.013515 -0.043807   \n",
       "DTI                 -0.001564     0.149126  0.060736      0.013625  0.048152   \n",
       "borrowCreditScore    0.003674    -0.388532  0.090680     -0.018940 -0.098579   \n",
       "numberOfUnit         0.000041     0.109249  0.086089      0.006000 -0.100509   \n",
       "zip                 -0.002308    -0.038613  0.160365      0.017326 -0.130198   \n",
       "miPercentage         0.000819    -0.079057 -0.019131      0.027957  0.767360   \n",
       "coBorrowCreditScore  0.001936    -0.366862  0.067285     -0.019572 -0.140064   \n",
       "\n",
       "                     origCLTV  numBorower       DTI  borrowCreditScore  \\\n",
       "loanID               0.000335    0.001874 -0.001564           0.003674   \n",
       "origIntRate          0.161094   -0.065848  0.149126          -0.388532   \n",
       "origUPB             -0.007717    0.166198  0.060736           0.090680   \n",
       "origLoanTerm         0.008921   -0.013515  0.013625          -0.018940   \n",
       "origLTV              0.973429   -0.043807  0.048152          -0.098579   \n",
       "origCLTV             1.000000   -0.038430  0.049880          -0.104063   \n",
       "numBorower          -0.038430    1.000000 -0.093050           0.115622   \n",
       "DTI                  0.049880   -0.093050  1.000000          -0.181649   \n",
       "borrowCreditScore   -0.104063    0.115622 -0.181649           1.000000   \n",
       "numberOfUnit        -0.105279   -0.002000  0.018396           0.026819   \n",
       "zip                 -0.127452    0.035792  0.045397           0.017597   \n",
       "miPercentage         0.626622    0.011339  0.009280           0.021233   \n",
       "coBorrowCreditScore -0.145683   -0.004082 -0.200430           0.680389   \n",
       "\n",
       "                     numberOfUnit       zip  miPercentage  coBorrowCreditScore  \n",
       "loanID                   0.000041 -0.002308      0.000819             0.001936  \n",
       "origIntRate              0.109249 -0.038613     -0.079057            -0.366862  \n",
       "origUPB                  0.086089  0.160365     -0.019131             0.067285  \n",
       "origLoanTerm             0.006000  0.017326      0.027957            -0.019572  \n",
       "origLTV                 -0.100509 -0.130198      0.767360            -0.140064  \n",
       "origCLTV                -0.105279 -0.127452      0.626622            -0.145683  \n",
       "numBorower              -0.002000  0.035792      0.011339            -0.004082  \n",
       "DTI                      0.018396  0.045397      0.009280            -0.200430  \n",
       "borrowCreditScore        0.026819  0.017597      0.021233             0.680389  \n",
       "numberOfUnit             1.000000 -0.002966     -0.119837             0.026335  \n",
       "zip                     -0.002966  1.000000     -0.013030             0.008217  \n",
       "miPercentage            -0.119837 -0.013030      1.000000            -0.009519  \n",
       "coBorrowCreditScore      0.026335  0.008217     -0.009519             1.000000  "
      ]
     },
     "execution_count": 52,
     "metadata": {},
     "output_type": "execute_result"
    }
   ],
   "source": [
    "loanData.corr()"
   ]
  },
  {
   "cell_type": "markdown",
   "metadata": {},
   "source": [
    "<h1 style=\"font-size:2em;color:#2467C0\">Merge Dataframes</h1>"
   ]
  },
  {
   "cell_type": "code",
   "execution_count": 60,
   "metadata": {},
   "outputs": [],
   "source": [
    "loanAll = pd.merge(loanData, perfData, on='loanID', how='inner')"
   ]
  },
  {
   "cell_type": "markdown",
   "metadata": {},
   "source": [
    "More examples: http://pandas.pydata.org/pandas-docs/stable/merging.html"
   ]
  },
  {
   "cell_type": "code",
   "execution_count": 68,
   "metadata": {},
   "outputs": [],
   "source": [
    "df  = loanAll.drop(['unknown1','unknown2', 'assetRecovCost',\n",
    " 'creditEnhcProceed',\n",
    " 'miscHoldingExpCredit',\n",
    " 'netSalesProceed',\n",
    " 'otherForeclProceed',\n",
    " 'periodMonth',\n",
    " 'propMaintCost',\n",
    " 'propType',\n",
    " 'taxAssociated',\n",
    " 'zeroBalCode',\n",
    " 'dispositionDate',\n",
    " 'repurchaseMakeWhole',\n",
    " 'foreclCost',\n",
    " 'forecloseDate',\n",
    " 'lastPaidInstallDate',\n",
    " 'loanBalEffectDate',\n",
    " 'servicerName',\n",
    " 'adjMonthToMature'                  \n",
    "  ], axis=1)"
   ]
  },
  {
   "cell_type": "markdown",
   "metadata": {},
   "source": [
    "## Excercise-2"
   ]
  },
  {
   "cell_type": "markdown",
   "metadata": {},
   "source": [
    "#### a. Show the number of rows and columns in in the df table"
   ]
  },
  {
   "cell_type": "code",
   "execution_count": null,
   "metadata": {
    "collapsed": false,
    "jupyter": {
     "outputs_hidden": false
    }
   },
   "outputs": [],
   "source": []
  },
  {
   "cell_type": "markdown",
   "metadata": {},
   "source": [
    "#### b. Display the columns in descending order along with their counts"
   ]
  },
  {
   "cell_type": "code",
   "execution_count": 70,
   "metadata": {
    "collapsed": true,
    "jupyter": {
     "outputs_hidden": true
    }
   },
   "outputs": [
    {
     "data": {
      "text/plain": [
       "miPercentage           1154949\n",
       "currUPB                 938008\n",
       "coBorrowCreditScore     884891\n",
       "borrowCreditScore          648\n",
       "DTI                        540\n",
       "modFlag                      0\n",
       "channel                      0\n",
       "sellerName                   0\n",
       "origIntRate                  0\n",
       "origUPB                      0\n",
       "origLoanTerm                 0\n",
       "orig_date                    0\n",
       "firstPaymentDate             0\n",
       "origLTV                      0\n",
       "origCLTV                     0\n",
       "numBorower                   0\n",
       "loanPurpose                  0\n",
       "firstTimeBuyer               0\n",
       "delinqStatus                 0\n",
       "propertyType                 0\n",
       "numberOfUnit                 0\n",
       "occupStatus                  0\n",
       "zip                          0\n",
       "prodType                     0\n",
       "currIntRate                  0\n",
       "loanAge                      0\n",
       "monthToMature                0\n",
       "maturityDate                 0\n",
       "MSA                          0\n",
       "loanID                       0\n",
       "dtype: int64"
      ]
     },
     "execution_count": 70,
     "metadata": {},
     "output_type": "execute_result"
    }
   ],
   "source": []
  },
  {
   "cell_type": "markdown",
   "metadata": {},
   "source": [
    "#### c. Display the total missing values percentage of missing values for each columns as shown below"
   ]
  },
  {
   "cell_type": "code",
   "execution_count": 14,
   "metadata": {
    "collapsed": true,
    "jupyter": {
     "outputs_hidden": true
    }
   },
   "outputs": [
    {
     "data": {
      "text/html": [
       "<div>\n",
       "<style scoped>\n",
       "    .dataframe tbody tr th:only-of-type {\n",
       "        vertical-align: middle;\n",
       "    }\n",
       "\n",
       "    .dataframe tbody tr th {\n",
       "        vertical-align: top;\n",
       "    }\n",
       "\n",
       "    .dataframe thead th {\n",
       "        text-align: right;\n",
       "    }\n",
       "</style>\n",
       "<table border=\"1\" class=\"dataframe\">\n",
       "  <thead>\n",
       "    <tr style=\"text-align: right;\">\n",
       "      <th></th>\n",
       "      <th>Total</th>\n",
       "      <th>Percent</th>\n",
       "    </tr>\n",
       "  </thead>\n",
       "  <tbody>\n",
       "    <tr>\n",
       "      <th>miPercentage</th>\n",
       "      <td>1154949</td>\n",
       "      <td>67.938176</td>\n",
       "    </tr>\n",
       "    <tr>\n",
       "      <th>currUPB</th>\n",
       "      <td>938008</td>\n",
       "      <td>55.176941</td>\n",
       "    </tr>\n",
       "    <tr>\n",
       "      <th>coBorrowCreditScore</th>\n",
       "      <td>884891</td>\n",
       "      <td>52.052412</td>\n",
       "    </tr>\n",
       "    <tr>\n",
       "      <th>borrowCreditScore</th>\n",
       "      <td>648</td>\n",
       "      <td>0.038118</td>\n",
       "    </tr>\n",
       "    <tr>\n",
       "      <th>DTI</th>\n",
       "      <td>540</td>\n",
       "      <td>0.031765</td>\n",
       "    </tr>\n",
       "    <tr>\n",
       "      <th>modFlag</th>\n",
       "      <td>0</td>\n",
       "      <td>0.000000</td>\n",
       "    </tr>\n",
       "    <tr>\n",
       "      <th>channel</th>\n",
       "      <td>0</td>\n",
       "      <td>0.000000</td>\n",
       "    </tr>\n",
       "    <tr>\n",
       "      <th>sellerName</th>\n",
       "      <td>0</td>\n",
       "      <td>0.000000</td>\n",
       "    </tr>\n",
       "    <tr>\n",
       "      <th>origIntRate</th>\n",
       "      <td>0</td>\n",
       "      <td>0.000000</td>\n",
       "    </tr>\n",
       "    <tr>\n",
       "      <th>origUPB</th>\n",
       "      <td>0</td>\n",
       "      <td>0.000000</td>\n",
       "    </tr>\n",
       "    <tr>\n",
       "      <th>origLoanTerm</th>\n",
       "      <td>0</td>\n",
       "      <td>0.000000</td>\n",
       "    </tr>\n",
       "    <tr>\n",
       "      <th>orig_date</th>\n",
       "      <td>0</td>\n",
       "      <td>0.000000</td>\n",
       "    </tr>\n",
       "    <tr>\n",
       "      <th>firstPaymentDate</th>\n",
       "      <td>0</td>\n",
       "      <td>0.000000</td>\n",
       "    </tr>\n",
       "    <tr>\n",
       "      <th>origLTV</th>\n",
       "      <td>0</td>\n",
       "      <td>0.000000</td>\n",
       "    </tr>\n",
       "    <tr>\n",
       "      <th>origCLTV</th>\n",
       "      <td>0</td>\n",
       "      <td>0.000000</td>\n",
       "    </tr>\n",
       "    <tr>\n",
       "      <th>numBorower</th>\n",
       "      <td>0</td>\n",
       "      <td>0.000000</td>\n",
       "    </tr>\n",
       "    <tr>\n",
       "      <th>loanPurpose</th>\n",
       "      <td>0</td>\n",
       "      <td>0.000000</td>\n",
       "    </tr>\n",
       "    <tr>\n",
       "      <th>firstTimeBuyer</th>\n",
       "      <td>0</td>\n",
       "      <td>0.000000</td>\n",
       "    </tr>\n",
       "    <tr>\n",
       "      <th>delinqStatus</th>\n",
       "      <td>0</td>\n",
       "      <td>0.000000</td>\n",
       "    </tr>\n",
       "    <tr>\n",
       "      <th>propertyType</th>\n",
       "      <td>0</td>\n",
       "      <td>0.000000</td>\n",
       "    </tr>\n",
       "    <tr>\n",
       "      <th>numberOfUnit</th>\n",
       "      <td>0</td>\n",
       "      <td>0.000000</td>\n",
       "    </tr>\n",
       "    <tr>\n",
       "      <th>occupStatus</th>\n",
       "      <td>0</td>\n",
       "      <td>0.000000</td>\n",
       "    </tr>\n",
       "    <tr>\n",
       "      <th>zip</th>\n",
       "      <td>0</td>\n",
       "      <td>0.000000</td>\n",
       "    </tr>\n",
       "    <tr>\n",
       "      <th>prodType</th>\n",
       "      <td>0</td>\n",
       "      <td>0.000000</td>\n",
       "    </tr>\n",
       "    <tr>\n",
       "      <th>currIntRate</th>\n",
       "      <td>0</td>\n",
       "      <td>0.000000</td>\n",
       "    </tr>\n",
       "    <tr>\n",
       "      <th>loanAge</th>\n",
       "      <td>0</td>\n",
       "      <td>0.000000</td>\n",
       "    </tr>\n",
       "    <tr>\n",
       "      <th>monthToMature</th>\n",
       "      <td>0</td>\n",
       "      <td>0.000000</td>\n",
       "    </tr>\n",
       "    <tr>\n",
       "      <th>maturityDate</th>\n",
       "      <td>0</td>\n",
       "      <td>0.000000</td>\n",
       "    </tr>\n",
       "    <tr>\n",
       "      <th>MSA</th>\n",
       "      <td>0</td>\n",
       "      <td>0.000000</td>\n",
       "    </tr>\n",
       "    <tr>\n",
       "      <th>loanID</th>\n",
       "      <td>0</td>\n",
       "      <td>0.000000</td>\n",
       "    </tr>\n",
       "  </tbody>\n",
       "</table>\n",
       "</div>"
      ],
      "text/plain": [
       "                       Total    Percent\n",
       "miPercentage         1154949  67.938176\n",
       "currUPB               938008  55.176941\n",
       "coBorrowCreditScore   884891  52.052412\n",
       "borrowCreditScore        648   0.038118\n",
       "DTI                      540   0.031765\n",
       "modFlag                    0   0.000000\n",
       "channel                    0   0.000000\n",
       "sellerName                 0   0.000000\n",
       "origIntRate                0   0.000000\n",
       "origUPB                    0   0.000000\n",
       "origLoanTerm               0   0.000000\n",
       "orig_date                  0   0.000000\n",
       "firstPaymentDate           0   0.000000\n",
       "origLTV                    0   0.000000\n",
       "origCLTV                   0   0.000000\n",
       "numBorower                 0   0.000000\n",
       "loanPurpose                0   0.000000\n",
       "firstTimeBuyer             0   0.000000\n",
       "delinqStatus               0   0.000000\n",
       "propertyType               0   0.000000\n",
       "numberOfUnit               0   0.000000\n",
       "occupStatus                0   0.000000\n",
       "zip                        0   0.000000\n",
       "prodType                   0   0.000000\n",
       "currIntRate                0   0.000000\n",
       "loanAge                    0   0.000000\n",
       "monthToMature              0   0.000000\n",
       "maturityDate               0   0.000000\n",
       "MSA                        0   0.000000\n",
       "loanID                     0   0.000000"
      ]
     },
     "execution_count": 14,
     "metadata": {},
     "output_type": "execute_result"
    }
   ],
   "source": []
  },
  {
   "cell_type": "markdown",
   "metadata": {},
   "source": [
    "Let's look at the null values"
   ]
  },
  {
   "cell_type": "code",
   "execution_count": 15,
   "metadata": {},
   "outputs": [
    {
     "name": "stdout",
     "output_type": "stream",
     "text": [
      "    DTI  borrowCreditScore  miPercentage  coBorrowCreditScore  currUPB\n",
      "0  32.0              652.0          30.0                  NaN      NaN\n",
      "1  32.0              652.0          30.0                  NaN      NaN\n",
      "2  32.0              652.0          30.0                  NaN      NaN\n",
      "3  32.0              652.0          30.0                  NaN      NaN\n",
      "4  32.0              652.0          30.0                  NaN      NaN\n"
     ]
    }
   ],
   "source": [
    "null_columns=df.columns[df.isnull().any()]\n",
    "print(df[df.isnull().any(axis=1)][null_columns].head())"
   ]
  },
  {
   "cell_type": "markdown",
   "metadata": {},
   "source": [
    "#### d. Replace the null values as zero for the above columns"
   ]
  },
  {
   "cell_type": "code",
   "execution_count": null,
   "metadata": {},
   "outputs": [],
   "source": []
  },
  {
   "cell_type": "markdown",
   "metadata": {},
   "source": [
    "#### e. Select the 'sellerName' and 'delinqStatus' and show the first 7 rows"
   ]
  },
  {
   "cell_type": "code",
   "execution_count": 72,
   "metadata": {
    "collapsed": true,
    "jupyter": {
     "outputs_hidden": true
    }
   },
   "outputs": [
    {
     "data": {
      "text/html": [
       "<div>\n",
       "<style scoped>\n",
       "    .dataframe tbody tr th:only-of-type {\n",
       "        vertical-align: middle;\n",
       "    }\n",
       "\n",
       "    .dataframe tbody tr th {\n",
       "        vertical-align: top;\n",
       "    }\n",
       "\n",
       "    .dataframe thead th {\n",
       "        text-align: right;\n",
       "    }\n",
       "</style>\n",
       "<table border=\"1\" class=\"dataframe\">\n",
       "  <thead>\n",
       "    <tr style=\"text-align: right;\">\n",
       "      <th></th>\n",
       "      <th>sellerName</th>\n",
       "      <th>delinqStatus</th>\n",
       "    </tr>\n",
       "  </thead>\n",
       "  <tbody>\n",
       "    <tr>\n",
       "      <th>0</th>\n",
       "      <td>OTHER</td>\n",
       "      <td>0</td>\n",
       "    </tr>\n",
       "    <tr>\n",
       "      <th>1</th>\n",
       "      <td>OTHER</td>\n",
       "      <td>0</td>\n",
       "    </tr>\n",
       "    <tr>\n",
       "      <th>2</th>\n",
       "      <td>OTHER</td>\n",
       "      <td>0</td>\n",
       "    </tr>\n",
       "    <tr>\n",
       "      <th>3</th>\n",
       "      <td>OTHER</td>\n",
       "      <td>0</td>\n",
       "    </tr>\n",
       "    <tr>\n",
       "      <th>4</th>\n",
       "      <td>OTHER</td>\n",
       "      <td>0</td>\n",
       "    </tr>\n",
       "    <tr>\n",
       "      <th>5</th>\n",
       "      <td>OTHER</td>\n",
       "      <td>0</td>\n",
       "    </tr>\n",
       "    <tr>\n",
       "      <th>6</th>\n",
       "      <td>OTHER</td>\n",
       "      <td>0</td>\n",
       "    </tr>\n",
       "  </tbody>\n",
       "</table>\n",
       "</div>"
      ],
      "text/plain": [
       "  sellerName delinqStatus\n",
       "0      OTHER            0\n",
       "1      OTHER            0\n",
       "2      OTHER            0\n",
       "3      OTHER            0\n",
       "4      OTHER            0\n",
       "5      OTHER            0\n",
       "6      OTHER            0"
      ]
     },
     "execution_count": 72,
     "metadata": {},
     "output_type": "execute_result"
    }
   ],
   "source": []
  },
  {
   "cell_type": "markdown",
   "metadata": {},
   "source": [
    "#### f. Count the number of delinquent loans using the delinqStatus column and show the relults"
   ]
  },
  {
   "cell_type": "code",
   "execution_count": 74,
   "metadata": {
    "collapsed": true,
    "jupyter": {
     "outputs_hidden": true
    }
   },
   "outputs": [
    {
     "data": {
      "text/plain": [
       "0     1685940\n",
       "X        7636\n",
       "1        5417\n",
       "2         563\n",
       "3         190\n",
       "4         103\n",
       "5          62\n",
       "6          41\n",
       "7          26\n",
       "8          14\n",
       "9           7\n",
       "10          1\n",
       "Name: delinqStatus, dtype: int64"
      ]
     },
     "execution_count": 74,
     "metadata": {},
     "output_type": "execute_result"
    }
   ],
   "source": []
  },
  {
   "cell_type": "markdown",
   "metadata": {},
   "source": [
    "#### g. Filters for loanIDs where borrowers have excellent credit scores using the condition 'borrowCreditScore' >= 800. Display any 7 rows using this filter."
   ]
  },
  {
   "cell_type": "code",
   "execution_count": 78,
   "metadata": {
    "collapsed": true,
    "jupyter": {
     "outputs_hidden": true
    }
   },
   "outputs": [
    {
     "data": {
      "text/html": [
       "<div>\n",
       "<style scoped>\n",
       "    .dataframe tbody tr th:only-of-type {\n",
       "        vertical-align: middle;\n",
       "    }\n",
       "\n",
       "    .dataframe tbody tr th {\n",
       "        vertical-align: top;\n",
       "    }\n",
       "\n",
       "    .dataframe thead th {\n",
       "        text-align: right;\n",
       "    }\n",
       "</style>\n",
       "<table border=\"1\" class=\"dataframe\">\n",
       "  <thead>\n",
       "    <tr style=\"text-align: right;\">\n",
       "      <th></th>\n",
       "      <th>loanID</th>\n",
       "      <th>channel</th>\n",
       "      <th>sellerName</th>\n",
       "      <th>origIntRate</th>\n",
       "      <th>origUPB</th>\n",
       "      <th>origLoanTerm</th>\n",
       "      <th>orig_date</th>\n",
       "      <th>firstPaymentDate</th>\n",
       "      <th>origLTV</th>\n",
       "      <th>origCLTV</th>\n",
       "      <th>...</th>\n",
       "      <th>prodType</th>\n",
       "      <th>coBorrowCreditScore</th>\n",
       "      <th>currIntRate</th>\n",
       "      <th>currUPB</th>\n",
       "      <th>loanAge</th>\n",
       "      <th>monthToMature</th>\n",
       "      <th>maturityDate</th>\n",
       "      <th>MSA</th>\n",
       "      <th>delinqStatus</th>\n",
       "      <th>modFlag</th>\n",
       "    </tr>\n",
       "  </thead>\n",
       "  <tbody>\n",
       "    <tr>\n",
       "      <th>34</th>\n",
       "      <td>100004457300</td>\n",
       "      <td>C</td>\n",
       "      <td>WELLS FARGO BANK, N.A.</td>\n",
       "      <td>3.875</td>\n",
       "      <td>304000</td>\n",
       "      <td>360</td>\n",
       "      <td>11/2014</td>\n",
       "      <td>01/2015</td>\n",
       "      <td>80</td>\n",
       "      <td>80</td>\n",
       "      <td>...</td>\n",
       "      <td>FRM</td>\n",
       "      <td>NaN</td>\n",
       "      <td>3.875</td>\n",
       "      <td>298397.66</td>\n",
       "      <td>11</td>\n",
       "      <td>349</td>\n",
       "      <td>12/2044</td>\n",
       "      <td>12060</td>\n",
       "      <td>0</td>\n",
       "      <td>N</td>\n",
       "    </tr>\n",
       "    <tr>\n",
       "      <th>35</th>\n",
       "      <td>100004457300</td>\n",
       "      <td>C</td>\n",
       "      <td>WELLS FARGO BANK, N.A.</td>\n",
       "      <td>3.875</td>\n",
       "      <td>304000</td>\n",
       "      <td>360</td>\n",
       "      <td>11/2014</td>\n",
       "      <td>01/2015</td>\n",
       "      <td>80</td>\n",
       "      <td>80</td>\n",
       "      <td>...</td>\n",
       "      <td>FRM</td>\n",
       "      <td>NaN</td>\n",
       "      <td>3.875</td>\n",
       "      <td>297858.41</td>\n",
       "      <td>12</td>\n",
       "      <td>348</td>\n",
       "      <td>12/2044</td>\n",
       "      <td>12060</td>\n",
       "      <td>0</td>\n",
       "      <td>N</td>\n",
       "    </tr>\n",
       "    <tr>\n",
       "      <th>91</th>\n",
       "      <td>100023998128</td>\n",
       "      <td>R</td>\n",
       "      <td>OTHER</td>\n",
       "      <td>4.125</td>\n",
       "      <td>125000</td>\n",
       "      <td>360</td>\n",
       "      <td>01/2015</td>\n",
       "      <td>03/2015</td>\n",
       "      <td>61</td>\n",
       "      <td>61</td>\n",
       "      <td>...</td>\n",
       "      <td>FRM</td>\n",
       "      <td>NaN</td>\n",
       "      <td>4.125</td>\n",
       "      <td>NaN</td>\n",
       "      <td>0</td>\n",
       "      <td>360</td>\n",
       "      <td>02/2045</td>\n",
       "      <td>36100</td>\n",
       "      <td>0</td>\n",
       "      <td>N</td>\n",
       "    </tr>\n",
       "    <tr>\n",
       "      <th>92</th>\n",
       "      <td>100023998128</td>\n",
       "      <td>R</td>\n",
       "      <td>OTHER</td>\n",
       "      <td>4.125</td>\n",
       "      <td>125000</td>\n",
       "      <td>360</td>\n",
       "      <td>01/2015</td>\n",
       "      <td>03/2015</td>\n",
       "      <td>61</td>\n",
       "      <td>61</td>\n",
       "      <td>...</td>\n",
       "      <td>FRM</td>\n",
       "      <td>NaN</td>\n",
       "      <td>4.125</td>\n",
       "      <td>NaN</td>\n",
       "      <td>1</td>\n",
       "      <td>359</td>\n",
       "      <td>02/2045</td>\n",
       "      <td>36100</td>\n",
       "      <td>0</td>\n",
       "      <td>N</td>\n",
       "    </tr>\n",
       "    <tr>\n",
       "      <th>93</th>\n",
       "      <td>100023998128</td>\n",
       "      <td>R</td>\n",
       "      <td>OTHER</td>\n",
       "      <td>4.125</td>\n",
       "      <td>125000</td>\n",
       "      <td>360</td>\n",
       "      <td>01/2015</td>\n",
       "      <td>03/2015</td>\n",
       "      <td>61</td>\n",
       "      <td>61</td>\n",
       "      <td>...</td>\n",
       "      <td>FRM</td>\n",
       "      <td>NaN</td>\n",
       "      <td>4.125</td>\n",
       "      <td>NaN</td>\n",
       "      <td>2</td>\n",
       "      <td>358</td>\n",
       "      <td>02/2045</td>\n",
       "      <td>36100</td>\n",
       "      <td>0</td>\n",
       "      <td>N</td>\n",
       "    </tr>\n",
       "    <tr>\n",
       "      <th>94</th>\n",
       "      <td>100023998128</td>\n",
       "      <td>R</td>\n",
       "      <td>OTHER</td>\n",
       "      <td>4.125</td>\n",
       "      <td>125000</td>\n",
       "      <td>360</td>\n",
       "      <td>01/2015</td>\n",
       "      <td>03/2015</td>\n",
       "      <td>61</td>\n",
       "      <td>61</td>\n",
       "      <td>...</td>\n",
       "      <td>FRM</td>\n",
       "      <td>NaN</td>\n",
       "      <td>4.125</td>\n",
       "      <td>NaN</td>\n",
       "      <td>3</td>\n",
       "      <td>357</td>\n",
       "      <td>02/2045</td>\n",
       "      <td>36100</td>\n",
       "      <td>0</td>\n",
       "      <td>N</td>\n",
       "    </tr>\n",
       "    <tr>\n",
       "      <th>95</th>\n",
       "      <td>100023998128</td>\n",
       "      <td>R</td>\n",
       "      <td>OTHER</td>\n",
       "      <td>4.125</td>\n",
       "      <td>125000</td>\n",
       "      <td>360</td>\n",
       "      <td>01/2015</td>\n",
       "      <td>03/2015</td>\n",
       "      <td>61</td>\n",
       "      <td>61</td>\n",
       "      <td>...</td>\n",
       "      <td>FRM</td>\n",
       "      <td>NaN</td>\n",
       "      <td>4.125</td>\n",
       "      <td>NaN</td>\n",
       "      <td>4</td>\n",
       "      <td>356</td>\n",
       "      <td>02/2045</td>\n",
       "      <td>36100</td>\n",
       "      <td>0</td>\n",
       "      <td>N</td>\n",
       "    </tr>\n",
       "  </tbody>\n",
       "</table>\n",
       "<p>7 rows × 30 columns</p>\n",
       "</div>"
      ],
      "text/plain": [
       "          loanID channel              sellerName  origIntRate  origUPB  \\\n",
       "34  100004457300       C  WELLS FARGO BANK, N.A.        3.875   304000   \n",
       "35  100004457300       C  WELLS FARGO BANK, N.A.        3.875   304000   \n",
       "91  100023998128       R                   OTHER        4.125   125000   \n",
       "92  100023998128       R                   OTHER        4.125   125000   \n",
       "93  100023998128       R                   OTHER        4.125   125000   \n",
       "94  100023998128       R                   OTHER        4.125   125000   \n",
       "95  100023998128       R                   OTHER        4.125   125000   \n",
       "\n",
       "    origLoanTerm orig_date firstPaymentDate  origLTV  origCLTV  ...  prodType  \\\n",
       "34           360   11/2014          01/2015       80        80  ...       FRM   \n",
       "35           360   11/2014          01/2015       80        80  ...       FRM   \n",
       "91           360   01/2015          03/2015       61        61  ...       FRM   \n",
       "92           360   01/2015          03/2015       61        61  ...       FRM   \n",
       "93           360   01/2015          03/2015       61        61  ...       FRM   \n",
       "94           360   01/2015          03/2015       61        61  ...       FRM   \n",
       "95           360   01/2015          03/2015       61        61  ...       FRM   \n",
       "\n",
       "    coBorrowCreditScore  currIntRate    currUPB loanAge monthToMature  \\\n",
       "34                  NaN        3.875  298397.66      11           349   \n",
       "35                  NaN        3.875  297858.41      12           348   \n",
       "91                  NaN        4.125        NaN       0           360   \n",
       "92                  NaN        4.125        NaN       1           359   \n",
       "93                  NaN        4.125        NaN       2           358   \n",
       "94                  NaN        4.125        NaN       3           357   \n",
       "95                  NaN        4.125        NaN       4           356   \n",
       "\n",
       "    maturityDate    MSA  delinqStatus  modFlag  \n",
       "34       12/2044  12060             0        N  \n",
       "35       12/2044  12060             0        N  \n",
       "91       02/2045  36100             0        N  \n",
       "92       02/2045  36100             0        N  \n",
       "93       02/2045  36100             0        N  \n",
       "94       02/2045  36100             0        N  \n",
       "95       02/2045  36100             0        N  \n",
       "\n",
       "[7 rows x 30 columns]"
      ]
     },
     "execution_count": 78,
     "metadata": {},
     "output_type": "execute_result"
    }
   ],
   "source": []
  },
  {
   "cell_type": "markdown",
   "metadata": {},
   "source": [
    "#### h. Group by 'delinqStatus' by propertyType and display the results"
   ]
  },
  {
   "cell_type": "code",
   "execution_count": 73,
   "metadata": {
    "collapsed": false,
    "jupyter": {
     "outputs_hidden": false
    }
   },
   "outputs": [
    {
     "data": {
      "text/html": [
       "<div>\n",
       "<style scoped>\n",
       "    .dataframe tbody tr th:only-of-type {\n",
       "        vertical-align: middle;\n",
       "    }\n",
       "\n",
       "    .dataframe tbody tr th {\n",
       "        vertical-align: top;\n",
       "    }\n",
       "\n",
       "    .dataframe thead th {\n",
       "        text-align: right;\n",
       "    }\n",
       "</style>\n",
       "<table border=\"1\" class=\"dataframe\">\n",
       "  <thead>\n",
       "    <tr style=\"text-align: right;\">\n",
       "      <th></th>\n",
       "      <th>delinqStatus</th>\n",
       "    </tr>\n",
       "    <tr>\n",
       "      <th>propertyType</th>\n",
       "      <th></th>\n",
       "    </tr>\n",
       "  </thead>\n",
       "  <tbody>\n",
       "    <tr>\n",
       "      <th>CO</th>\n",
       "      <td>75358</td>\n",
       "    </tr>\n",
       "    <tr>\n",
       "      <th>CP</th>\n",
       "      <td>3583</td>\n",
       "    </tr>\n",
       "    <tr>\n",
       "      <th>MH</th>\n",
       "      <td>3317</td>\n",
       "    </tr>\n",
       "    <tr>\n",
       "      <th>PU</th>\n",
       "      <td>210526</td>\n",
       "    </tr>\n",
       "    <tr>\n",
       "      <th>SF</th>\n",
       "      <td>469208</td>\n",
       "    </tr>\n",
       "  </tbody>\n",
       "</table>\n",
       "</div>"
      ],
      "text/plain": [
       "              delinqStatus\n",
       "propertyType              \n",
       "CO                   75358\n",
       "CP                    3583\n",
       "MH                    3317\n",
       "PU                  210526\n",
       "SF                  469208"
      ]
     },
     "execution_count": 73,
     "metadata": {},
     "output_type": "execute_result"
    }
   ],
   "source": []
  }
 ],
 "metadata": {
  "kernelspec": {
   "display_name": "Python 3",
   "language": "python",
   "name": "python3"
  },
  "language_info": {
   "codemirror_mode": {
    "name": "ipython",
    "version": 3
   },
   "file_extension": ".py",
   "mimetype": "text/x-python",
   "name": "python",
   "nbconvert_exporter": "python",
   "pygments_lexer": "ipython3",
   "version": "3.7.0"
  }
 },
 "nbformat": 4,
 "nbformat_minor": 4
}
