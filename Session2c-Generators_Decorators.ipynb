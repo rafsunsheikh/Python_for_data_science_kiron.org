{
 "cells": [
  {
   "cell_type": "markdown",
   "metadata": {},
   "source": [
    "# Iterators, Generators and Decorators"
   ]
  },
  {
   "cell_type": "markdown",
   "metadata": {},
   "source": [
    "### Iterators\n",
    "\n",
    "Iterators are one of the main reasons Python code is very readable. You can loop through anything easily using a for loop as shown below.\n",
    "\n",
    "`for x in just_about_anything:\n",
    "    do_something(x)`\n",
    "    \n",
    "Iterator object implements __iter__() method which initializes an iterator by returning an iterator object and __next__() method which returns the next item in the process of iteration. Any iterator must implement these two methods and this is also called iterator protocol.\n",
    "\n",
    "So, we can create an iterator and produce next elements using these two methods and we are left with the task to stop the iteration. We stop any iteration by raising StopIteration."
   ]
  },
  {
   "cell_type": "code",
   "execution_count": 65,
   "metadata": {},
   "outputs": [
    {
     "name": "stdout",
     "output_type": "stream",
     "text": [
      "H\n",
      "i\n"
     ]
    }
   ],
   "source": [
    "x = \"Hi There\"\n",
    "\n",
    "a_iterator = iter(x)\n",
    "\n",
    "print(next(a_iterator))\n",
    "print(next(a_iterator))\n"
   ]
  },
  {
   "cell_type": "code",
   "execution_count": 66,
   "metadata": {},
   "outputs": [
    {
     "name": "stdout",
     "output_type": "stream",
     "text": [
      " \n"
     ]
    }
   ],
   "source": [
    "print(next(a_iterator))"
   ]
  },
  {
   "cell_type": "code",
   "execution_count": 67,
   "metadata": {},
   "outputs": [
    {
     "name": "stdout",
     "output_type": "stream",
     "text": [
      "T\n"
     ]
    }
   ],
   "source": [
    "print(next(a_iterator))"
   ]
  },
  {
   "cell_type": "code",
   "execution_count": null,
   "metadata": {},
   "outputs": [],
   "source": [
    "next(a_iterator) # This will raise StopIteration error as the elements to iter has ended"
   ]
  },
  {
   "cell_type": "code",
   "execution_count": 14,
   "metadata": {},
   "outputs": [
    {
     "name": "stdout",
     "output_type": "stream",
     "text": [
      "1\n",
      "2\n",
      "3\n",
      "4\n",
      "1\n",
      "2\n",
      "3\n",
      "H\n",
      "e\n",
      "l\n",
      "l\n",
      "o\n",
      " \n",
      "W\n",
      "o\n",
      "r\n",
      "l\n",
      "d\n"
     ]
    }
   ],
   "source": [
    "def for_example(i):\n",
    "    i_iterable = iter(i)\n",
    "\n",
    "    while True:\n",
    "        try:\n",
    "            print(next(i_iterable))\n",
    "        except StopIteration:\n",
    "            break\n",
    "\n",
    "for_example([1, 2, 3, 4]) # Iterating a list\n",
    "for_example((1, 2, 3))   # Iterating a tuple\n",
    "for_example(\"Hello World\") # Iterating a string"
   ]
  },
  {
   "cell_type": "markdown",
   "metadata": {},
   "source": [
    "### Generators\n",
    "\n",
    "Generator functions are a special kind of function that return a lazy iterator. These are objects that you can loop over like a list but, unlike lists, lazy iterators do not store their contents in memory.\n",
    "\n",
    "A generator has parameter, which we can call to generate a sequence of numbers. But unlike functions, which return a whole array, a generator yields one value at a time which requires less memory. Any python function with a keyword “yield” may be called as generator."
   ]
  },
  {
   "cell_type": "markdown",
   "metadata": {},
   "source": [
    "#### Reading Large Files Using Generators\n",
    "A common use case of generators is to work with data streams or large files, like CSV files. The code block below shows one way of counting those rows:"
   ]
  },
  {
   "cell_type": "code",
   "execution_count": 2,
   "metadata": {},
   "outputs": [
    {
     "name": "stdout",
     "output_type": "stream",
     "text": [
      "Row count is 151\n"
     ]
    }
   ],
   "source": [
    "def csv_reader(file_name):\n",
    "    for row in open(file_name, \"r\"):\n",
    "        yield row\n",
    "\n",
    "csv_gen = csv_reader(\"/Users/adamrob/data/iris/Iris.csv\")\n",
    "row_count = 0\n",
    "\n",
    "for row in csv_gen:\n",
    "    row_count += 1\n",
    "\n",
    "print(f\"Row count is {row_count}\")"
   ]
  },
  {
   "cell_type": "markdown",
   "metadata": {},
   "source": [
    "### Decorators\n",
    "Decorator is way to dynamically add some new behavior to some objects. \n",
    "\n",
    "A decorator in Python is a function that takes another function as its argument, and returns yet another function. Decorators can be extremely useful as they allow the extension of an existing function, without any modification to the original function source code.\n",
    "\n",
    "In the example we will create a simple example which will print some statement before and after the execution of a function."
   ]
  },
  {
   "cell_type": "code",
   "execution_count": 4,
   "metadata": {},
   "outputs": [
    {
     "name": "stdout",
     "output_type": "stream",
     "text": [
      "Before call\n",
      "After call\n"
     ]
    },
    {
     "data": {
      "text/plain": [
       "6"
      ]
     },
     "execution_count": 4,
     "metadata": {},
     "output_type": "execute_result"
    }
   ],
   "source": [
    "def my_decorator(func):\n",
    "    def wrapper(*args, **kwargs):\n",
    "        print(\"Before call\")\n",
    "        result = func(*args, **kwargs)\n",
    "        print(\"After call\")\n",
    "        return result\n",
    "    return wrapper\n",
    "\n",
    "@my_decorator\n",
    "def add(a, b):\n",
    "     return a + b\n",
    "\n",
    "add(4, 2)"
   ]
  }
 ],
 "metadata": {
  "kernelspec": {
   "display_name": "Python 3",
   "language": "python",
   "name": "python3"
  },
  "language_info": {
   "codemirror_mode": {
    "name": "ipython",
    "version": 3
   },
   "file_extension": ".py",
   "mimetype": "text/x-python",
   "name": "python",
   "nbconvert_exporter": "python",
   "pygments_lexer": "ipython3",
   "version": "3.7.0"
  }
 },
 "nbformat": 4,
 "nbformat_minor": 4
}
