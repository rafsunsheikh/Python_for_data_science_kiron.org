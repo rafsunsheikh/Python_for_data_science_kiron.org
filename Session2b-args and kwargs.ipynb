{
 "cells": [
  {
   "cell_type": "markdown",
   "metadata": {},
   "source": [
    "# *args and *kwargs\n",
    "\n",
    "##### Rabbani Mozahid\n",
    "\n",
    "<br />\n",
    "<br />\n"
   ]
  },
  {
   "cell_type": "markdown",
   "metadata": {},
   "source": [
    "## \\*args and **kwargs in Python\n",
    "\n",
    "In Python, you can pass a variable number of arguments to a function using two special symbols * and **. By convension they are uses as below:\n",
    "\n",
    "    1) *args\n",
    "    2) **kwargs"
   ]
  },
  {
   "cell_type": "markdown",
   "metadata": {},
   "source": [
    "### 1) *args\n",
    "\n",
    "The special syntax *args in function definitions in python is used to pass a variable number of arguments to a function. It is used to pass a non-key worded, variable-length argument list. \n",
    "\n",
    "The syntax is to use the symbol * to take in a variable number of arguments; by convention, it is often used with the word args.\n",
    "\n"
   ]
  },
  {
   "cell_type": "code",
   "execution_count": 4,
   "metadata": {},
   "outputs": [
    {
     "name": "stdout",
     "output_type": "stream",
     "text": [
      "Welcome \n",
      "to \n",
      "Washington DC\n"
     ]
    }
   ],
   "source": [
    "# Use of *args for variable number of arguments \n",
    "def myFun(*args): \n",
    "    for arg in args: \n",
    "        print (arg) \n",
    "\n",
    "myFun( 'Welcome ', 'to ' ,'Washington DC') \n"
   ]
  },
  {
   "cell_type": "code",
   "execution_count": 7,
   "metadata": {},
   "outputs": [
    {
     "name": "stdout",
     "output_type": "stream",
     "text": [
      "Welcome \n",
      "to \n",
      "Washington DC\n"
     ]
    }
   ],
   "source": [
    "# Use of *args for variable number of arguments \n",
    "def myFun(*some_text): \n",
    "    for arg in some_text: \n",
    "        print (arg) \n",
    "\n",
    "myFun( 'Welcome ', 'to ' ,'Washington DC') "
   ]
  },
  {
   "cell_type": "markdown",
   "metadata": {},
   "source": [
    "### 2)**kwargs\n",
    "\n",
    "The special syntax **kwargs in function definitions in python is used to pass a keyworded, variable-length argument list. \n",
    "\n",
    "A keyword argument is where you provide a name to the variable as you pass it into the function.\n",
    "\n",
    "Example for usage of **kwargs: "
   ]
  },
  {
   "cell_type": "code",
   "execution_count": 23,
   "metadata": {},
   "outputs": [
    {
     "name": "stdout",
     "output_type": "stream",
     "text": [
      "Name = Tom\n",
      "Age = 40\n",
      "Gender = Male\n"
     ]
    }
   ],
   "source": [
    "# Use of **kargs for variable number \n",
    "# of keyword arguments with one extra argument. \n",
    "\n",
    "def myFun(arg1, **kwargs): \n",
    "    for key, value in kwargs.items(): \n",
    "        print (\"%s = %s\" %(key, value)) \n",
    "\n",
    "# Driver code \n",
    "myFun(\"Hi\", Name ='Tom', Age = 40, Gender='Male')\n"
   ]
  },
  {
   "cell_type": "code",
   "execution_count": 22,
   "metadata": {},
   "outputs": [
    {
     "name": "stdout",
     "output_type": "stream",
     "text": [
      "Hello Friends!\n",
      "Here is my information.\n",
      "Name = Tom\n",
      "Age = 40\n",
      "Gender = Male\n"
     ]
    }
   ],
   "source": [
    "def myFun(*args, **kwargs):\n",
    "    for arg in args:\n",
    "        print (arg)\n",
    "    for key, value in kwargs.items(): \n",
    "        print (\"%s = %s\" %(key, value)) \n",
    "\n",
    "# Driver code \n",
    "myFun('Hello Friends!', \"Here is my information.\", Name ='Tom', Age = 40, Gender='Male')"
   ]
  },
  {
   "cell_type": "code",
   "execution_count": 36,
   "metadata": {},
   "outputs": [
    {
     "name": "stdout",
     "output_type": "stream",
     "text": [
      "name\n",
      "salary\n"
     ]
    }
   ],
   "source": [
    "def salary(**kwargs):\n",
    "    for i in kwargs:\n",
    "        print(i)\n",
    "salary(name=\"Jeni\", salary=90000)"
   ]
  },
  {
   "cell_type": "code",
   "execution_count": 37,
   "metadata": {},
   "outputs": [
    {
     "name": "stdout",
     "output_type": "stream",
     "text": [
      "('name', 'Jeni')\n",
      "('salary', 90000)\n"
     ]
    }
   ],
   "source": [
    "def salary(**kwargs):\n",
    "    for i in kwargs.items():\n",
    "        print(i)\n",
    "salary(name=\"Jeni\", salary=90000)"
   ]
  },
  {
   "cell_type": "code",
   "execution_count": null,
   "metadata": {},
   "outputs": [],
   "source": []
  }
 ],
 "metadata": {
  "kernelspec": {
   "display_name": "Python 3",
   "language": "python",
   "name": "python3"
  },
  "language_info": {
   "codemirror_mode": {
    "name": "ipython",
    "version": 3
   },
   "file_extension": ".py",
   "mimetype": "text/x-python",
   "name": "python",
   "nbconvert_exporter": "python",
   "pygments_lexer": "ipython3",
   "version": "3.7.0"
  }
 },
 "nbformat": 4,
 "nbformat_minor": 4
}
