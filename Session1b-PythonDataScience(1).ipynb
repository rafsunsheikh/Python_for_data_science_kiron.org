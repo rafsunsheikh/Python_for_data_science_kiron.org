{
 "cells": [
  {
   "cell_type": "markdown",
   "metadata": {},
   "source": [
    "# Session 1 - Part 2"
   ]
  },
  {
   "cell_type": "markdown",
   "metadata": {},
   "source": [
    "<br>\n",
    "\n",
    "### List, Tuple and Dictionaries\n",
    "\n",
    "#### List\n",
    "List are most flexible and multipurpose data type in Python. It is defined using square bracket and can easily be accessed  and modified."
   ]
  },
  {
   "cell_type": "code",
   "execution_count": 7,
   "metadata": {},
   "outputs": [
    {
     "data": {
      "text/plain": [
       "[11, 22, 33]"
      ]
     },
     "execution_count": 7,
     "metadata": {},
     "output_type": "execute_result"
    }
   ],
   "source": [
    "list = [11,22,33]\n",
    "\n",
    "list"
   ]
  },
  {
   "cell_type": "code",
   "execution_count": 8,
   "metadata": {},
   "outputs": [
    {
     "data": {
      "text/plain": [
       "22"
      ]
     },
     "execution_count": 8,
     "metadata": {},
     "output_type": "execute_result"
    }
   ],
   "source": [
    "list[1]"
   ]
  },
  {
   "cell_type": "code",
   "execution_count": 9,
   "metadata": {},
   "outputs": [
    {
     "data": {
      "text/plain": [
       "11"
      ]
     },
     "execution_count": 9,
     "metadata": {},
     "output_type": "execute_result"
    }
   ],
   "source": [
    "list [0]"
   ]
  },
  {
   "cell_type": "code",
   "execution_count": 10,
   "metadata": {},
   "outputs": [],
   "source": [
    "#Note this will give error\n",
    "\n",
    "#list[3]"
   ]
  },
  {
   "cell_type": "code",
   "execution_count": 11,
   "metadata": {},
   "outputs": [
    {
     "data": {
      "text/plain": [
       "[11, 22, 100]"
      ]
     },
     "execution_count": 11,
     "metadata": {},
     "output_type": "execute_result"
    }
   ],
   "source": [
    "#Update\n",
    "list[2]=100\n",
    "\n",
    "list"
   ]
  },
  {
   "cell_type": "code",
   "execution_count": 12,
   "metadata": {},
   "outputs": [
    {
     "data": {
      "text/plain": [
       "[11, 22, 100, 33]"
      ]
     },
     "execution_count": 12,
     "metadata": {},
     "output_type": "execute_result"
    }
   ],
   "source": [
    "list.append(33)\n",
    "\n",
    "list\n"
   ]
  },
  {
   "cell_type": "code",
   "execution_count": 13,
   "metadata": {},
   "outputs": [
    {
     "name": "stdout",
     "output_type": "stream",
     "text": [
      "11\n",
      "22\n",
      "100\n",
      "33\n"
     ]
    }
   ],
   "source": [
    "for i in list:\n",
    "\n",
    "    print(i)"
   ]
  },
  {
   "cell_type": "code",
   "execution_count": 14,
   "metadata": {},
   "outputs": [
    {
     "data": {
      "text/plain": [
       "[11, 22, 33]"
      ]
     },
     "execution_count": 14,
     "metadata": {},
     "output_type": "execute_result"
    }
   ],
   "source": [
    "#deleting an element\n",
    "\n",
    "list.remove(100)\n",
    "\n",
    "list"
   ]
  },
  {
   "cell_type": "code",
   "execution_count": 15,
   "metadata": {},
   "outputs": [
    {
     "data": {
      "text/plain": [
       "[22, 33]"
      ]
     },
     "execution_count": 15,
     "metadata": {},
     "output_type": "execute_result"
    }
   ],
   "source": [
    "list.pop(0)\n",
    "\n",
    "list"
   ]
  },
  {
   "cell_type": "code",
   "execution_count": 16,
   "metadata": {},
   "outputs": [
    {
     "name": "stdout",
     "output_type": "stream",
     "text": [
      "1 ,  4\n",
      "2 ,  5\n",
      "3 ,  6\n"
     ]
    }
   ],
   "source": [
    "#looping through two lists\n",
    "list = [1, 2, 3]\n",
    "list2 = [4, 5, 6]\n",
    "\n",
    "for x,y in zip(list, list2):\n",
    "\n",
    "    print(x,\", \",y)\n"
   ]
  },
  {
   "cell_type": "code",
   "execution_count": 17,
   "metadata": {},
   "outputs": [
    {
     "name": "stdout",
     "output_type": "stream",
     "text": [
      "((1, 4), (2, 5), (3, 6))\n"
     ]
    }
   ],
   "source": [
    "#Piaring  two list into a tuple\n",
    "list1 = [1, 2, 3]\n",
    "list2 = [4, 5, 6]\n",
    "\n",
    "tuple1= zip(list1, list2)\n",
    "\n",
    "print (tuple(tuple1)) #you need an extra \"tuple\" function inside print for a readable output\n"
   ]
  },
  {
   "cell_type": "code",
   "execution_count": 18,
   "metadata": {},
   "outputs": [
    {
     "name": "stdout",
     "output_type": "stream",
     "text": [
      "[10, 42, 30]\n"
     ]
    }
   ],
   "source": [
    "#Guess what will be printed value for y\n",
    "\n",
    "x = [10,20,30]\n",
    "\n",
    "y = x\n",
    "\n",
    "x[1] = 42\n",
    "\n",
    "print(y)"
   ]
  },
  {
   "cell_type": "markdown",
   "metadata": {},
   "source": [
    "### Now let's see tuple\n",
    "\n",
    "- Tuples are useful for parallel computing when you do not want something to be changed by a worker process\n"
   ]
  },
  {
   "cell_type": "code",
   "execution_count": 19,
   "metadata": {},
   "outputs": [
    {
     "data": {
      "text/plain": [
       "('FRM', 350, 'SF', 'FL')"
      ]
     },
     "execution_count": 19,
     "metadata": {},
     "output_type": "execute_result"
    }
   ],
   "source": [
    "#Looks same as list\n",
    "\n",
    "tuple1 = ('FRM',350, 'SF','FL')\n",
    "\n",
    "tuple1"
   ]
  },
  {
   "cell_type": "markdown",
   "metadata": {},
   "source": [
    "But they are immutable and if the following statement is run, you will get an error message stating \"TypeError: 'tuple' object does not support item assignment\"\n",
    "\n",
    "`tuple1[3]= 'VA'`"
   ]
  },
  {
   "cell_type": "markdown",
   "metadata": {},
   "source": [
    "### Dictionaries\n",
    "Dictionaries are one of the most widely used data types that makes Python powerful and effective for accessing and manipulating data."
   ]
  },
  {
   "cell_type": "code",
   "execution_count": 20,
   "metadata": {},
   "outputs": [],
   "source": [
    "iphonePrice = {\n",
    "\n",
    "    'iphone5' : 200,\n",
    "\n",
    "    'iphone6' : 300,\n",
    "\n",
    "    'iphone8' : 700,\n",
    "\n",
    "    'iphonex' : 900   }"
   ]
  },
  {
   "cell_type": "code",
   "execution_count": 21,
   "metadata": {},
   "outputs": [
    {
     "data": {
      "text/plain": [
       "900"
      ]
     },
     "execution_count": 21,
     "metadata": {},
     "output_type": "execute_result"
    }
   ],
   "source": [
    "iphonePrice[\"iphonex\"]"
   ]
  },
  {
   "cell_type": "code",
   "execution_count": 22,
   "metadata": {},
   "outputs": [
    {
     "data": {
      "text/plain": [
       "{'iphone5': 200,\n",
       " 'iphone6': 300,\n",
       " 'iphone8': 700,\n",
       " 'iphonex': 900,\n",
       " 'iphone7': 500}"
      ]
     },
     "execution_count": 22,
     "metadata": {},
     "output_type": "execute_result"
    }
   ],
   "source": [
    "iphonePrice['iphone7']=500\n",
    "iphonePrice"
   ]
  },
  {
   "cell_type": "markdown",
   "metadata": {},
   "source": [
    "### List and Dictionary Comprehension\n",
    "\n",
    "Comrehension is a way to build list or dictionaries quickly"
   ]
  },
  {
   "cell_type": "code",
   "execution_count": 23,
   "metadata": {},
   "outputs": [
    {
     "data": {
      "text/plain": [
       "[1, 4, 9, 16, 25, 36, 49, 64, 81, 100]"
      ]
     },
     "execution_count": 23,
     "metadata": {},
     "output_type": "execute_result"
    }
   ],
   "source": [
    "#Creating a quick list\n",
    "list=[i**2 for i in range(1, 11)]\n",
    "list"
   ]
  },
  {
   "cell_type": "code",
   "execution_count": 24,
   "metadata": {},
   "outputs": [
    {
     "data": {
      "text/plain": [
       "{1: 1, 2: 8, 3: 27, 4: 64, 5: 125, 6: 216, 7: 343, 8: 512, 9: 729, 10: 1000}"
      ]
     },
     "execution_count": 24,
     "metadata": {},
     "output_type": "execute_result"
    }
   ],
   "source": [
    "# Creating a quick dictionary \n",
    "dict= {i : i**3 for i in range (1, 11)}\n",
    "dict"
   ]
  },
  {
   "cell_type": "markdown",
   "metadata": {},
   "source": [
    "# Excercise 3\n",
    "\n",
    "### Write a Python code block to print the length of each of the following words.\n",
    "\n",
    "sentence = \"I have not failed. I've just found 10,000 ways that won't work.\"\n",
    "\n",
    "The output should look like the following?\n",
    "{'have': 4, 'not': 3, 'failed.': 7, \"I've\": 4, 'just': 4, 'found': 5, '10,000': 6, 'ways': 4, 'that': 4, \"won't\": 5, 'work.': 5}"
   ]
  },
  {
   "cell_type": "code",
   "execution_count": null,
   "metadata": {},
   "outputs": [],
   "source": []
  },
  {
   "cell_type": "markdown",
   "metadata": {},
   "source": [
    "<br>\n",
    "<br>\n"
   ]
  },
  {
   "cell_type": "markdown",
   "metadata": {},
   "source": [
    "### A Word About Using Unix Commands From Notebook\n",
    "Before we move into the next session, let's quickly explore few Unix commands that may be usefull while working with data. You can run Unix commands directly from notebook prefixing them with \"!\". Here are coouple of examples."
   ]
  },
  {
   "cell_type": "code",
   "execution_count": 25,
   "metadata": {},
   "outputs": [
    {
     "name": "stdout",
     "output_type": "stream",
     "text": [
      "/Users/adamrob/Learn/python/Training/python_data_science/notebook\n"
     ]
    }
   ],
   "source": [
    "#To know the path of your working directory\n",
    "!pwd"
   ]
  },
  {
   "cell_type": "code",
   "execution_count": 26,
   "metadata": {},
   "outputs": [
    {
     "name": "stdout",
     "output_type": "stream",
     "text": [
      "head: /Users/adamrob/data/Acquisition_2008Q1.txt: No such file or directory\n"
     ]
    }
   ],
   "source": [
    "#To see the top few lines of a file\n",
    "!head ~/data/Acquisition_2008Q1.txt"
   ]
  },
  {
   "cell_type": "code",
   "execution_count": 27,
   "metadata": {},
   "outputs": [
    {
     "name": "stdout",
     "output_type": "stream",
     "text": [
      "['/Users/adamrob/Learn/python/Training/python_data_science/notebook']\n"
     ]
    }
   ],
   "source": [
    "directory = !pwd\n",
    "print (directory)"
   ]
  },
  {
   "cell_type": "code",
   "execution_count": 28,
   "metadata": {},
   "outputs": [
    {
     "name": "stdout",
     "output_type": "stream",
     "text": [
      "[Errno 2] No such file or directory: '/Users/adamrob/Learn/Python_Data_Science_Book'\n",
      "/Users/adamrob/Learn/python/Training/python_data_science/notebook\n"
     ]
    }
   ],
   "source": [
    "cd ~/Learn/Python_Data_Science_Book"
   ]
  },
  {
   "cell_type": "code",
   "execution_count": 29,
   "metadata": {},
   "outputs": [
    {
     "name": "stdout",
     "output_type": "stream",
     "text": [
      "Backup_Session1a-PythonDataScienceBook.ipynb\n",
      "Day1-AM1-1c_MagicCommands.ipynb\n",
      "Day1-PM3-Solution-SAS2Python-Sqlite.ipynb\n",
      "Day2-SAS2Python-Sqlite-Excercise.ipynb\n",
      "\u001b[34mModule 1\u001b[m\u001b[m/\n",
      "\u001b[34mModule 10 - Jupyter Notebooks\u001b[m\u001b[m/\n",
      "Module 10 - Jupyter Notebooks.zip\n",
      "\u001b[34mModule 11 - Jupyter Notebooks\u001b[m\u001b[m/\n",
      "Module 11 - Jupyter Notebooks.zip\n",
      "\u001b[34mModule 2\u001b[m\u001b[m/\n",
      "\u001b[34mModule 3\u001b[m\u001b[m/\n",
      "\u001b[34mModule 4\u001b[m\u001b[m/\n",
      "Module 5 - Jupyter Notebooks.zip\n",
      "Module 6 - Jupyter Notebooks.zip\n",
      "Module 7 - Jupyter Notebooks.zip\n",
      "\u001b[34mModule 7 - Probability_Statistics\u001b[m\u001b[m/\n",
      "\u001b[34mModule 8 - Jupyter Notebooks\u001b[m\u001b[m/\n",
      "Module 8 - Jupyter Notebooks.zip\n",
      "\u001b[34mModule 9 - Jupyter Notebooks\u001b[m\u001b[m/\n",
      "Module 9 - Jupyter Notebooks.zip\n",
      "Numpy_arrays.ipynb\n",
      "Session1-Excercize.ipynb\n",
      "Session1-Excercize_Solution.ipynb\n",
      "Session1a-PythonDataScience.ipynb\n",
      "Session1b-PythonDataScience.ipynb\n",
      "Session1c-Store-Data-Sqlite.ipynb\n",
      "Session1d-UsingMagicCommands.ipynb\n",
      "Session2a-Functions.ipynb\n",
      "Session2a_Excercise.ipynb\n",
      "Session2b-More on Functions.ipynb\n",
      "Session3-PythonDataScience.ipynb\n",
      "Session4 - PythonDataScience.ipynb\n",
      "Untitled.ipynb\n",
      "Untitled1.ipynb\n",
      "imports.py\n",
      "iris.sqlite3\n",
      "nameMain.py\n",
      "quiz.py\n",
      "second.py\n"
     ]
    }
   ],
   "source": [
    "ls"
   ]
  },
  {
   "cell_type": "code",
   "execution_count": 30,
   "metadata": {},
   "outputs": [
    {
     "data": {
      "text/plain": [
       "'/Users/adamrob/Learn/python/Training/python_data_science/notebook'"
      ]
     },
     "execution_count": 30,
     "metadata": {},
     "output_type": "execute_result"
    }
   ],
   "source": [
    "pwd"
   ]
  }
 ],
 "metadata": {
  "kernelspec": {
   "display_name": "Python 3",
   "language": "python",
   "name": "python3"
  },
  "language_info": {
   "codemirror_mode": {
    "name": "ipython",
    "version": 3
   },
   "file_extension": ".py",
   "mimetype": "text/x-python",
   "name": "python",
   "nbconvert_exporter": "python",
   "pygments_lexer": "ipython3",
   "version": "3.7.0"
  }
 },
 "nbformat": 4,
 "nbformat_minor": 4
}
