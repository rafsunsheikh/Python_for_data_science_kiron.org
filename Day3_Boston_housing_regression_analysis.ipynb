{
  "nbformat": 4,
  "nbformat_minor": 0,
  "metadata": {
    "kernelspec": {
      "display_name": "Python 3",
      "language": "python",
      "name": "python3"
    },
    "language_info": {
      "codemirror_mode": {
        "name": "ipython",
        "version": 3
      },
      "file_extension": ".py",
      "mimetype": "text/x-python",
      "name": "python",
      "nbconvert_exporter": "python",
      "pygments_lexer": "ipython3",
      "version": "3.7.0"
    },
    "colab": {
      "name": "Day3-Boston-housing-regression-analysis.ipynb",
      "provenance": []
    }
  },
  "cells": [
    {
      "cell_type": "markdown",
      "metadata": {
        "id": "Oo_b1sgLBUHH"
      },
      "source": [
        "# Regression With Bosting Housing Market"
      ]
    },
    {
      "cell_type": "markdown",
      "metadata": {
        "id": "FOps3fjZBUHP"
      },
      "source": [
        "\n",
        "1. [Overview](#1)\n",
        "1. [Importing Libraries and Reading the Dataset](#2)\n",
        "1. [Data Analysis](#3) \n",
        "    * [Data Preprocessing](#4) \n",
        "    * [Visualizing Data](#5) \n",
        "1. [Regression Models](#6) \n",
        "    * [Linear Regression](#7) \n",
        "    * [Polynomial Regression - 2nd degree](#8)\n",
        "    * [Ridge Regression](#9)\n",
        "    * [Lasso Regression](#10)\n",
        "    * [Support Vector Regression](#11)\n",
        "    * [Decision Tree Regression](#12) \n",
        "    * [Random Forest Regression](#13)\n",
        "1. [Measuring the Error](#14)\n",
        "    * [Visualizing Models Performance](#15)\n"
      ]
    },
    {
      "cell_type": "markdown",
      "metadata": {
        "id": "6vzOIQemBUHQ"
      },
      "source": [
        "## <span id=\"1\"></span>  1. Overview"
      ]
    },
    {
      "cell_type": "markdown",
      "metadata": {
        "id": "tn8kUT3xBUHR"
      },
      "source": [
        "Columns:\n",
        "- **CRIM:** Per capita crime rate by town\n",
        "- **ZN:** Proportion of residential land zoned for lots over 25,000 sq. ft\n",
        "- **INDUS:** Proportion of non-retail business acres per town\n",
        "- **CHAS :** Charles River dummy variable (1 if tract bounds river; 0 otherwise)\n",
        "- **NOX:** Nitric oxide concentration (parts per 10 million)\n",
        "- **RM:** Average number of rooms per dwelling\n",
        "- **AGE:** Proportion of owner-occupied units built prior to 1940\n",
        "- **DIS:** Weighted distances to five Boston employment centers\n",
        "- **RAD:** Index of accessibility to radial highways\n",
        "- **PTRATIO:** Pupil-teacher ratio by town\n",
        "- **B:** 1000(Bk — 0.63)², where Bk is the proportion of [people of African American descent] by town\n",
        "- **LSTAT:** Percentage of lower status of the population\n",
        "- **MEDV:** Median value of owner-occupied homes in $1000s"
      ]
    },
    {
      "cell_type": "markdown",
      "metadata": {
        "id": "uTBfczw2BUHR"
      },
      "source": [
        "## <span id=\"2\"></span> 2. Importing Libraries and Reading the Dataset "
      ]
    },
    {
      "cell_type": "code",
      "metadata": {
        "_cell_guid": "b1076dfc-b9ad-4769-8c92-a6c4dae69d19",
        "_uuid": "8f2839f25d086af736a60e9eeb907d3b93b6e0e5",
        "id": "1XvEnnqSBUHS"
      },
      "source": [
        "import numpy as np\n",
        "import pandas as pd\n",
        "import matplotlib.pyplot as plt\n",
        "import seaborn as sns\n",
        "from sklearn.model_selection import cross_val_score\n",
        "from sklearn.metrics import mean_squared_error\n",
        "from sklearn.metrics import r2_score\n",
        "from collections import Counter\n",
        "from IPython.core.display import display, HTML\n",
        "sns.set_style('darkgrid')"
      ],
      "execution_count": null,
      "outputs": []
    },
    {
      "cell_type": "code",
      "metadata": {
        "id": "ydsZnYWaBUHT"
      },
      "source": [
        "from sklearn.datasets import load_boston\n",
        "boston_dataset = load_boston()\n",
        "dataset = pd.DataFrame(boston_dataset.data, columns = boston_dataset.feature_names)"
      ],
      "execution_count": null,
      "outputs": []
    },
    {
      "cell_type": "code",
      "metadata": {
        "id": "Rqo1eMYxBUHU",
        "outputId": "80c7b337-98f3-40fe-c59f-3b52822b1fee"
      },
      "source": [
        "dataset.head()"
      ],
      "execution_count": null,
      "outputs": [
        {
          "output_type": "execute_result",
          "data": {
            "text/html": [
              "<div>\n",
              "<style scoped>\n",
              "    .dataframe tbody tr th:only-of-type {\n",
              "        vertical-align: middle;\n",
              "    }\n",
              "\n",
              "    .dataframe tbody tr th {\n",
              "        vertical-align: top;\n",
              "    }\n",
              "\n",
              "    .dataframe thead th {\n",
              "        text-align: right;\n",
              "    }\n",
              "</style>\n",
              "<table border=\"1\" class=\"dataframe\">\n",
              "  <thead>\n",
              "    <tr style=\"text-align: right;\">\n",
              "      <th></th>\n",
              "      <th>CRIM</th>\n",
              "      <th>ZN</th>\n",
              "      <th>INDUS</th>\n",
              "      <th>CHAS</th>\n",
              "      <th>NOX</th>\n",
              "      <th>RM</th>\n",
              "      <th>AGE</th>\n",
              "      <th>DIS</th>\n",
              "      <th>RAD</th>\n",
              "      <th>TAX</th>\n",
              "      <th>PTRATIO</th>\n",
              "      <th>B</th>\n",
              "      <th>LSTAT</th>\n",
              "    </tr>\n",
              "  </thead>\n",
              "  <tbody>\n",
              "    <tr>\n",
              "      <th>0</th>\n",
              "      <td>0.00632</td>\n",
              "      <td>18.0</td>\n",
              "      <td>2.31</td>\n",
              "      <td>0.0</td>\n",
              "      <td>0.538</td>\n",
              "      <td>6.575</td>\n",
              "      <td>65.2</td>\n",
              "      <td>4.0900</td>\n",
              "      <td>1.0</td>\n",
              "      <td>296.0</td>\n",
              "      <td>15.3</td>\n",
              "      <td>396.90</td>\n",
              "      <td>4.98</td>\n",
              "    </tr>\n",
              "    <tr>\n",
              "      <th>1</th>\n",
              "      <td>0.02731</td>\n",
              "      <td>0.0</td>\n",
              "      <td>7.07</td>\n",
              "      <td>0.0</td>\n",
              "      <td>0.469</td>\n",
              "      <td>6.421</td>\n",
              "      <td>78.9</td>\n",
              "      <td>4.9671</td>\n",
              "      <td>2.0</td>\n",
              "      <td>242.0</td>\n",
              "      <td>17.8</td>\n",
              "      <td>396.90</td>\n",
              "      <td>9.14</td>\n",
              "    </tr>\n",
              "    <tr>\n",
              "      <th>2</th>\n",
              "      <td>0.02729</td>\n",
              "      <td>0.0</td>\n",
              "      <td>7.07</td>\n",
              "      <td>0.0</td>\n",
              "      <td>0.469</td>\n",
              "      <td>7.185</td>\n",
              "      <td>61.1</td>\n",
              "      <td>4.9671</td>\n",
              "      <td>2.0</td>\n",
              "      <td>242.0</td>\n",
              "      <td>17.8</td>\n",
              "      <td>392.83</td>\n",
              "      <td>4.03</td>\n",
              "    </tr>\n",
              "    <tr>\n",
              "      <th>3</th>\n",
              "      <td>0.03237</td>\n",
              "      <td>0.0</td>\n",
              "      <td>2.18</td>\n",
              "      <td>0.0</td>\n",
              "      <td>0.458</td>\n",
              "      <td>6.998</td>\n",
              "      <td>45.8</td>\n",
              "      <td>6.0622</td>\n",
              "      <td>3.0</td>\n",
              "      <td>222.0</td>\n",
              "      <td>18.7</td>\n",
              "      <td>394.63</td>\n",
              "      <td>2.94</td>\n",
              "    </tr>\n",
              "    <tr>\n",
              "      <th>4</th>\n",
              "      <td>0.06905</td>\n",
              "      <td>0.0</td>\n",
              "      <td>2.18</td>\n",
              "      <td>0.0</td>\n",
              "      <td>0.458</td>\n",
              "      <td>7.147</td>\n",
              "      <td>54.2</td>\n",
              "      <td>6.0622</td>\n",
              "      <td>3.0</td>\n",
              "      <td>222.0</td>\n",
              "      <td>18.7</td>\n",
              "      <td>396.90</td>\n",
              "      <td>5.33</td>\n",
              "    </tr>\n",
              "  </tbody>\n",
              "</table>\n",
              "</div>"
            ],
            "text/plain": [
              "      CRIM    ZN  INDUS  CHAS    NOX     RM   AGE     DIS  RAD    TAX  \\\n",
              "0  0.00632  18.0   2.31   0.0  0.538  6.575  65.2  4.0900  1.0  296.0   \n",
              "1  0.02731   0.0   7.07   0.0  0.469  6.421  78.9  4.9671  2.0  242.0   \n",
              "2  0.02729   0.0   7.07   0.0  0.469  7.185  61.1  4.9671  2.0  242.0   \n",
              "3  0.03237   0.0   2.18   0.0  0.458  6.998  45.8  6.0622  3.0  222.0   \n",
              "4  0.06905   0.0   2.18   0.0  0.458  7.147  54.2  6.0622  3.0  222.0   \n",
              "\n",
              "   PTRATIO       B  LSTAT  \n",
              "0     15.3  396.90   4.98  \n",
              "1     17.8  396.90   9.14  \n",
              "2     17.8  392.83   4.03  \n",
              "3     18.7  394.63   2.94  \n",
              "4     18.7  396.90   5.33  "
            ]
          },
          "metadata": {
            "tags": []
          },
          "execution_count": 7
        }
      ]
    },
    {
      "cell_type": "markdown",
      "metadata": {
        "id": "Ibx3UXChBUHV"
      },
      "source": [
        "As you seen, there isn't \"MEDV\" column that we will try to predict. Let's add the column to our dataset."
      ]
    },
    {
      "cell_type": "code",
      "metadata": {
        "id": "WImzCZnMBUHW"
      },
      "source": [
        "dataset['MEDV'] = boston_dataset.target"
      ],
      "execution_count": null,
      "outputs": []
    },
    {
      "cell_type": "code",
      "metadata": {
        "id": "-RWHOlWWBUHW",
        "outputId": "a5be31ac-a020-4152-e27e-37148700fd1e"
      },
      "source": [
        "dataset.head()"
      ],
      "execution_count": null,
      "outputs": [
        {
          "output_type": "execute_result",
          "data": {
            "text/html": [
              "<div>\n",
              "<style scoped>\n",
              "    .dataframe tbody tr th:only-of-type {\n",
              "        vertical-align: middle;\n",
              "    }\n",
              "\n",
              "    .dataframe tbody tr th {\n",
              "        vertical-align: top;\n",
              "    }\n",
              "\n",
              "    .dataframe thead th {\n",
              "        text-align: right;\n",
              "    }\n",
              "</style>\n",
              "<table border=\"1\" class=\"dataframe\">\n",
              "  <thead>\n",
              "    <tr style=\"text-align: right;\">\n",
              "      <th></th>\n",
              "      <th>CRIM</th>\n",
              "      <th>ZN</th>\n",
              "      <th>INDUS</th>\n",
              "      <th>CHAS</th>\n",
              "      <th>NOX</th>\n",
              "      <th>RM</th>\n",
              "      <th>AGE</th>\n",
              "      <th>DIS</th>\n",
              "      <th>RAD</th>\n",
              "      <th>TAX</th>\n",
              "      <th>PTRATIO</th>\n",
              "      <th>B</th>\n",
              "      <th>LSTAT</th>\n",
              "      <th>MEDV</th>\n",
              "    </tr>\n",
              "  </thead>\n",
              "  <tbody>\n",
              "    <tr>\n",
              "      <th>0</th>\n",
              "      <td>0.00632</td>\n",
              "      <td>18.0</td>\n",
              "      <td>2.31</td>\n",
              "      <td>0.0</td>\n",
              "      <td>0.538</td>\n",
              "      <td>6.575</td>\n",
              "      <td>65.2</td>\n",
              "      <td>4.0900</td>\n",
              "      <td>1.0</td>\n",
              "      <td>296.0</td>\n",
              "      <td>15.3</td>\n",
              "      <td>396.90</td>\n",
              "      <td>4.98</td>\n",
              "      <td>24.0</td>\n",
              "    </tr>\n",
              "    <tr>\n",
              "      <th>1</th>\n",
              "      <td>0.02731</td>\n",
              "      <td>0.0</td>\n",
              "      <td>7.07</td>\n",
              "      <td>0.0</td>\n",
              "      <td>0.469</td>\n",
              "      <td>6.421</td>\n",
              "      <td>78.9</td>\n",
              "      <td>4.9671</td>\n",
              "      <td>2.0</td>\n",
              "      <td>242.0</td>\n",
              "      <td>17.8</td>\n",
              "      <td>396.90</td>\n",
              "      <td>9.14</td>\n",
              "      <td>21.6</td>\n",
              "    </tr>\n",
              "    <tr>\n",
              "      <th>2</th>\n",
              "      <td>0.02729</td>\n",
              "      <td>0.0</td>\n",
              "      <td>7.07</td>\n",
              "      <td>0.0</td>\n",
              "      <td>0.469</td>\n",
              "      <td>7.185</td>\n",
              "      <td>61.1</td>\n",
              "      <td>4.9671</td>\n",
              "      <td>2.0</td>\n",
              "      <td>242.0</td>\n",
              "      <td>17.8</td>\n",
              "      <td>392.83</td>\n",
              "      <td>4.03</td>\n",
              "      <td>34.7</td>\n",
              "    </tr>\n",
              "    <tr>\n",
              "      <th>3</th>\n",
              "      <td>0.03237</td>\n",
              "      <td>0.0</td>\n",
              "      <td>2.18</td>\n",
              "      <td>0.0</td>\n",
              "      <td>0.458</td>\n",
              "      <td>6.998</td>\n",
              "      <td>45.8</td>\n",
              "      <td>6.0622</td>\n",
              "      <td>3.0</td>\n",
              "      <td>222.0</td>\n",
              "      <td>18.7</td>\n",
              "      <td>394.63</td>\n",
              "      <td>2.94</td>\n",
              "      <td>33.4</td>\n",
              "    </tr>\n",
              "    <tr>\n",
              "      <th>4</th>\n",
              "      <td>0.06905</td>\n",
              "      <td>0.0</td>\n",
              "      <td>2.18</td>\n",
              "      <td>0.0</td>\n",
              "      <td>0.458</td>\n",
              "      <td>7.147</td>\n",
              "      <td>54.2</td>\n",
              "      <td>6.0622</td>\n",
              "      <td>3.0</td>\n",
              "      <td>222.0</td>\n",
              "      <td>18.7</td>\n",
              "      <td>396.90</td>\n",
              "      <td>5.33</td>\n",
              "      <td>36.2</td>\n",
              "    </tr>\n",
              "  </tbody>\n",
              "</table>\n",
              "</div>"
            ],
            "text/plain": [
              "      CRIM    ZN  INDUS  CHAS    NOX     RM   AGE     DIS  RAD    TAX  \\\n",
              "0  0.00632  18.0   2.31   0.0  0.538  6.575  65.2  4.0900  1.0  296.0   \n",
              "1  0.02731   0.0   7.07   0.0  0.469  6.421  78.9  4.9671  2.0  242.0   \n",
              "2  0.02729   0.0   7.07   0.0  0.469  7.185  61.1  4.9671  2.0  242.0   \n",
              "3  0.03237   0.0   2.18   0.0  0.458  6.998  45.8  6.0622  3.0  222.0   \n",
              "4  0.06905   0.0   2.18   0.0  0.458  7.147  54.2  6.0622  3.0  222.0   \n",
              "\n",
              "   PTRATIO       B  LSTAT  MEDV  \n",
              "0     15.3  396.90   4.98  24.0  \n",
              "1     17.8  396.90   9.14  21.6  \n",
              "2     17.8  392.83   4.03  34.7  \n",
              "3     18.7  394.63   2.94  33.4  \n",
              "4     18.7  396.90   5.33  36.2  "
            ]
          },
          "metadata": {
            "tags": []
          },
          "execution_count": 9
        }
      ]
    },
    {
      "cell_type": "markdown",
      "metadata": {
        "id": "TsVkrvobBUHY"
      },
      "source": [
        "### Pandas and Numpy review"
      ]
    },
    {
      "cell_type": "markdown",
      "metadata": {
        "id": "8NBctGCVBUHY"
      },
      "source": [
        "#### Converting a dataframe to numpy array."
      ]
    },
    {
      "cell_type": "code",
      "metadata": {
        "id": "f6y9y5OgBUHY",
        "outputId": "77d5a511-0b2a-48a5-c55e-225ff6957a48"
      },
      "source": [
        "d = {'col1': [1, 2], 'col2': [3, 4], 'col3': [9, 8], 'col4': [1, 0]}\n",
        "df = pd.DataFrame(data=d)\n",
        "df"
      ],
      "execution_count": null,
      "outputs": [
        {
          "output_type": "execute_result",
          "data": {
            "text/html": [
              "<div>\n",
              "<style scoped>\n",
              "    .dataframe tbody tr th:only-of-type {\n",
              "        vertical-align: middle;\n",
              "    }\n",
              "\n",
              "    .dataframe tbody tr th {\n",
              "        vertical-align: top;\n",
              "    }\n",
              "\n",
              "    .dataframe thead th {\n",
              "        text-align: right;\n",
              "    }\n",
              "</style>\n",
              "<table border=\"1\" class=\"dataframe\">\n",
              "  <thead>\n",
              "    <tr style=\"text-align: right;\">\n",
              "      <th></th>\n",
              "      <th>col1</th>\n",
              "      <th>col2</th>\n",
              "      <th>col3</th>\n",
              "      <th>col4</th>\n",
              "    </tr>\n",
              "  </thead>\n",
              "  <tbody>\n",
              "    <tr>\n",
              "      <th>0</th>\n",
              "      <td>1</td>\n",
              "      <td>3</td>\n",
              "      <td>9</td>\n",
              "      <td>1</td>\n",
              "    </tr>\n",
              "    <tr>\n",
              "      <th>1</th>\n",
              "      <td>2</td>\n",
              "      <td>4</td>\n",
              "      <td>8</td>\n",
              "      <td>0</td>\n",
              "    </tr>\n",
              "  </tbody>\n",
              "</table>\n",
              "</div>"
            ],
            "text/plain": [
              "   col1  col2  col3  col4\n",
              "0     1     3     9     1\n",
              "1     2     4     8     0"
            ]
          },
          "metadata": {
            "tags": []
          },
          "execution_count": 10
        }
      ]
    },
    {
      "cell_type": "code",
      "metadata": {
        "id": "XNvNZuzEBUHZ",
        "outputId": "0ad7ef15-4783-4791-fdff-dfdcc3f11fa2"
      },
      "source": [
        "np_array1=df.iloc[:,0:3].values\n",
        "np_array1"
      ],
      "execution_count": null,
      "outputs": [
        {
          "output_type": "execute_result",
          "data": {
            "text/plain": [
              "array([[1, 3, 9],\n",
              "       [2, 4, 8]])"
            ]
          },
          "metadata": {
            "tags": []
          },
          "execution_count": 11
        }
      ]
    },
    {
      "cell_type": "code",
      "metadata": {
        "id": "xWd9auzcBUHa",
        "outputId": "6839395f-c499-44fa-93cd-53c3ee552a90"
      },
      "source": [
        "np_array1.shape"
      ],
      "execution_count": null,
      "outputs": [
        {
          "output_type": "execute_result",
          "data": {
            "text/plain": [
              "(2, 3)"
            ]
          },
          "metadata": {
            "tags": []
          },
          "execution_count": 12
        }
      ]
    },
    {
      "cell_type": "code",
      "metadata": {
        "id": "bn7Ypkb0BUHb",
        "outputId": "7b5ab232-5825-4bf9-daab-c154a1c5be31"
      },
      "source": [
        "np_array2=df.iloc[:,3].values\n",
        "np_array2"
      ],
      "execution_count": null,
      "outputs": [
        {
          "output_type": "execute_result",
          "data": {
            "text/plain": [
              "array([1, 0])"
            ]
          },
          "metadata": {
            "tags": []
          },
          "execution_count": 13
        }
      ]
    },
    {
      "cell_type": "code",
      "metadata": {
        "id": "z5qVhZnrBUHd",
        "outputId": "df61249e-fe40-4007-900a-895dea884e58"
      },
      "source": [
        "np_array2.shape"
      ],
      "execution_count": null,
      "outputs": [
        {
          "output_type": "execute_result",
          "data": {
            "text/plain": [
              "(2,)"
            ]
          },
          "metadata": {
            "tags": []
          },
          "execution_count": 14
        }
      ]
    },
    {
      "cell_type": "code",
      "metadata": {
        "id": "EIsWHa4_BUHd",
        "outputId": "e2950e98-d756-465c-c376-d4c074c17de0"
      },
      "source": [
        "np_array2=np_array2.reshape(-1,1)\n",
        "np_array2"
      ],
      "execution_count": null,
      "outputs": [
        {
          "output_type": "execute_result",
          "data": {
            "text/plain": [
              "array([[1],\n",
              "       [0]])"
            ]
          },
          "metadata": {
            "tags": []
          },
          "execution_count": 15
        }
      ]
    },
    {
      "cell_type": "code",
      "metadata": {
        "id": "UdjpcUJzBUHe",
        "outputId": "74bed127-5425-4793-e45c-51d78599c0e1"
      },
      "source": [
        "np_array2.shape"
      ],
      "execution_count": null,
      "outputs": [
        {
          "output_type": "execute_result",
          "data": {
            "text/plain": [
              "(2, 1)"
            ]
          },
          "metadata": {
            "tags": []
          },
          "execution_count": 16
        }
      ]
    },
    {
      "cell_type": "markdown",
      "metadata": {
        "id": "Gx9oZRGHBUHf"
      },
      "source": [
        "## <span id=\"3\"></span> 3. Data Analysis"
      ]
    },
    {
      "cell_type": "markdown",
      "metadata": {
        "id": "1bechN5KBUHf"
      },
      "source": [
        "### <span id=\"4\"></span> Data Preprocessing"
      ]
    },
    {
      "cell_type": "markdown",
      "metadata": {
        "id": "cAQBO3IsBUHf"
      },
      "source": [
        "### Exercise -1: Check if there is any missing values."
      ]
    },
    {
      "cell_type": "code",
      "metadata": {
        "id": "gz7yZvMJBUHf",
        "outputId": "e2ec8c0a-887b-4ed7-a9d8-3d83263c0798"
      },
      "source": [
        "dataset.isnull().sum()"
      ],
      "execution_count": null,
      "outputs": [
        {
          "output_type": "execute_result",
          "data": {
            "text/plain": [
              "CRIM       0\n",
              "ZN         0\n",
              "INDUS      0\n",
              "CHAS       0\n",
              "NOX        0\n",
              "RM         0\n",
              "AGE        0\n",
              "DIS        0\n",
              "RAD        0\n",
              "TAX        0\n",
              "PTRATIO    0\n",
              "B          0\n",
              "LSTAT      0\n",
              "MEDV       0\n",
              "dtype: int64"
            ]
          },
          "metadata": {
            "tags": []
          },
          "execution_count": 17
        }
      ]
    },
    {
      "cell_type": "markdown",
      "metadata": {
        "id": "uUke2EOQBUHg"
      },
      "source": [
        "###  Exercise-2: Divide the Dataset columns into X and y as below:\n",
        "\n",
        "**1. X will contain the first 13 columns as a numpy array**\n",
        "\n",
        "**2. y will contain only the last column again as an array**\n",
        "\n",
        "**3. Check the shape of both the array and change shape of y to make it same as the shape of X**\n",
        "\n",
        "For the model to work shape of X and y should be same.\n",
        "\n",
        "Hint: a) Use dataset.iloc[row,column].values syntax. b) use the reshape(n,n) to change the shape of y\n"
      ]
    },
    {
      "cell_type": "code",
      "metadata": {
        "id": "BGBjsDVMBUHg",
        "outputId": "600aafd3-1e40-47e6-a7c1-bafd21c144ae"
      },
      "source": [
        "X=dataset.iloc[:,0:13].values\n",
        "X"
      ],
      "execution_count": null,
      "outputs": [
        {
          "output_type": "execute_result",
          "data": {
            "text/plain": [
              "array([[6.3200e-03, 1.8000e+01, 2.3100e+00, ..., 1.5300e+01, 3.9690e+02,\n",
              "        4.9800e+00],\n",
              "       [2.7310e-02, 0.0000e+00, 7.0700e+00, ..., 1.7800e+01, 3.9690e+02,\n",
              "        9.1400e+00],\n",
              "       [2.7290e-02, 0.0000e+00, 7.0700e+00, ..., 1.7800e+01, 3.9283e+02,\n",
              "        4.0300e+00],\n",
              "       ...,\n",
              "       [6.0760e-02, 0.0000e+00, 1.1930e+01, ..., 2.1000e+01, 3.9690e+02,\n",
              "        5.6400e+00],\n",
              "       [1.0959e-01, 0.0000e+00, 1.1930e+01, ..., 2.1000e+01, 3.9345e+02,\n",
              "        6.4800e+00],\n",
              "       [4.7410e-02, 0.0000e+00, 1.1930e+01, ..., 2.1000e+01, 3.9690e+02,\n",
              "        7.8800e+00]])"
            ]
          },
          "metadata": {
            "tags": []
          },
          "execution_count": 18
        }
      ]
    },
    {
      "cell_type": "code",
      "metadata": {
        "id": "GjNnAoAdBUHg",
        "outputId": "e0ed96fd-14d7-4b3b-8c0f-0b6c9dc7a361"
      },
      "source": [
        "X.shape"
      ],
      "execution_count": null,
      "outputs": [
        {
          "output_type": "execute_result",
          "data": {
            "text/plain": [
              "(506, 13)"
            ]
          },
          "metadata": {
            "tags": []
          },
          "execution_count": 19
        }
      ]
    },
    {
      "cell_type": "code",
      "metadata": {
        "id": "KcbCRDtdBUHh"
      },
      "source": [
        "y=dataset.iloc[:,13].values.reshape(-1,1)"
      ],
      "execution_count": null,
      "outputs": []
    },
    {
      "cell_type": "code",
      "metadata": {
        "id": "8KGh6hKSBUHh",
        "outputId": "2767b48b-f5f5-4073-931a-a9fce87a0b81"
      },
      "source": [
        "y.shape"
      ],
      "execution_count": null,
      "outputs": [
        {
          "output_type": "execute_result",
          "data": {
            "text/plain": [
              "(506, 1)"
            ]
          },
          "metadata": {
            "tags": []
          },
          "execution_count": 21
        }
      ]
    },
    {
      "cell_type": "code",
      "metadata": {
        "id": "e2R2sVPFBUHh",
        "outputId": "36c8ff96-062d-45aa-976e-1a91ccb51735"
      },
      "source": [
        "type(y)"
      ],
      "execution_count": null,
      "outputs": [
        {
          "output_type": "execute_result",
          "data": {
            "text/plain": [
              "numpy.ndarray"
            ]
          },
          "metadata": {
            "tags": []
          },
          "execution_count": 22
        }
      ]
    },
    {
      "cell_type": "markdown",
      "metadata": {
        "id": "_UrFbpwJBUHh"
      },
      "source": [
        "### Split data"
      ]
    },
    {
      "cell_type": "code",
      "metadata": {
        "id": "Cv_maFiJBUHi"
      },
      "source": [
        "# Splitting the dataset into the Training set and Test set\n",
        "\n",
        "from sklearn.model_selection import train_test_split\n",
        "\n",
        "X_train, X_test, y_train, y_test = train_test_split(X, y, test_size = 0.3, random_state = 25)\n"
      ],
      "execution_count": null,
      "outputs": []
    },
    {
      "cell_type": "code",
      "metadata": {
        "id": "fmx1movZBUHi",
        "outputId": "1bd820ec-86f7-41b3-a4fb-eabecc9b6c26"
      },
      "source": [
        "print(\"Shape of X_train: \",X_train.shape)\n",
        "print(\"Shape of X_test: \", X_test.shape)\n",
        "print(\"Shape of y_train: \",y_train.shape)\n",
        "print(\"Shape of y_test\",y_test.shape)"
      ],
      "execution_count": null,
      "outputs": [
        {
          "output_type": "stream",
          "text": [
            "Shape of X_train:  (354, 13)\n",
            "Shape of X_test:  (152, 13)\n",
            "Shape of y_train:  (354, 1)\n",
            "Shape of y_test (152, 1)\n"
          ],
          "name": "stdout"
        }
      ]
    },
    {
      "cell_type": "markdown",
      "metadata": {
        "id": "BzCw5GXVBUHi"
      },
      "source": [
        "### <span id=\"5\"></span> Visualizing Data"
      ]
    },
    {
      "cell_type": "code",
      "metadata": {
        "id": "_A92kTrCBUHj",
        "outputId": "93fab2bd-94ce-4113-f1c9-114e455d44b3"
      },
      "source": [
        "corr = dataset.corr()\n",
        "#Plot figsize\n",
        "fig, ax = plt.subplots(figsize=(10, 10))\n",
        "#Generate Heat Map, allow annotations and place floats in map\n",
        "sns.heatmap(corr, cmap='RdBu', annot=True, fmt=\".2f\")\n",
        "#Apply xticks\n",
        "plt.xticks(range(len(corr.columns)), corr.columns);\n",
        "#Apply yticks\n",
        "plt.yticks(range(len(corr.columns)), corr.columns)\n",
        "#show plot\n",
        "plt.show()"
      ],
      "execution_count": null,
      "outputs": [
        {
          "output_type": "display_data",
          "data": {
            "image/png": "[encoded data removed]",
            "text/plain": [
              "<Figure size 720x720 with 2 Axes>"
            ]
          },
          "metadata": {
            "tags": []
          }
        }
      ]
    },
    {
      "cell_type": "markdown",
      "metadata": {
        "id": "ByVFIXxoBUHj"
      },
      "source": [
        "## <span id=\"6\"></span> 4. Regression Models"
      ]
    },
    {
      "cell_type": "markdown",
      "metadata": {
        "id": "aojVXsweBUHj"
      },
      "source": [
        "### <span id=\"7\"></span> Linear Regression"
      ]
    },
    {
      "cell_type": "code",
      "metadata": {
        "id": "b5b1uoKxBUHj",
        "outputId": "74fb1a7e-86cb-4faa-c5da-0205fb0afe26"
      },
      "source": [
        "# Train the model using Linear Regression\n",
        "# Here we are creating a Linear regression model\n",
        "\n",
        "from sklearn.linear_model import LinearRegression\n",
        "regressor_linear = LinearRegression()\n",
        "regressor_linear.fit(X_train, y_train)\n"
      ],
      "execution_count": null,
      "outputs": [
        {
          "output_type": "execute_result",
          "data": {
            "text/plain": [
              "LinearRegression()"
            ]
          },
          "metadata": {
            "tags": []
          },
          "execution_count": 26
        }
      ]
    },
    {
      "cell_type": "code",
      "metadata": {
        "id": "CZErkwiPBUHk",
        "outputId": "1f24916d-d263-4daa-94ee-e3789b57698c"
      },
      "source": [
        "from sklearn.model_selection import cross_val_score\n",
        "\n",
        "# Estimatingt the Cross Validation Score\n",
        "cv_linear = cross_val_score(estimator = regressor_linear, X = X_train, y = y_train, cv = 10)\n",
        "cv_linear"
      ],
      "execution_count": null,
      "outputs": [
        {
          "output_type": "execute_result",
          "data": {
            "text/plain": [
              "array([0.70126146, 0.80890564, 0.73921242, 0.72282719, 0.81675479,\n",
              "       0.46358474, 0.76652097, 0.49539638, 0.75589085, 0.71450003])"
            ]
          },
          "metadata": {
            "tags": []
          },
          "execution_count": 27
        }
      ]
    },
    {
      "cell_type": "code",
      "metadata": {
        "id": "L9HYzGRTBUHk",
        "outputId": "ddca2492-5e0b-430b-921a-939fa602867c"
      },
      "source": [
        "# Predicting R2 Score for the Train set\n",
        "from sklearn.metrics import r2_score\n",
        "y_pred_linear_train = regressor_linear.predict(X_train)\n",
        "r2_score_linear_train = r2_score(y_train, y_pred_linear_train)\n",
        "r2_score_linear_train"
      ],
      "execution_count": null,
      "outputs": [
        {
          "output_type": "execute_result",
          "data": {
            "text/plain": [
              "0.7435787589010061"
            ]
          },
          "metadata": {
            "tags": []
          },
          "execution_count": 28
        }
      ]
    },
    {
      "cell_type": "markdown",
      "metadata": {
        "id": "trtSHOduBUHl"
      },
      "source": [
        " ### Exercise-3 : Estimate R2 score from the Test dataset"
      ]
    },
    {
      "cell_type": "code",
      "metadata": {
        "id": "X5tSg9_gBUHl",
        "outputId": "9d8ffe72-0657-45c6-de12-c363cc168dfe"
      },
      "source": [
        "# Estimating R2 Score from the Test set\n",
        "\n",
        "y_pred_linear_test=regressor_linear.predict(X_test)\n",
        "r2_score_linear_test=r2_score(y_test,y_pred_linear_test)\n",
        "r2_score_linear_test"
      ],
      "execution_count": null,
      "outputs": [
        {
          "output_type": "execute_result",
          "data": {
            "text/plain": [
              "0.7133593313710349"
            ]
          },
          "metadata": {
            "tags": []
          },
          "execution_count": 29
        }
      ]
    },
    {
      "cell_type": "code",
      "metadata": {
        "id": "KHlosuqEBUHl",
        "outputId": "fcbfb27f-d6b2-4ea9-bc09-4cd865d8a9fd"
      },
      "source": [
        "# Calculating RMSE from the Test set results\n",
        "from sklearn.metrics import mean_squared_error\n",
        "rmse_linear = (np.sqrt(mean_squared_error(y_test, y_pred_linear_test)))\n",
        "rmse_linear"
      ],
      "execution_count": null,
      "outputs": [
        {
          "output_type": "execute_result",
          "data": {
            "text/plain": [
              "4.647279745724213"
            ]
          },
          "metadata": {
            "tags": []
          },
          "execution_count": 30
        }
      ]
    },
    {
      "cell_type": "markdown",
      "metadata": {
        "id": "Vsj2afcpBUHl"
      },
      "source": [
        " ### Exercise-4 : Take the mean of CV and print all the metrics in the following format. \n",
        " \n",
        " `Mean of CV (Cross-validation-score):  0.6984854476156042\n",
        " R2_score (train):  0.7435787589010061\n",
        " R2_score (test):  0.7133593313710349\n",
        " RMSE:  4.647279745724213`\n"
      ]
    },
    {
      "cell_type": "code",
      "metadata": {
        "id": "DNlQB6zuBUHm",
        "outputId": "b09ca397-6be3-4f33-aa0a-522f0d1e6b5a"
      },
      "source": [
        "print(\"Mean of CV: \",cv_linear.mean() )"
      ],
      "execution_count": null,
      "outputs": [
        {
          "output_type": "stream",
          "text": [
            "Mean of CV:  0.6984854476156042\n"
          ],
          "name": "stdout"
        }
      ]
    },
    {
      "cell_type": "markdown",
      "metadata": {
        "id": "10T0gW82BUHm"
      },
      "source": [
        "### <span id=\"8\"></span> Polynomial Regression - 2nd degree"
      ]
    },
    {
      "cell_type": "code",
      "metadata": {
        "id": "XJr7voPkBUHm",
        "outputId": "acad7741-d163-402d-886e-566df98a411e"
      },
      "source": [
        "from sklearn.preprocessing import PolynomialFeatures\n",
        "poly_reg = PolynomialFeatures(degree = 2)\n",
        "X_poly = poly_reg.fit_transform(X_train)\n",
        "poly_reg.fit(X_poly, y_train)\n",
        "regressor_poly2 = LinearRegression()\n",
        "regressor_poly2.fit(X_poly, y_train)"
      ],
      "execution_count": null,
      "outputs": [
        {
          "output_type": "execute_result",
          "data": {
            "text/plain": [
              "LinearRegression()"
            ]
          },
          "metadata": {
            "tags": []
          },
          "execution_count": 32
        }
      ]
    },
    {
      "cell_type": "code",
      "metadata": {
        "id": "dU_9Sue6BUHm",
        "outputId": "7173961a-af90-46d8-cb81-f4cdb1974bbf"
      },
      "source": [
        "from sklearn.metrics import r2_score\n",
        "\n",
        "# Predicting Cross Validation Score the Test set results\n",
        "cv_poly2 = cross_val_score(estimator = regressor_poly2, X = X_train, y = y_train, cv = 10)\n",
        "\n",
        "# Predicting R2 Score the Train set results\n",
        "y_pred_poly2_train = regressor_poly2.predict(poly_reg.fit_transform(X_train))\n",
        "r2_score_poly2_train = r2_score(y_train, y_pred_poly2_train)\n",
        "\n",
        "# Predicting R2 Score the Test set results\n",
        "y_pred_poly2_test = regressor_poly2.predict(poly_reg.fit_transform(X_test))\n",
        "r2_score_poly2_test = r2_score(y_test, y_pred_poly2_test)\n",
        "\n",
        "# Predicting RMSE the Test set results\n",
        "rmse_poly2 = (np.sqrt(mean_squared_error(y_test, y_pred_poly2_test)))\n",
        "print('CV: ', cv_poly2.mean())\n",
        "print('R2_score (train): ', r2_score_poly2_train)\n",
        "print('R2_score (test): ', r2_score_poly2_test)\n",
        "print(\"RMSE: \", rmse_poly2)"
      ],
      "execution_count": null,
      "outputs": [
        {
          "output_type": "stream",
          "text": [
            "CV:  0.6984854476156042\n",
            "R2_score (train):  0.9306558486360267\n",
            "R2_score (test):  0.7665134365149451\n",
            "RMSE:  4.194313211006324\n"
          ],
          "name": "stdout"
        }
      ]
    },
    {
      "cell_type": "markdown",
      "metadata": {
        "id": "wxZXsh8kBUHn"
      },
      "source": [
        "### <span id=\"9\"></span> Ridge Regression"
      ]
    },
    {
      "cell_type": "code",
      "metadata": {
        "id": "Nq82tVCMBUHn",
        "outputId": "be2cecca-fd5c-4fdb-f815-a12dcaca7292"
      },
      "source": [
        "from sklearn.linear_model import Ridge\n",
        "from sklearn.preprocessing import StandardScaler\n",
        "from sklearn.pipeline import Pipeline\n",
        "from sklearn.preprocessing import PolynomialFeatures\n",
        "\n",
        "steps = [\n",
        "    ('scalar', StandardScaler()),\n",
        "    ('poly', PolynomialFeatures(degree=2)),\n",
        "    ('model', Ridge(alpha=3.8, fit_intercept=True))\n",
        "]\n",
        "\n",
        "ridge_pipe = Pipeline(steps)\n",
        "ridge_pipe.fit(X_train, y_train)"
      ],
      "execution_count": null,
      "outputs": [
        {
          "output_type": "execute_result",
          "data": {
            "text/plain": [
              "Pipeline(steps=[('scalar', StandardScaler()), ('poly', PolynomialFeatures()),\n",
              "                ('model', Ridge(alpha=3.8))])"
            ]
          },
          "metadata": {
            "tags": []
          },
          "execution_count": 34
        }
      ]
    },
    {
      "cell_type": "code",
      "metadata": {
        "id": "VtpJ4v19BUHo",
        "outputId": "aaae337e-b51f-44e4-da8b-db7c37c14cd5"
      },
      "source": [
        "\n",
        "# Predicting Cross Validation Score the Test set results\n",
        "cv_ridge = cross_val_score(estimator = ridge_pipe, X = X_train, y = y_train.ravel(), cv = 10)\n",
        "\n",
        "# Predicting R2 Score the Test set results\n",
        "y_pred_ridge_train = ridge_pipe.predict(X_train)\n",
        "r2_score_ridge_train = r2_score(y_train, y_pred_ridge_train)\n",
        "\n",
        "# Predicting R2 Score the Test set results\n",
        "y_pred_ridge_test = ridge_pipe.predict(X_test)\n",
        "r2_score_ridge_test = r2_score(y_test, y_pred_ridge_test)\n",
        "\n",
        "# Predicting RMSE the Test set results\n",
        "rmse_ridge = (np.sqrt(mean_squared_error(y_test, y_pred_ridge_test)))\n",
        "print('CV: ', cv_ridge.mean())\n",
        "print('R2_score (train): ', r2_score_ridge_train)\n",
        "print('R2_score (test): ', r2_score_ridge_test)\n",
        "print(\"RMSE: \", rmse_ridge)"
      ],
      "execution_count": null,
      "outputs": [
        {
          "output_type": "stream",
          "text": [
            "CV:  0.7635629962138679\n",
            "R2_score (train):  0.9228176586388414\n",
            "R2_score (test):  0.891965455298589\n",
            "RMSE:  2.8530621664437565\n"
          ],
          "name": "stdout"
        }
      ]
    },
    {
      "cell_type": "markdown",
      "metadata": {
        "id": "mMJUKpn1BUHo"
      },
      "source": [
        "### <span id=\"10\"></span> Lasso Regression"
      ]
    },
    {
      "cell_type": "code",
      "metadata": {
        "id": "9jVK7vhoBUHo",
        "outputId": "13d58036-9907-42a9-a1e5-b63e63c5e00e"
      },
      "source": [
        "from sklearn.linear_model import Lasso\n",
        "from sklearn.preprocessing import StandardScaler\n",
        "from sklearn.pipeline import Pipeline\n",
        "from sklearn.preprocessing import PolynomialFeatures\n",
        "\n",
        "steps = [\n",
        "    ('scalar', StandardScaler()),\n",
        "    ('poly', PolynomialFeatures(degree=2)),\n",
        "    ('model', Lasso(alpha=0.012, fit_intercept=True, max_iter=3000))\n",
        "]\n",
        "\n",
        "lasso_pipe = Pipeline(steps)\n",
        "lasso_pipe.fit(X_train, y_train)"
      ],
      "execution_count": null,
      "outputs": [
        {
          "output_type": "execute_result",
          "data": {
            "text/plain": [
              "Pipeline(steps=[('scalar', StandardScaler()), ('poly', PolynomialFeatures()),\n",
              "                ('model', Lasso(alpha=0.012, max_iter=3000))])"
            ]
          },
          "metadata": {
            "tags": []
          },
          "execution_count": 36
        }
      ]
    },
    {
      "cell_type": "code",
      "metadata": {
        "id": "mL4YZ1WIBUHp",
        "outputId": "de3c8c5a-b7db-406e-8370-66726f48d8a6"
      },
      "source": [
        "# Predicting Cross Validation Score\n",
        "cv_lasso = cross_val_score(estimator = lasso_pipe, X = X_train, y = y_train, cv = 10)\n",
        "\n",
        "# Predicting R2 Score the Test set results\n",
        "y_pred_lasso_train = lasso_pipe.predict(X_train)\n",
        "r2_score_lasso_train = r2_score(y_train, y_pred_lasso_train)\n",
        "\n",
        "# Predicting R2 Score the Test set results\n",
        "y_pred_lasso_test = lasso_pipe.predict(X_test)\n",
        "r2_score_lasso_test = r2_score(y_test, y_pred_lasso_test)\n",
        "\n",
        "# Predicting RMSE the Test set results\n",
        "rmse_lasso = (np.sqrt(mean_squared_error(y_test, y_pred_lasso_test)))\n",
        "print('CV: ', cv_lasso.mean())\n",
        "print('R2_score (train): ', r2_score_lasso_train)\n",
        "print('R2_score (test): ', r2_score_lasso_test)\n",
        "print(\"RMSE: \", rmse_lasso)"
      ],
      "execution_count": null,
      "outputs": [
        {
          "output_type": "stream",
          "text": [
            "CV:  0.7505443182491558\n",
            "R2_score (train):  0.9234017201921203\n",
            "R2_score (test):  0.8950938075525039\n",
            "RMSE:  2.8114507112289018\n"
          ],
          "name": "stdout"
        }
      ]
    },
    {
      "cell_type": "markdown",
      "metadata": {
        "id": "ZzOWc2vnBUHp"
      },
      "source": [
        "### <span id=\"11\"></span> Support Vector Regression"
      ]
    },
    {
      "cell_type": "code",
      "metadata": {
        "id": "39BEqV1XBUHq"
      },
      "source": [
        "# Feature Scaling\n",
        "from sklearn.preprocessing import StandardScaler\n",
        "sc_X = StandardScaler()\n",
        "sc_y = StandardScaler()\n",
        "X_scaled = sc_X.fit_transform(X_train)\n",
        "y_scaled = sc_y.fit_transform(y_train.reshape(-1,1))"
      ],
      "execution_count": null,
      "outputs": []
    },
    {
      "cell_type": "code",
      "metadata": {
        "id": "q5KKxvYvBUHq",
        "outputId": "42911d65-14b3-48a8-8722-c96074c0b24a"
      },
      "source": [
        "# Fitting the SVR Model to the dataset\n",
        "from sklearn.svm import SVR\n",
        "regressor_svr = SVR(kernel = 'rbf', gamma = 'scale')\n",
        "regressor_svr.fit(X_scaled, y_scaled.ravel())"
      ],
      "execution_count": null,
      "outputs": [
        {
          "output_type": "execute_result",
          "data": {
            "text/plain": [
              "SVR()"
            ]
          },
          "metadata": {
            "tags": []
          },
          "execution_count": 39
        }
      ]
    },
    {
      "cell_type": "code",
      "metadata": {
        "id": "I4SfG3qgBUHq",
        "outputId": "8f16e4d7-b21d-4448-fdaf-d7602aabafa6"
      },
      "source": [
        "# Predicting Cross Validation Score\n",
        "cv_svr = cross_val_score(estimator = regressor_svr, X = X_scaled, y = y_scaled.ravel(), cv = 10)\n",
        "\n",
        "# Predicting R2 Score the Train set results\n",
        "y_pred_svr_train = sc_y.inverse_transform(regressor_svr.predict(sc_X.transform(X_train)))\n",
        "r2_score_svr_train = r2_score(y_train, y_pred_svr_train)\n",
        "\n",
        "# Predicting R2 Score the Test set results\n",
        "y_pred_svr_test = sc_y.inverse_transform(regressor_svr.predict(sc_X.transform(X_test)))\n",
        "r2_score_svr_test = r2_score(y_test, y_pred_svr_test)\n",
        "\n",
        "# Predicting RMSE the Test set results\n",
        "rmse_svr = (np.sqrt(mean_squared_error(y_test, y_pred_svr_test)))\n",
        "print('CV: ', cv_svr.mean())\n",
        "print('R2_score (train): ', r2_score_svr_train)\n",
        "print('R2_score (test): ', r2_score_svr_test)\n",
        "print(\"RMSE: \", rmse_svr)"
      ],
      "execution_count": null,
      "outputs": [
        {
          "output_type": "stream",
          "text": [
            "CV:  0.782600693247584\n",
            "R2_score (train):  0.8742715669147498\n",
            "R2_score (test):  0.8044070157723574\n",
            "RMSE:  3.8388977809328355\n"
          ],
          "name": "stdout"
        }
      ]
    },
    {
      "cell_type": "markdown",
      "metadata": {
        "id": "2ggcNg0yBUHr"
      },
      "source": [
        "### <span id=\"12\"></span> Decision Tree Regression"
      ]
    },
    {
      "cell_type": "markdown",
      "metadata": {
        "id": "ARKAZ-6FBUHr"
      },
      "source": [
        "### Excercise 5\n",
        "Create a decision tree regression model and print the cross validation score (CV), R2_score for training and test data and the root mean squared error (RMSE).\n",
        "\n",
        "Hint:\n",
        " 1. Then pass the training dataset to the algorithm to train it. We use the **.fit()** method\n",
        " 2. Then pass the testing data to the trained algorithm to predict the outcome. We use the **.predict()** method.\n",
        " 3.DecisionTreeRegressor is available at sklearn.tree module\n",
        " \n",
        "`   from sklearn.tree import DecisionTreeRegressor\n",
        " regressor_dt = DecisionTreeRegressor(random_state = 0)`\n"
      ]
    },
    {
      "cell_type": "markdown",
      "metadata": {
        "id": "V_iArOVzBUHs"
      },
      "source": [
        " #### Exercise-5a :  Create or train the model using the training data"
      ]
    },
    {
      "cell_type": "code",
      "metadata": {
        "id": "elusQdgxBUHs"
      },
      "source": [
        "# Fitting the Decision Tree Regression Model to the dataset\n"
      ],
      "execution_count": null,
      "outputs": []
    },
    {
      "cell_type": "markdown",
      "metadata": {
        "id": "k_SUX8B3BUHs"
      },
      "source": [
        " #### Exercise-5b : Print the scores from the 10-fold cross validated models"
      ]
    },
    {
      "cell_type": "code",
      "metadata": {
        "id": "U3lLp76SBUHs"
      },
      "source": [
        ""
      ],
      "execution_count": null,
      "outputs": []
    },
    {
      "cell_type": "markdown",
      "metadata": {
        "id": "grPvTGAPBUHt"
      },
      "source": [
        " #### Exercise-5c : Estimate R2 score from the training dataset"
      ]
    },
    {
      "cell_type": "code",
      "metadata": {
        "id": "1Otq5gLgBUHu"
      },
      "source": [
        "# Predicting R2 Score the Train set results\n"
      ],
      "execution_count": null,
      "outputs": []
    },
    {
      "cell_type": "markdown",
      "metadata": {
        "id": "YbU6GwfzBUHu"
      },
      "source": [
        " #### Exercise-5d : Estimate R2 score from the test dataset"
      ]
    },
    {
      "cell_type": "code",
      "metadata": {
        "id": "MfIC4kdMBUHu"
      },
      "source": [
        "# Predicting R2 Score the Test set results\n"
      ],
      "execution_count": null,
      "outputs": []
    },
    {
      "cell_type": "code",
      "metadata": {
        "collapsed": true,
        "jupyter": {
          "outputs_hidden": true
        },
        "id": "qj2ZNKZaBUHu",
        "outputId": "5f15a8be-e8c3-43eb-bf9f-a6cc5e62239a"
      },
      "source": [
        "# Predicting RMSE the Test set results\n",
        "rmse_dt = (np.sqrt(mean_squared_error(y_test, y_pred_dt_test)))\n",
        "print('CV of Decision Tree (DT) Model: ', cv_dt.mean())\n",
        "print('DT R2_score (train): ', r2_score_dt_train)\n",
        "print('DT R2_score (test): ', r2_score_dt_test)\n",
        "print(\"DT RMSE: \", rmse_dt)"
      ],
      "execution_count": null,
      "outputs": [
        {
          "output_type": "error",
          "ename": "NameError",
          "evalue": "name 'y_pred_dt_test' is not defined",
          "traceback": [
            "\u001b[0;31m---------------------------------------------------------------------------\u001b[0m",
            "\u001b[0;31mNameError\u001b[0m                                 Traceback (most recent call last)",
            "\u001b[0;32m<ipython-input-44-c4ebe647d73f>\u001b[0m in \u001b[0;36m<module>\u001b[0;34m\u001b[0m\n\u001b[1;32m      1\u001b[0m \u001b[0;31m# Predicting RMSE the Test set results\u001b[0m\u001b[0;34m\u001b[0m\u001b[0;34m\u001b[0m\u001b[0m\n\u001b[0;32m----> 2\u001b[0;31m \u001b[0mrmse_dt\u001b[0m \u001b[0;34m=\u001b[0m \u001b[0;34m(\u001b[0m\u001b[0mnp\u001b[0m\u001b[0;34m.\u001b[0m\u001b[0msqrt\u001b[0m\u001b[0;34m(\u001b[0m\u001b[0mmean_squared_error\u001b[0m\u001b[0;34m(\u001b[0m\u001b[0my_test\u001b[0m\u001b[0;34m,\u001b[0m \u001b[0my_pred_dt_test\u001b[0m\u001b[0;34m)\u001b[0m\u001b[0;34m)\u001b[0m\u001b[0;34m)\u001b[0m\u001b[0;34m\u001b[0m\u001b[0m\n\u001b[0m\u001b[1;32m      3\u001b[0m \u001b[0mprint\u001b[0m\u001b[0;34m(\u001b[0m\u001b[0;34m'CV of Decision Tree (DT) Model: '\u001b[0m\u001b[0;34m,\u001b[0m \u001b[0mcv_dt\u001b[0m\u001b[0;34m.\u001b[0m\u001b[0mmean\u001b[0m\u001b[0;34m(\u001b[0m\u001b[0;34m)\u001b[0m\u001b[0;34m)\u001b[0m\u001b[0;34m\u001b[0m\u001b[0m\n\u001b[1;32m      4\u001b[0m \u001b[0mprint\u001b[0m\u001b[0;34m(\u001b[0m\u001b[0;34m'DT R2_score (train): '\u001b[0m\u001b[0;34m,\u001b[0m \u001b[0mr2_score_dt_train\u001b[0m\u001b[0;34m)\u001b[0m\u001b[0;34m\u001b[0m\u001b[0m\n\u001b[1;32m      5\u001b[0m \u001b[0mprint\u001b[0m\u001b[0;34m(\u001b[0m\u001b[0;34m'DT R2_score (test): '\u001b[0m\u001b[0;34m,\u001b[0m \u001b[0mr2_score_dt_test\u001b[0m\u001b[0;34m)\u001b[0m\u001b[0;34m\u001b[0m\u001b[0m\n",
            "\u001b[0;31mNameError\u001b[0m: name 'y_pred_dt_test' is not defined"
          ]
        }
      ]
    },
    {
      "cell_type": "markdown",
      "metadata": {
        "id": "SoDdz0ukBUHu"
      },
      "source": [
        "#### Quiz\n",
        "**Based on the following data, this decision tree model overfit the data?**\n",
        "\n",
        "`CV of Decision Tree (DT) Model:  0.6177422304890111\n",
        "DT R2_score (train):  1.0\n",
        "DT R2_score (test):  0.5989917396644069\n",
        "DT RMSE:  5.496757417356451`\n",
        "\n",
        "a) Yes\n",
        "\n",
        "b) No"
      ]
    },
    {
      "cell_type": "markdown",
      "metadata": {
        "id": "sjN8NV_LBUHu"
      },
      "source": [
        "### <span id=\"13\"></span> Random Forest Regression "
      ]
    },
    {
      "cell_type": "code",
      "metadata": {
        "id": "49EpmA8kBUHv",
        "outputId": "e5c2be5c-c176-4217-dafb-cc0d0b56693f"
      },
      "source": [
        "# Fitting the Random Forest Regression to the dataset\n",
        "from sklearn.ensemble import RandomForestRegressor\n",
        "regressor_rf = RandomForestRegressor(n_estimators = 500, random_state = 0)\n",
        "regressor_rf.fit(X_train, y_train.ravel())"
      ],
      "execution_count": null,
      "outputs": [
        {
          "output_type": "execute_result",
          "data": {
            "text/plain": [
              "RandomForestRegressor(n_estimators=500, random_state=0)"
            ]
          },
          "metadata": {
            "tags": []
          },
          "execution_count": 45
        }
      ]
    },
    {
      "cell_type": "code",
      "metadata": {
        "id": "vUACE4HrBUHv",
        "outputId": "cbaa8981-687e-4bad-e475-5d3dc5cd59b7"
      },
      "source": [
        "from sklearn.metrics import r2_score\n",
        "\n",
        "# Predicting Cross Validation Score\n",
        "cv_rf = cross_val_score(estimator = regressor_rf, X = X_scaled, y = y_train.ravel(), cv = 10)\n",
        "\n",
        "# Predicting R2 Score the Train set results\n",
        "y_pred_rf_train = regressor_rf.predict(X_train)\n",
        "r2_score_rf_train = r2_score(y_train, y_pred_rf_train)\n",
        "\n",
        "# Predicting R2 Score the Test set results\n",
        "y_pred_rf_test = regressor_rf.predict(X_test)\n",
        "r2_score_rf_test = r2_score(y_test, y_pred_rf_test)\n",
        "\n",
        "# Predicting RMSE the Test set results\n",
        "rmse_rf = (np.sqrt(mean_squared_error(y_test, y_pred_rf_test)))\n",
        "print('CV: ', cv_rf.mean())\n",
        "print('R2_score (train): ', r2_score_rf_train)\n",
        "print('R2_score (test): ', r2_score_rf_test)\n",
        "print(\"RMSE: \", rmse_rf)"
      ],
      "execution_count": null,
      "outputs": [
        {
          "output_type": "stream",
          "text": [
            "CV:  0.8182118617652808\n",
            "R2_score (train):  0.9768407108850092\n",
            "R2_score (test):  0.8637486208767902\n",
            "RMSE:  3.204057971213175\n"
          ],
          "name": "stdout"
        }
      ]
    },
    {
      "cell_type": "code",
      "metadata": {
        "id": "yAd8naP1BUHv",
        "outputId": "87bc4939-61a8-4b38-f266-1828585961a2"
      },
      "source": [
        "X_test[1]"
      ],
      "execution_count": null,
      "outputs": [
        {
          "output_type": "execute_result",
          "data": {
            "text/plain": [
              "array([5.69175e+00, 0.00000e+00, 1.81000e+01, 0.00000e+00, 5.83000e-01,\n",
              "       6.11400e+00, 7.98000e+01, 3.54590e+00, 2.40000e+01, 6.66000e+02,\n",
              "       2.02000e+01, 3.92680e+02, 1.49800e+01])"
            ]
          },
          "metadata": {
            "tags": []
          },
          "execution_count": 50
        }
      ]
    },
    {
      "cell_type": "code",
      "metadata": {
        "id": "GpDcyHnwBUHx",
        "outputId": "c3d163cd-5dfe-49ee-8c6d-ec01ce4d1fc0"
      },
      "source": [
        "y_pred_rf_test1=regressor_rf.predict(X_test[1:2])\n",
        "y_pred_rf_test1"
      ],
      "execution_count": null,
      "outputs": [
        {
          "output_type": "execute_result",
          "data": {
            "text/plain": [
              "array([19.0692])"
            ]
          },
          "metadata": {
            "tags": []
          },
          "execution_count": 63
        }
      ]
    },
    {
      "cell_type": "code",
      "metadata": {
        "id": "v-THzTGnBUHx",
        "outputId": "ade57689-5c42-45fb-e544-3d7ecdab7d2c"
      },
      "source": [
        "a_home_pred=pd.DataFrame(X_test[1:2], columns = boston_dataset.feature_names)\n",
        "a_home_pred"
      ],
      "execution_count": null,
      "outputs": [
        {
          "output_type": "execute_result",
          "data": {
            "text/html": [
              "<div>\n",
              "<style scoped>\n",
              "    .dataframe tbody tr th:only-of-type {\n",
              "        vertical-align: middle;\n",
              "    }\n",
              "\n",
              "    .dataframe tbody tr th {\n",
              "        vertical-align: top;\n",
              "    }\n",
              "\n",
              "    .dataframe thead th {\n",
              "        text-align: right;\n",
              "    }\n",
              "</style>\n",
              "<table border=\"1\" class=\"dataframe\">\n",
              "  <thead>\n",
              "    <tr style=\"text-align: right;\">\n",
              "      <th></th>\n",
              "      <th>CRIM</th>\n",
              "      <th>ZN</th>\n",
              "      <th>INDUS</th>\n",
              "      <th>CHAS</th>\n",
              "      <th>NOX</th>\n",
              "      <th>RM</th>\n",
              "      <th>AGE</th>\n",
              "      <th>DIS</th>\n",
              "      <th>RAD</th>\n",
              "      <th>TAX</th>\n",
              "      <th>PTRATIO</th>\n",
              "      <th>B</th>\n",
              "      <th>LSTAT</th>\n",
              "    </tr>\n",
              "  </thead>\n",
              "  <tbody>\n",
              "    <tr>\n",
              "      <th>0</th>\n",
              "      <td>5.69175</td>\n",
              "      <td>0.0</td>\n",
              "      <td>18.1</td>\n",
              "      <td>0.0</td>\n",
              "      <td>0.583</td>\n",
              "      <td>6.114</td>\n",
              "      <td>79.8</td>\n",
              "      <td>3.5459</td>\n",
              "      <td>24.0</td>\n",
              "      <td>666.0</td>\n",
              "      <td>20.2</td>\n",
              "      <td>392.68</td>\n",
              "      <td>14.98</td>\n",
              "    </tr>\n",
              "  </tbody>\n",
              "</table>\n",
              "</div>"
            ],
            "text/plain": [
              "      CRIM   ZN  INDUS  CHAS    NOX     RM   AGE     DIS   RAD    TAX  \\\n",
              "0  5.69175  0.0   18.1   0.0  0.583  6.114  79.8  3.5459  24.0  666.0   \n",
              "\n",
              "   PTRATIO       B  LSTAT  \n",
              "0     20.2  392.68  14.98  "
            ]
          },
          "metadata": {
            "tags": []
          },
          "execution_count": 68
        }
      ]
    },
    {
      "cell_type": "code",
      "metadata": {
        "id": "va7QZ8uTBUHx",
        "outputId": "74352c82-6c30-423f-9d8b-ef6c1c19a636"
      },
      "source": [
        "a_home_pred['MEDV']=y_pred_rf_test1\n",
        "a_home_pred"
      ],
      "execution_count": null,
      "outputs": [
        {
          "output_type": "execute_result",
          "data": {
            "text/html": [
              "<div>\n",
              "<style scoped>\n",
              "    .dataframe tbody tr th:only-of-type {\n",
              "        vertical-align: middle;\n",
              "    }\n",
              "\n",
              "    .dataframe tbody tr th {\n",
              "        vertical-align: top;\n",
              "    }\n",
              "\n",
              "    .dataframe thead th {\n",
              "        text-align: right;\n",
              "    }\n",
              "</style>\n",
              "<table border=\"1\" class=\"dataframe\">\n",
              "  <thead>\n",
              "    <tr style=\"text-align: right;\">\n",
              "      <th></th>\n",
              "      <th>CRIM</th>\n",
              "      <th>ZN</th>\n",
              "      <th>INDUS</th>\n",
              "      <th>CHAS</th>\n",
              "      <th>NOX</th>\n",
              "      <th>RM</th>\n",
              "      <th>AGE</th>\n",
              "      <th>DIS</th>\n",
              "      <th>RAD</th>\n",
              "      <th>TAX</th>\n",
              "      <th>PTRATIO</th>\n",
              "      <th>B</th>\n",
              "      <th>LSTAT</th>\n",
              "      <th>MEDV</th>\n",
              "    </tr>\n",
              "  </thead>\n",
              "  <tbody>\n",
              "    <tr>\n",
              "      <th>0</th>\n",
              "      <td>5.69175</td>\n",
              "      <td>0.0</td>\n",
              "      <td>18.1</td>\n",
              "      <td>0.0</td>\n",
              "      <td>0.583</td>\n",
              "      <td>6.114</td>\n",
              "      <td>79.8</td>\n",
              "      <td>3.5459</td>\n",
              "      <td>24.0</td>\n",
              "      <td>666.0</td>\n",
              "      <td>20.2</td>\n",
              "      <td>392.68</td>\n",
              "      <td>14.98</td>\n",
              "      <td>19.0692</td>\n",
              "    </tr>\n",
              "  </tbody>\n",
              "</table>\n",
              "</div>"
            ],
            "text/plain": [
              "      CRIM   ZN  INDUS  CHAS    NOX     RM   AGE     DIS   RAD    TAX  \\\n",
              "0  5.69175  0.0   18.1   0.0  0.583  6.114  79.8  3.5459  24.0  666.0   \n",
              "\n",
              "   PTRATIO       B  LSTAT     MEDV  \n",
              "0     20.2  392.68  14.98  19.0692  "
            ]
          },
          "metadata": {
            "tags": []
          },
          "execution_count": 67
        }
      ]
    },
    {
      "cell_type": "markdown",
      "metadata": {
        "id": "Lyea2vRpBUHy"
      },
      "source": [
        "## <span id=\"14\"></span> 5. Measuring the Error"
      ]
    },
    {
      "cell_type": "code",
      "metadata": {
        "id": "ckeTkpnEBUHy"
      },
      "source": [
        "models = [('Linear Regression', rmse_linear, r2_score_linear_train, r2_score_linear_test, cv_linear.mean()),\n",
        "          ('Polynomial Regression (2nd)', rmse_poly2, r2_score_poly2_train, r2_score_poly2_test, cv_poly2.mean()),\n",
        "          ('Ridge Regression', rmse_ridge, r2_score_ridge_train, r2_score_ridge_test, cv_ridge.mean()),\n",
        "          ('Lasso Regression', rmse_lasso, r2_score_lasso_train, r2_score_lasso_test, cv_lasso.mean()),\n",
        "          ('Support Vector Regression', rmse_svr, r2_score_svr_train, r2_score_svr_test, cv_svr.mean()),\n",
        "          ('Decision Tree Regression', rmse_dt, r2_score_dt_train, r2_score_dt_test, cv_dt.mean()),\n",
        "          ('Random Forest Regression', rmse_rf, r2_score_rf_train, r2_score_rf_test, cv_rf.mean())   \n",
        "         ]"
      ],
      "execution_count": null,
      "outputs": []
    },
    {
      "cell_type": "code",
      "metadata": {
        "id": "qCMWqDqrBUHy"
      },
      "source": [
        "predict = pd.DataFrame(data = models, columns=['Model', 'RMSE', 'R2_Score(training)', 'R2_Score(test)', 'Cross-Validation'])\n",
        "predict"
      ],
      "execution_count": null,
      "outputs": []
    },
    {
      "cell_type": "markdown",
      "metadata": {
        "id": "ni5wkBgZBUHy"
      },
      "source": [
        "### <span id=\"15\"></span> Visualizing Model Performance"
      ]
    },
    {
      "cell_type": "code",
      "metadata": {
        "id": "Dt9Bzwu0BUHy"
      },
      "source": [
        "f, axe = plt.subplots(1,1, figsize=(18,6))\n",
        "\n",
        "predict.sort_values(by=['Cross-Validation'], ascending=False, inplace=True)\n",
        "\n",
        "sns.barplot(x='Cross-Validation', y='Model', data = predict, ax = axe)\n",
        "#axes[0].set(xlabel='Region', ylabel='Charges')\n",
        "axe.set_xlabel('Cross-Validaton Score', size=16)\n",
        "axe.set_ylabel('Model')\n",
        "axe.set_xlim(0,1.0)\n",
        "plt.show()"
      ],
      "execution_count": null,
      "outputs": []
    },
    {
      "cell_type": "code",
      "metadata": {
        "id": "J507GrKyBUHz"
      },
      "source": [
        "f, axes = plt.subplots(2,1, figsize=(14,10))\n",
        "\n",
        "predict.sort_values(by=['R2_Score(training)'], ascending=False, inplace=True)\n",
        "\n",
        "sns.barplot(x='R2_Score(training)', y='Model', data = predict, palette='Blues_d', ax = axes[0])\n",
        "#axes[0].set(xlabel='Region', ylabel='Charges')\n",
        "axes[0].set_xlabel('R2 Score (Training)', size=16)\n",
        "axes[0].set_ylabel('Model')\n",
        "axes[0].set_xlim(0,1.0)\n",
        "\n",
        "predict.sort_values(by=['R2_Score(test)'], ascending=False, inplace=True)\n",
        "\n",
        "sns.barplot(x='R2_Score(test)', y='Model', data = predict, palette='Reds_d', ax = axes[1])\n",
        "#axes[0].set(xlabel='Region', ylabel='Charges')\n",
        "axes[1].set_xlabel('R2 Score (Test)', size=16)\n",
        "axes[1].set_ylabel('Model')\n",
        "axes[1].set_xlim(0,1.0)\n",
        "\n",
        "plt.show()"
      ],
      "execution_count": null,
      "outputs": []
    },
    {
      "cell_type": "code",
      "metadata": {
        "id": "e49A62q3BUHz"
      },
      "source": [
        "predict.sort_values(by=['RMSE'], ascending=False, inplace=True)\n",
        "\n",
        "f, axe = plt.subplots(1,1, figsize=(18,6))\n",
        "sns.barplot(x='Model', y='RMSE', data=predict, ax = axe)\n",
        "axe.set_xlabel('Model', size=16)\n",
        "axe.set_ylabel('RMSE', size=16)\n",
        "\n",
        "plt.show()"
      ],
      "execution_count": null,
      "outputs": []
    }
  ]
}